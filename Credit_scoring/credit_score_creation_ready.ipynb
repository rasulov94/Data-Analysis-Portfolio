{
 "cells": [
  {
   "cell_type": "markdown",
   "metadata": {},
   "source": [
    "### Step 1. Open the data file and have a look at the general information. "
   ]
  },
  {
   "cell_type": "code",
   "execution_count": 1,
   "metadata": {},
   "outputs": [
    {
     "name": "stdout",
     "output_type": "stream",
     "text": [
      "<class 'pandas.core.frame.DataFrame'>\n",
      "RangeIndex: 21525 entries, 0 to 21524\n",
      "Data columns (total 12 columns):\n",
      "children            21525 non-null int64\n",
      "days_employed       19351 non-null float64\n",
      "dob_years           21525 non-null int64\n",
      "education           21525 non-null object\n",
      "education_id        21525 non-null int64\n",
      "family_status       21525 non-null object\n",
      "family_status_id    21525 non-null int64\n",
      "gender              21525 non-null object\n",
      "income_type         21525 non-null object\n",
      "debt                21525 non-null int64\n",
      "total_income        19351 non-null float64\n",
      "purpose             21525 non-null object\n",
      "dtypes: float64(2), int64(5), object(5)\n",
      "memory usage: 2.0+ MB\n"
     ]
    }
   ],
   "source": [
    "import pandas as pd\n",
    "credit_scoring = pd.read_csv('/datasets/credit_scoring_eng.csv')\n",
    "credit_scoring.info()"
   ]
  },
  {
   "cell_type": "code",
   "execution_count": 2,
   "metadata": {},
   "outputs": [
    {
     "data": {
      "text/plain": [
       "(21525, 12)"
      ]
     },
     "execution_count": 2,
     "metadata": {},
     "output_type": "execute_result"
    }
   ],
   "source": [
    "credit_scoring.shape"
   ]
  },
  {
   "cell_type": "markdown",
   "metadata": {},
   "source": [
    "- There are 21525 rows and 12 columns in our dataframe. Two columns `days_employed` and `total_income` have missing values (19351 rows). We have categorical(e.g. `education`), quantitative(e.g. `total_income`) and Boolean-logical (e.g. `debt`) variables. "
   ]
  },
  {
   "cell_type": "code",
   "execution_count": 3,
   "metadata": {},
   "outputs": [
    {
     "data": {
      "text/html": [
       "<div>\n",
       "<style scoped>\n",
       "    .dataframe tbody tr th:only-of-type {\n",
       "        vertical-align: middle;\n",
       "    }\n",
       "\n",
       "    .dataframe tbody tr th {\n",
       "        vertical-align: top;\n",
       "    }\n",
       "\n",
       "    .dataframe thead th {\n",
       "        text-align: right;\n",
       "    }\n",
       "</style>\n",
       "<table border=\"1\" class=\"dataframe\">\n",
       "  <thead>\n",
       "    <tr style=\"text-align: right;\">\n",
       "      <th></th>\n",
       "      <th>education</th>\n",
       "      <th>family_status</th>\n",
       "      <th>gender</th>\n",
       "      <th>income_type</th>\n",
       "      <th>purpose</th>\n",
       "    </tr>\n",
       "  </thead>\n",
       "  <tbody>\n",
       "    <tr>\n",
       "      <td>count</td>\n",
       "      <td>21525</td>\n",
       "      <td>21525</td>\n",
       "      <td>21525</td>\n",
       "      <td>21525</td>\n",
       "      <td>21525</td>\n",
       "    </tr>\n",
       "    <tr>\n",
       "      <td>unique</td>\n",
       "      <td>15</td>\n",
       "      <td>5</td>\n",
       "      <td>3</td>\n",
       "      <td>8</td>\n",
       "      <td>38</td>\n",
       "    </tr>\n",
       "    <tr>\n",
       "      <td>top</td>\n",
       "      <td>secondary education</td>\n",
       "      <td>married</td>\n",
       "      <td>F</td>\n",
       "      <td>employee</td>\n",
       "      <td>wedding ceremony</td>\n",
       "    </tr>\n",
       "    <tr>\n",
       "      <td>freq</td>\n",
       "      <td>13750</td>\n",
       "      <td>12380</td>\n",
       "      <td>14236</td>\n",
       "      <td>11119</td>\n",
       "      <td>797</td>\n",
       "    </tr>\n",
       "  </tbody>\n",
       "</table>\n",
       "</div>"
      ],
      "text/plain": [
       "                  education family_status gender income_type           purpose\n",
       "count                 21525         21525  21525       21525             21525\n",
       "unique                   15             5      3           8                38\n",
       "top     secondary education       married      F    employee  wedding ceremony\n",
       "freq                  13750         12380  14236       11119               797"
      ]
     },
     "execution_count": 3,
     "metadata": {},
     "output_type": "execute_result"
    }
   ],
   "source": [
    "# Stats for string data\n",
    "import numpy as np\n",
    "credit_scoring.describe(include=np.object)"
   ]
  },
  {
   "cell_type": "markdown",
   "metadata": {},
   "source": [
    "- According to the statistics above, majority of the customers have secondary education as their highest level of education, are married and female individuals. Customers borrow money mainly for wedding purposes at first glance, but still it is weird that they are only 797 individuals with such purpose and they are at the top, we will dig into that in our further analysis. "
   ]
  },
  {
   "cell_type": "code",
   "execution_count": 4,
   "metadata": {
    "scrolled": true
   },
   "outputs": [
    {
     "data": {
      "text/html": [
       "<div>\n",
       "<style scoped>\n",
       "    .dataframe tbody tr th:only-of-type {\n",
       "        vertical-align: middle;\n",
       "    }\n",
       "\n",
       "    .dataframe tbody tr th {\n",
       "        vertical-align: top;\n",
       "    }\n",
       "\n",
       "    .dataframe thead th {\n",
       "        text-align: right;\n",
       "    }\n",
       "</style>\n",
       "<table border=\"1\" class=\"dataframe\">\n",
       "  <thead>\n",
       "    <tr style=\"text-align: right;\">\n",
       "      <th></th>\n",
       "      <th>children</th>\n",
       "      <th>days_employed</th>\n",
       "      <th>dob_years</th>\n",
       "      <th>education</th>\n",
       "      <th>education_id</th>\n",
       "      <th>family_status</th>\n",
       "      <th>family_status_id</th>\n",
       "      <th>gender</th>\n",
       "      <th>income_type</th>\n",
       "      <th>debt</th>\n",
       "      <th>total_income</th>\n",
       "      <th>purpose</th>\n",
       "    </tr>\n",
       "  </thead>\n",
       "  <tbody>\n",
       "    <tr>\n",
       "      <td>0</td>\n",
       "      <td>1</td>\n",
       "      <td>-8437.673028</td>\n",
       "      <td>42</td>\n",
       "      <td>bachelor's degree</td>\n",
       "      <td>0</td>\n",
       "      <td>married</td>\n",
       "      <td>0</td>\n",
       "      <td>F</td>\n",
       "      <td>employee</td>\n",
       "      <td>0</td>\n",
       "      <td>40620.102</td>\n",
       "      <td>purchase of the house</td>\n",
       "    </tr>\n",
       "    <tr>\n",
       "      <td>1</td>\n",
       "      <td>1</td>\n",
       "      <td>-4024.803754</td>\n",
       "      <td>36</td>\n",
       "      <td>secondary education</td>\n",
       "      <td>1</td>\n",
       "      <td>married</td>\n",
       "      <td>0</td>\n",
       "      <td>F</td>\n",
       "      <td>employee</td>\n",
       "      <td>0</td>\n",
       "      <td>17932.802</td>\n",
       "      <td>car purchase</td>\n",
       "    </tr>\n",
       "  </tbody>\n",
       "</table>\n",
       "</div>"
      ],
      "text/plain": [
       "   children  days_employed  dob_years            education  education_id  \\\n",
       "0         1   -8437.673028         42    bachelor's degree             0   \n",
       "1         1   -4024.803754         36  secondary education             1   \n",
       "\n",
       "  family_status  family_status_id gender income_type  debt  total_income  \\\n",
       "0       married                 0      F    employee     0     40620.102   \n",
       "1       married                 0      F    employee     0     17932.802   \n",
       "\n",
       "                 purpose  \n",
       "0  purchase of the house  \n",
       "1           car purchase  "
      ]
     },
     "execution_count": 4,
     "metadata": {},
     "output_type": "execute_result"
    }
   ],
   "source": [
    "# Top 2 rows of the data\n",
    "credit_scoring.head(2)"
   ]
  },
  {
   "cell_type": "code",
   "execution_count": 5,
   "metadata": {},
   "outputs": [
    {
     "data": {
      "text/html": [
       "<div>\n",
       "<style scoped>\n",
       "    .dataframe tbody tr th:only-of-type {\n",
       "        vertical-align: middle;\n",
       "    }\n",
       "\n",
       "    .dataframe tbody tr th {\n",
       "        vertical-align: top;\n",
       "    }\n",
       "\n",
       "    .dataframe thead th {\n",
       "        text-align: right;\n",
       "    }\n",
       "</style>\n",
       "<table border=\"1\" class=\"dataframe\">\n",
       "  <thead>\n",
       "    <tr style=\"text-align: right;\">\n",
       "      <th></th>\n",
       "      <th>children</th>\n",
       "      <th>days_employed</th>\n",
       "      <th>dob_years</th>\n",
       "      <th>education</th>\n",
       "      <th>education_id</th>\n",
       "      <th>family_status</th>\n",
       "      <th>family_status_id</th>\n",
       "      <th>gender</th>\n",
       "      <th>income_type</th>\n",
       "      <th>debt</th>\n",
       "      <th>total_income</th>\n",
       "      <th>purpose</th>\n",
       "    </tr>\n",
       "  </thead>\n",
       "  <tbody>\n",
       "    <tr>\n",
       "      <td>21523</td>\n",
       "      <td>3</td>\n",
       "      <td>-3112.481705</td>\n",
       "      <td>38</td>\n",
       "      <td>secondary education</td>\n",
       "      <td>1</td>\n",
       "      <td>married</td>\n",
       "      <td>0</td>\n",
       "      <td>M</td>\n",
       "      <td>employee</td>\n",
       "      <td>1</td>\n",
       "      <td>39054.888</td>\n",
       "      <td>buying my own car</td>\n",
       "    </tr>\n",
       "    <tr>\n",
       "      <td>21524</td>\n",
       "      <td>2</td>\n",
       "      <td>-1984.507589</td>\n",
       "      <td>40</td>\n",
       "      <td>secondary education</td>\n",
       "      <td>1</td>\n",
       "      <td>married</td>\n",
       "      <td>0</td>\n",
       "      <td>F</td>\n",
       "      <td>employee</td>\n",
       "      <td>0</td>\n",
       "      <td>13127.587</td>\n",
       "      <td>to buy a car</td>\n",
       "    </tr>\n",
       "  </tbody>\n",
       "</table>\n",
       "</div>"
      ],
      "text/plain": [
       "       children  days_employed  dob_years            education  education_id  \\\n",
       "21523         3   -3112.481705         38  secondary education             1   \n",
       "21524         2   -1984.507589         40  secondary education             1   \n",
       "\n",
       "      family_status  family_status_id gender income_type  debt  total_income  \\\n",
       "21523       married                 0      M    employee     1     39054.888   \n",
       "21524       married                 0      F    employee     0     13127.587   \n",
       "\n",
       "                 purpose  \n",
       "21523  buying my own car  \n",
       "21524       to buy a car  "
      ]
     },
     "execution_count": 5,
     "metadata": {},
     "output_type": "execute_result"
    }
   ],
   "source": [
    "# Last 2 rows of the data\n",
    "credit_scoring.tail(2)"
   ]
  },
  {
   "cell_type": "markdown",
   "metadata": {},
   "source": [
    "- To this point,we can observe suspicious values in `days_employed` column. The rows have negative values which are illogical to the number of days employed."
   ]
  },
  {
   "cell_type": "markdown",
   "metadata": {},
   "source": [
    "### Step 2. Data preprocessing"
   ]
  },
  {
   "cell_type": "markdown",
   "metadata": {},
   "source": [
    "### Processing missing values"
   ]
  },
  {
   "cell_type": "code",
   "execution_count": 6,
   "metadata": {},
   "outputs": [
    {
     "data": {
      "text/plain": [
       "children               0\n",
       "days_employed       2174\n",
       "dob_years              0\n",
       "education              0\n",
       "education_id           0\n",
       "family_status          0\n",
       "family_status_id       0\n",
       "gender                 0\n",
       "income_type            0\n",
       "debt                   0\n",
       "total_income        2174\n",
       "purpose                0\n",
       "dtype: int64"
      ]
     },
     "execution_count": 6,
     "metadata": {},
     "output_type": "execute_result"
    }
   ],
   "source": [
    "# missing values of dataset\n",
    "credit_scoring.isnull().sum()"
   ]
  },
  {
   "cell_type": "code",
   "execution_count": 7,
   "metadata": {},
   "outputs": [
    {
     "name": "stdout",
     "output_type": "stream",
     "text": [
      "children             0.00\n",
      "days_employed       11.23\n",
      "dob_years            0.00\n",
      "education            0.00\n",
      "education_id         0.00\n",
      "family_status        0.00\n",
      "family_status_id     0.00\n",
      "gender               0.00\n",
      "income_type          0.00\n",
      "debt                 0.00\n",
      "total_income        11.23\n",
      "purpose              0.00\n",
      "dtype: float64\n"
     ]
    }
   ],
   "source": [
    "# to see the weight of missing values to total data\n",
    "missing = credit_scoring.isnull().sum()\n",
    "total = credit_scoring.notnull().sum()\n",
    "weight  = ((missing / total)*100).round(2)\n",
    "print(weight)"
   ]
  },
  {
   "cell_type": "code",
   "execution_count": 8,
   "metadata": {},
   "outputs": [
    {
     "data": {
      "text/html": [
       "<div>\n",
       "<style scoped>\n",
       "    .dataframe tbody tr th:only-of-type {\n",
       "        vertical-align: middle;\n",
       "    }\n",
       "\n",
       "    .dataframe tbody tr th {\n",
       "        vertical-align: top;\n",
       "    }\n",
       "\n",
       "    .dataframe thead th {\n",
       "        text-align: right;\n",
       "    }\n",
       "</style>\n",
       "<table border=\"1\" class=\"dataframe\">\n",
       "  <thead>\n",
       "    <tr style=\"text-align: right;\">\n",
       "      <th></th>\n",
       "      <th>children</th>\n",
       "      <th>days_employed</th>\n",
       "      <th>dob_years</th>\n",
       "      <th>education</th>\n",
       "      <th>education_id</th>\n",
       "      <th>family_status</th>\n",
       "      <th>family_status_id</th>\n",
       "      <th>gender</th>\n",
       "      <th>income_type</th>\n",
       "      <th>debt</th>\n",
       "      <th>total_income</th>\n",
       "      <th>purpose</th>\n",
       "    </tr>\n",
       "  </thead>\n",
       "  <tbody>\n",
       "    <tr>\n",
       "      <td>12</td>\n",
       "      <td>0</td>\n",
       "      <td>NaN</td>\n",
       "      <td>65</td>\n",
       "      <td>secondary education</td>\n",
       "      <td>1</td>\n",
       "      <td>civil partnership</td>\n",
       "      <td>1</td>\n",
       "      <td>M</td>\n",
       "      <td>retiree</td>\n",
       "      <td>0</td>\n",
       "      <td>NaN</td>\n",
       "      <td>to have a wedding</td>\n",
       "    </tr>\n",
       "    <tr>\n",
       "      <td>26</td>\n",
       "      <td>0</td>\n",
       "      <td>NaN</td>\n",
       "      <td>41</td>\n",
       "      <td>secondary education</td>\n",
       "      <td>1</td>\n",
       "      <td>married</td>\n",
       "      <td>0</td>\n",
       "      <td>M</td>\n",
       "      <td>civil servant</td>\n",
       "      <td>0</td>\n",
       "      <td>NaN</td>\n",
       "      <td>education</td>\n",
       "    </tr>\n",
       "  </tbody>\n",
       "</table>\n",
       "</div>"
      ],
      "text/plain": [
       "    children  days_employed  dob_years            education  education_id  \\\n",
       "12         0            NaN         65  secondary education             1   \n",
       "26         0            NaN         41  secondary education             1   \n",
       "\n",
       "        family_status  family_status_id gender    income_type  debt  \\\n",
       "12  civil partnership                 1      M        retiree     0   \n",
       "26            married                 0      M  civil servant     0   \n",
       "\n",
       "    total_income            purpose  \n",
       "12           NaN  to have a wedding  \n",
       "26           NaN          education  "
      ]
     },
     "execution_count": 8,
     "metadata": {},
     "output_type": "execute_result"
    }
   ],
   "source": [
    "# to have an overview of missing value\n",
    "credit_scoring[credit_scoring['days_employed'].isnull()].head(2)"
   ]
  },
  {
   "cell_type": "markdown",
   "metadata": {},
   "source": [
    "- `days_employed` missing values are missing from `total_income` variable as well and they constitte 11% of total data. Besides, `total_income` has relation with `income_type` column. Thus we can fill the missing values of `total_income` with the average `total_income` according to their `income type`. This approach gives us more accurate data. Round() method is used for quantitative variable to 2 digits."
   ]
  },
  {
   "cell_type": "markdown",
   "metadata": {},
   "source": [
    "#### `days_employed` Variable. Number of days employed"
   ]
  },
  {
   "cell_type": "code",
   "execution_count": 9,
   "metadata": {},
   "outputs": [
    {
     "data": {
      "text/plain": [
       "count     19351.00\n",
       "mean      63046.50\n",
       "std      140827.31\n",
       "min      -18388.95\n",
       "25%       -2747.42\n",
       "50%       -1203.37\n",
       "75%        -291.10\n",
       "max      401755.40\n",
       "Name: days_employed, dtype: float64"
      ]
     },
     "execution_count": 9,
     "metadata": {},
     "output_type": "execute_result"
    }
   ],
   "source": [
    "# stats of the days employed\n",
    "credit_scoring['days_employed'].describe().round(2)"
   ]
  },
  {
   "cell_type": "markdown",
   "metadata": {},
   "source": [
    "- First, we are going to make all the values absolute as we have seen above, some values of `days_employed` column were negative."
   ]
  },
  {
   "cell_type": "code",
   "execution_count": 10,
   "metadata": {},
   "outputs": [
    {
     "name": "stdout",
     "output_type": "stream",
     "text": [
      "count     19351.00\n",
      "mean      66914.73\n",
      "std      139030.88\n",
      "min          24.14\n",
      "25%         927.01\n",
      "50%        2194.22\n",
      "75%        5537.88\n",
      "max      401755.40\n",
      "Name: days_employed, dtype: float64\n",
      "Employment in years: 1101\n"
     ]
    }
   ],
   "source": [
    "# Negative values to absolute\n",
    "credit_scoring['days_employed'] = abs(credit_scoring['days_employed'])\n",
    "print(credit_scoring['days_employed'].describe().round(2))\n",
    "days_employed_median = credit_scoring['days_employed'].median()\n",
    "days_employed_max = credit_scoring['days_employed'].max()\n",
    "print('Employment in years: {:.0f}'.format(days_employed_max / 365))"
   ]
  },
  {
   "cell_type": "markdown",
   "metadata": {},
   "source": [
    " - 1,100 years of employment? There is clearly techinal mistake maybe the definition of the column is not 'days' but other measurement, as well as outliers which push the mean(669,14) up. We will fill it with the median (2,194) since there are significant outliers. "
   ]
  },
  {
   "cell_type": "code",
   "execution_count": 11,
   "metadata": {},
   "outputs": [
    {
     "data": {
      "text/plain": [
       "count    19351.00\n",
       "mean      4641.64\n",
       "std       5355.96\n",
       "min         24.14\n",
       "25%        927.01\n",
       "50%       2194.22\n",
       "75%       5537.88\n",
       "max      18388.95\n",
       "Name: days_employed, dtype: float64"
      ]
     },
     "execution_count": 11,
     "metadata": {},
     "output_type": "execute_result"
    }
   ],
   "source": [
    "# Dividing giant numbers by 24, converting to days\n",
    "to_days =  credit_scoring.loc[(credit_scoring.days_employed > 22000),'days_employed'] / 24\n",
    "credit_scoring.loc[(credit_scoring.days_employed > 22000),'days_employed'] = to_days\n",
    "credit_scoring['days_employed'].describe().round(2)"
   ]
  },
  {
   "cell_type": "markdown",
   "metadata": {},
   "source": [
    "<font color=\"orange\">  - By taking into account our oldest customer (75 years old) we assume that the maximum years of employment could be 60 years = 22,000 days roughly. So if `days_employed` is bigger than this value, it will be divided by 24, converting them to days. Now the max = 18,388 days(50 years) which is still doubtful but possible. </font>"
   ]
  },
  {
   "cell_type": "code",
   "execution_count": 12,
   "metadata": {},
   "outputs": [
    {
     "name": "stdout",
     "output_type": "stream",
     "text": [
      "<class 'pandas.core.frame.DataFrame'>\n",
      "RangeIndex: 21525 entries, 0 to 21524\n",
      "Data columns (total 12 columns):\n",
      "children            21525 non-null int64\n",
      "days_employed       21525 non-null float64\n",
      "dob_years           21525 non-null int64\n",
      "education           21525 non-null object\n",
      "education_id        21525 non-null int64\n",
      "family_status       21525 non-null object\n",
      "family_status_id    21525 non-null int64\n",
      "gender              21525 non-null object\n",
      "income_type         21525 non-null object\n",
      "debt                21525 non-null int64\n",
      "total_income        19351 non-null float64\n",
      "purpose             21525 non-null object\n",
      "dtypes: float64(2), int64(5), object(5)\n",
      "memory usage: 2.0+ MB\n"
     ]
    },
    {
     "data": {
      "text/plain": [
       "0"
      ]
     },
     "execution_count": 12,
     "metadata": {},
     "output_type": "execute_result"
    }
   ],
   "source": [
    "# Filling missing values with income_type group days_employed average\n",
    "credit_scoring[\"days_employed\"] = credit_scoring.groupby('income_type')['days_employed'].transform(lambda grp: grp.fillna(np.mean(grp)))\n",
    "credit_scoring.info()\n",
    "credit_scoring['days_employed'].isnull().sum()"
   ]
  },
  {
   "cell_type": "markdown",
   "metadata": {},
   "source": [
    "<font color=\"orange\">  - Missing values from `days_employed` variable were filled with the average days employed by `income_type` variable that gives us more accurate data.</font>"
   ]
  },
  {
   "cell_type": "markdown",
   "metadata": {},
   "source": [
    "- No missing values in `days_employed` column now. Thats a good news."
   ]
  },
  {
   "cell_type": "markdown",
   "metadata": {},
   "source": [
    "#### `total_income` variable. Monthly income "
   ]
  },
  {
   "cell_type": "code",
   "execution_count": 13,
   "metadata": {},
   "outputs": [
    {
     "name": "stdout",
     "output_type": "stream",
     "text": [
      "Missing values: 2174\n",
      "Total income average: 26787.57\n",
      "Total income median: 23202.87\n"
     ]
    }
   ],
   "source": [
    "# total_income stats\n",
    "missing_total_income = credit_scoring['total_income'].isnull().sum()\n",
    "print('Missing values:',missing_total_income)\n",
    "total_income_mean = credit_scoring['total_income'].mean()\n",
    "total_income_median = credit_scoring['total_income'].median()\n",
    "print('Total income average: {:.2f}'.format(total_income_mean))\n",
    "print('Total income median: {:.2f}'.format(total_income_median))\n"
   ]
  },
  {
   "cell_type": "code",
   "execution_count": 14,
   "metadata": {},
   "outputs": [
    {
     "data": {
      "text/plain": [
       "count     19351.00\n",
       "mean      26787.57\n",
       "std       16475.45\n",
       "min        3306.76\n",
       "25%       16488.50\n",
       "50%       23202.87\n",
       "75%       32549.61\n",
       "max      362496.64\n",
       "Name: total_income, dtype: float64"
      ]
     },
     "execution_count": 14,
     "metadata": {},
     "output_type": "execute_result"
    }
   ],
   "source": [
    "# stats total_income\n",
    "credit_scoring['total_income'].describe().round(2)"
   ]
  },
  {
   "cell_type": "markdown",
   "metadata": {},
   "source": [
    " - There is no any negative value which is good news. The mean is slightly higher than the median which could mean that there are outliers if not significant that pushes mean to the top."
   ]
  },
  {
   "cell_type": "code",
   "execution_count": 15,
   "metadata": {},
   "outputs": [
    {
     "name": "stdout",
     "output_type": "stream",
     "text": [
      "<class 'pandas.core.frame.DataFrame'>\n",
      "RangeIndex: 21525 entries, 0 to 21524\n",
      "Data columns (total 12 columns):\n",
      "children            21525 non-null int64\n",
      "days_employed       21525 non-null float64\n",
      "dob_years           21525 non-null int64\n",
      "education           21525 non-null object\n",
      "education_id        21525 non-null int64\n",
      "family_status       21525 non-null object\n",
      "family_status_id    21525 non-null int64\n",
      "gender              21525 non-null object\n",
      "income_type         21525 non-null object\n",
      "debt                21525 non-null int64\n",
      "total_income        21525 non-null float64\n",
      "purpose             21525 non-null object\n",
      "dtypes: float64(2), int64(5), object(5)\n",
      "memory usage: 2.0+ MB\n"
     ]
    }
   ],
   "source": [
    "# Filling missing values with income_type group average income\n",
    "credit_scoring[\"total_income\"] = credit_scoring.groupby('income_type')['total_income'].transform(lambda grp: grp.fillna(np.mean(grp)))\n",
    "(credit_scoring['total_income'].isnull().sum())\n",
    "credit_scoring.info()"
   ]
  },
  {
   "cell_type": "code",
   "execution_count": 16,
   "metadata": {},
   "outputs": [
    {
     "data": {
      "text/plain": [
       "count     21525.00\n",
       "mean      26783.35\n",
       "std       15665.11\n",
       "min        3306.76\n",
       "25%       17247.71\n",
       "50%       24309.01\n",
       "75%       32386.79\n",
       "max      362496.64\n",
       "Name: total_income, dtype: float64"
      ]
     },
     "execution_count": 16,
     "metadata": {},
     "output_type": "execute_result"
    }
   ],
   "source": [
    "# Output after replacing\n",
    "credit_scoring['total_income'].describe().round(2)"
   ]
  },
  {
   "cell_type": "markdown",
   "metadata": {},
   "source": [
    "- As we mentioned above, the missing values in `total_income` data will be filled with the total_income mean of each income_type category .transform method. We believe this method of replacing gives us more accuracy. There is no missing valuein our dataset anymore. Great!"
   ]
  },
  {
   "cell_type": "markdown",
   "metadata": {},
   "source": [
    "<font color='orange'>- Regarding the 0- values. As I understand it is about `children`, `dob_years`, since for `total_income` and `days_employed` stats show ther minimum values.</font>"
   ]
  },
  {
   "cell_type": "markdown",
   "metadata": {},
   "source": [
    "### Data type replacement"
   ]
  },
  {
   "cell_type": "markdown",
   "metadata": {},
   "source": [
    "#### `children` variable. Number of children"
   ]
  },
  {
   "cell_type": "code",
   "execution_count": 17,
   "metadata": {},
   "outputs": [
    {
     "data": {
      "text/plain": [
       " 0     14149\n",
       " 1      4818\n",
       " 2      2055\n",
       " 3       330\n",
       " 20       76\n",
       "-1        47\n",
       " 4        41\n",
       " 5         9\n",
       "Name: children, dtype: int64"
      ]
     },
     "execution_count": 17,
     "metadata": {},
     "output_type": "execute_result"
    }
   ],
   "source": [
    "# to check the number of unique values\n",
    "credit_scoring['children'].value_counts()"
   ]
  },
  {
   "cell_type": "code",
   "execution_count": 18,
   "metadata": {},
   "outputs": [
    {
     "data": {
      "text/plain": [
       "0     14149\n",
       "1      4865\n",
       "2      2055\n",
       "3       330\n",
       "20       76\n",
       "4        41\n",
       "5         9\n",
       "Name: children, dtype: int64"
      ]
     },
     "execution_count": 18,
     "metadata": {},
     "output_type": "execute_result"
    }
   ],
   "source": [
    "# Negative values to absolute\n",
    "credit_scoring['children'] = abs(credit_scoring['children'])\n",
    "credit_scoring['children'].value_counts()"
   ]
  },
  {
   "cell_type": "code",
   "execution_count": 19,
   "metadata": {},
   "outputs": [
    {
     "data": {
      "text/plain": [
       "0    14149\n",
       "1     4865\n",
       "2     2131\n",
       "3      330\n",
       "4       41\n",
       "5        9\n",
       "Name: children, dtype: int64"
      ]
     },
     "execution_count": 19,
     "metadata": {},
     "output_type": "execute_result"
    }
   ],
   "source": [
    "# Replacing outliers\n",
    "credit_scoring.loc[(credit_scoring.children == 20),'children']= 2\n",
    "credit_scoring['children'].value_counts()\n"
   ]
  },
  {
   "cell_type": "markdown",
   "metadata": {},
   "source": [
    "- The reason of replacing the outliers = 20 with 2 is that it is clearly typo error which most probably is 2 rather than    20. .loc method was used to find exact value and replace it. "
   ]
  },
  {
   "cell_type": "code",
   "execution_count": 20,
   "metadata": {},
   "outputs": [
    {
     "data": {
      "text/plain": [
       "count    21525.00\n",
       "mean         0.48\n",
       "std          0.76\n",
       "min          0.00\n",
       "25%          0.00\n",
       "50%          0.00\n",
       "75%          1.00\n",
       "max          5.00\n",
       "Name: children, dtype: float64"
      ]
     },
     "execution_count": 20,
     "metadata": {},
     "output_type": "execute_result"
    }
   ],
   "source": [
    "# stats children\n",
    "credit_scoring['children'].describe().round(2)"
   ]
  },
  {
   "cell_type": "markdown",
   "metadata": {},
   "source": [
    "- The table above shows that almost every second person in our dataset has a child. Mean = 0.48"
   ]
  },
  {
   "cell_type": "markdown",
   "metadata": {},
   "source": [
    "#### `dob_years` variable. Age of the customer"
   ]
  },
  {
   "cell_type": "code",
   "execution_count": 21,
   "metadata": {},
   "outputs": [
    {
     "data": {
      "text/plain": [
       "count    21525.00\n",
       "mean        43.29\n",
       "std         12.57\n",
       "min          0.00\n",
       "25%         33.00\n",
       "50%         42.00\n",
       "75%         53.00\n",
       "max         75.00\n",
       "Name: customer_age, dtype: float64"
      ]
     },
     "execution_count": 21,
     "metadata": {},
     "output_type": "execute_result"
    }
   ],
   "source": [
    "# renaming the column for clarity\n",
    "credit_scoring.rename(columns={'dob_years':'customer_age'},inplace=True)\n",
    "credit_scoring['customer_age'].describe().round(2)"
   ]
  },
  {
   "cell_type": "markdown",
   "metadata": {},
   "source": [
    " - Column's name was renamed using .rename method since it was not clear what exactly `dob_years` mean. The  `customer_age` average  is 43 years. The oldest customer is 75 years old. If we look at min:0. That is out of logic, age can not be 0. Need to analyse and come up with optimal decision. "
   ]
  },
  {
   "cell_type": "code",
   "execution_count": 22,
   "metadata": {
    "scrolled": true
   },
   "outputs": [
    {
     "data": {
      "text/plain": [
       "35    617\n",
       "40    609\n",
       "41    607\n",
       "34    603\n",
       "38    598\n",
       "42    597\n",
       "33    581\n",
       "39    573\n",
       "31    560\n",
       "36    555\n",
       "44    547\n",
       "29    545\n",
       "30    540\n",
       "48    538\n",
       "37    537\n",
       "50    514\n",
       "43    513\n",
       "32    510\n",
       "49    508\n",
       "28    503\n",
       "45    497\n",
       "27    493\n",
       "56    487\n",
       "52    484\n",
       "47    480\n",
       "54    479\n",
       "46    475\n",
       "58    461\n",
       "57    460\n",
       "53    459\n",
       "51    448\n",
       "59    444\n",
       "55    443\n",
       "26    408\n",
       "60    377\n",
       "25    357\n",
       "61    355\n",
       "62    352\n",
       "63    269\n",
       "64    265\n",
       "24    264\n",
       "23    254\n",
       "65    194\n",
       "66    183\n",
       "22    183\n",
       "67    167\n",
       "21    111\n",
       "0     101\n",
       "68     99\n",
       "69     85\n",
       "70     65\n",
       "71     58\n",
       "20     51\n",
       "72     33\n",
       "19     14\n",
       "73      8\n",
       "74      6\n",
       "75      1\n",
       "Name: customer_age, dtype: int64"
      ]
     },
     "execution_count": 22,
     "metadata": {},
     "output_type": "execute_result"
    }
   ],
   "source": [
    "# Unique values\n",
    "credit_scoring['customer_age'].value_counts()"
   ]
  },
  {
   "cell_type": "code",
   "execution_count": 23,
   "metadata": {},
   "outputs": [
    {
     "name": "stdout",
     "output_type": "stream",
     "text": [
      "count    21424.00\n",
      "mean        43.50\n",
      "std         12.25\n",
      "min         19.00\n",
      "25%         33.00\n",
      "50%         43.00\n",
      "75%         53.00\n",
      "max         75.00\n",
      "Name: customer_age, dtype: float64\n",
      "The youngest customer is 19 years old.\n"
     ]
    }
   ],
   "source": [
    "# Removing 0 from customer_age\n",
    "to_drop = credit_scoring[credit_scoring['customer_age'] == 0 ]\n",
    "credit_scoring.drop(to_drop.index, inplace=True)\n",
    "print(credit_scoring['customer_age'].describe().round(2))\n",
    "print('The youngest customer is 19 years old.')"
   ]
  },
  {
   "cell_type": "code",
   "execution_count": 24,
   "metadata": {},
   "outputs": [],
   "source": [
    "# float to int type to make it more presentable\n",
    "credit_scoring['days_employed'] = credit_scoring['days_employed'].astype(int)\n",
    "credit_scoring['total_income'] = credit_scoring['total_income'].astype(int)"
   ]
  },
  {
   "cell_type": "markdown",
   "metadata": {},
   "source": [
    "### Conclusion\n",
    "- Negative values were converted to absolute, illogical values were removed since they were of small amount and didnt really affect the overall analysis.\n",
    "- float to int type to make it easy for further analysis where some calculations might be needed using .astype() method."
   ]
  },
  {
   "cell_type": "markdown",
   "metadata": {},
   "source": [
    "### Processing duplicates "
   ]
  },
  {
   "cell_type": "markdown",
   "metadata": {},
   "source": [
    "#### - `education` variable.The highest level of education of customers"
   ]
  },
  {
   "cell_type": "code",
   "execution_count": 25,
   "metadata": {},
   "outputs": [
    {
     "data": {
      "text/plain": [
       "array([\"bachelor's degree\", 'secondary education', 'Secondary Education',\n",
       "       'SECONDARY EDUCATION', \"BACHELOR'S DEGREE\", 'some college',\n",
       "       'primary education', \"Bachelor's Degree\", 'SOME COLLEGE',\n",
       "       'Some College', 'PRIMARY EDUCATION', 'Primary Education',\n",
       "       'Graduate Degree', 'GRADUATE DEGREE', 'graduate degree'],\n",
       "      dtype=object)"
      ]
     },
     "execution_count": 25,
     "metadata": {},
     "output_type": "execute_result"
    }
   ],
   "source": [
    "# check for the unique values\n",
    "credit_scoring['education'].unique()"
   ]
  },
  {
   "cell_type": "markdown",
   "metadata": {},
   "source": [
    "- We can see some values are repeated with UPPERCASE and lowercase letters. We could get rid of them by converting them to lowercase letters"
   ]
  },
  {
   "cell_type": "code",
   "execution_count": 26,
   "metadata": {},
   "outputs": [],
   "source": [
    "# making all string values lowercase to identify duplicates\n",
    "credit_scoring['education'] = credit_scoring['education'].str.lower()"
   ]
  },
  {
   "cell_type": "code",
   "execution_count": 27,
   "metadata": {},
   "outputs": [
    {
     "data": {
      "text/plain": [
       "array([\"bachelor's degree\", 'secondary education', 'some college',\n",
       "       'primary education', 'graduate degree'], dtype=object)"
      ]
     },
     "execution_count": 27,
     "metadata": {},
     "output_type": "execute_result"
    }
   ],
   "source": [
    "# double check\n",
    "credit_scoring['education'].unique()"
   ]
  },
  {
   "cell_type": "markdown",
   "metadata": {},
   "source": [
    "#### `purpose` variable. The reason of taking a loan"
   ]
  },
  {
   "cell_type": "code",
   "execution_count": 28,
   "metadata": {},
   "outputs": [],
   "source": [
    "# to make sure they are all lowercase\n",
    "credit_scoring['purpose'] = credit_scoring['purpose'].str.lower()"
   ]
  },
  {
   "cell_type": "code",
   "execution_count": 29,
   "metadata": {},
   "outputs": [
    {
     "data": {
      "text/plain": [
       "wedding ceremony                            792\n",
       "having a wedding                            773\n",
       "to have a wedding                           769\n",
       "real estate transactions                    673\n",
       "buy commercial real estate                  661\n",
       "buying property for renting out             651\n",
       "transactions with commercial real estate    649\n",
       "housing transactions                        647\n",
       "purchase of the house                       641\n",
       "housing                                     641\n",
       "purchase of the house for my family         640\n",
       "construction of own property                633\n",
       "transactions with my real estate            630\n",
       "property                                    630\n",
       "building a real estate                      623\n",
       "buy real estate                             621\n",
       "building a property                         620\n",
       "purchase of my own house                    619\n",
       "housing renovation                          610\n",
       "buy residential real estate                 604\n",
       "buying my own car                           502\n",
       "going to university                         493\n",
       "car                                         491\n",
       "second-hand car purchase                    487\n",
       "buying a second-hand car                    479\n",
       "to own a car                                477\n",
       "cars                                        476\n",
       "to buy a car                                467\n",
       "car purchase                                460\n",
       "supplementary education                     460\n",
       "purchase of a car                           454\n",
       "university education                        450\n",
       "to get a supplementary education            445\n",
       "education                                   444\n",
       "getting an education                        442\n",
       "profile education                           435\n",
       "getting higher education                    424\n",
       "to become educated                          411\n",
       "Name: purpose, dtype: int64"
      ]
     },
     "execution_count": 29,
     "metadata": {},
     "output_type": "execute_result"
    }
   ],
   "source": [
    "# Unique purposes to see if we can categorize them \n",
    "credit_scoring['purpose'].value_counts()"
   ]
  },
  {
   "cell_type": "code",
   "execution_count": 30,
   "metadata": {},
   "outputs": [
    {
     "data": {
      "text/plain": [
       "array(['real estate', 'car', 'education', 'wedding'], dtype=object)"
      ]
     },
     "execution_count": 30,
     "metadata": {},
     "output_type": "execute_result"
    }
   ],
   "source": [
    "# Merging same purpose within the same category \n",
    "def purpose_clean(purpose):\n",
    "    if 'wed' in purpose:\n",
    "        return 'wedding'\n",
    "    if 'edu' in purpose:\n",
    "        return 'education'\n",
    "    if 'car' in purpose:\n",
    "        return 'car'\n",
    "    if 'hous' in purpose:\n",
    "        return 'real estate'\n",
    "    if 'estate' in purpose:\n",
    "        return 'real estate'\n",
    "    if 'univer' in purpose:\n",
    "        return 'education'\n",
    "    if 'property' in purpose:\n",
    "        return 'real estate'\n",
    "    return 'other'\n",
    "\n",
    "credit_scoring['purpose'] = credit_scoring['purpose'].apply(purpose_clean)\n",
    "credit_scoring['purpose'].unique()"
   ]
  },
  {
   "cell_type": "code",
   "execution_count": 31,
   "metadata": {},
   "outputs": [
    {
     "data": {
      "text/plain": [
       "real estate    10793\n",
       "car             4293\n",
       "education       4004\n",
       "wedding         2334\n",
       "Name: purpose, dtype: int64"
      ]
     },
     "execution_count": 31,
     "metadata": {},
     "output_type": "execute_result"
    }
   ],
   "source": [
    "credit_scoring['purpose'].value_counts()"
   ]
  },
  {
   "cell_type": "markdown",
   "metadata": {},
   "source": [
    "- Now we have accurate and categorized purposes for taking a  loan."
   ]
  },
  {
   "cell_type": "code",
   "execution_count": 32,
   "metadata": {},
   "outputs": [
    {
     "data": {
      "text/plain": [
       "404"
      ]
     },
     "execution_count": 32,
     "metadata": {},
     "output_type": "execute_result"
    }
   ],
   "source": [
    "credit_scoring.duplicated().sum()"
   ]
  },
  {
   "cell_type": "code",
   "execution_count": 33,
   "metadata": {
    "scrolled": true
   },
   "outputs": [
    {
     "data": {
      "text/html": [
       "<div>\n",
       "<style scoped>\n",
       "    .dataframe tbody tr th:only-of-type {\n",
       "        vertical-align: middle;\n",
       "    }\n",
       "\n",
       "    .dataframe tbody tr th {\n",
       "        vertical-align: top;\n",
       "    }\n",
       "\n",
       "    .dataframe thead th {\n",
       "        text-align: right;\n",
       "    }\n",
       "</style>\n",
       "<table border=\"1\" class=\"dataframe\">\n",
       "  <thead>\n",
       "    <tr style=\"text-align: right;\">\n",
       "      <th></th>\n",
       "      <th>children</th>\n",
       "      <th>days_employed</th>\n",
       "      <th>customer_age</th>\n",
       "      <th>education</th>\n",
       "      <th>education_id</th>\n",
       "      <th>family_status</th>\n",
       "      <th>family_status_id</th>\n",
       "      <th>gender</th>\n",
       "      <th>income_type</th>\n",
       "      <th>debt</th>\n",
       "      <th>total_income</th>\n",
       "      <th>purpose</th>\n",
       "    </tr>\n",
       "  </thead>\n",
       "  <tbody>\n",
       "    <tr>\n",
       "      <td>360</td>\n",
       "      <td>0</td>\n",
       "      <td>2111</td>\n",
       "      <td>27</td>\n",
       "      <td>secondary education</td>\n",
       "      <td>1</td>\n",
       "      <td>married</td>\n",
       "      <td>0</td>\n",
       "      <td>M</td>\n",
       "      <td>business</td>\n",
       "      <td>0</td>\n",
       "      <td>32386</td>\n",
       "      <td>real estate</td>\n",
       "    </tr>\n",
       "    <tr>\n",
       "      <td>829</td>\n",
       "      <td>0</td>\n",
       "      <td>2111</td>\n",
       "      <td>57</td>\n",
       "      <td>secondary education</td>\n",
       "      <td>1</td>\n",
       "      <td>civil partnership</td>\n",
       "      <td>1</td>\n",
       "      <td>F</td>\n",
       "      <td>business</td>\n",
       "      <td>0</td>\n",
       "      <td>32386</td>\n",
       "      <td>education</td>\n",
       "    </tr>\n",
       "    <tr>\n",
       "      <td>1010</td>\n",
       "      <td>0</td>\n",
       "      <td>15208</td>\n",
       "      <td>66</td>\n",
       "      <td>secondary education</td>\n",
       "      <td>1</td>\n",
       "      <td>married</td>\n",
       "      <td>0</td>\n",
       "      <td>F</td>\n",
       "      <td>retiree</td>\n",
       "      <td>0</td>\n",
       "      <td>21940</td>\n",
       "      <td>real estate</td>\n",
       "    </tr>\n",
       "    <tr>\n",
       "      <td>1072</td>\n",
       "      <td>0</td>\n",
       "      <td>2326</td>\n",
       "      <td>44</td>\n",
       "      <td>secondary education</td>\n",
       "      <td>1</td>\n",
       "      <td>civil partnership</td>\n",
       "      <td>1</td>\n",
       "      <td>F</td>\n",
       "      <td>employee</td>\n",
       "      <td>0</td>\n",
       "      <td>25820</td>\n",
       "      <td>real estate</td>\n",
       "    </tr>\n",
       "    <tr>\n",
       "      <td>1247</td>\n",
       "      <td>0</td>\n",
       "      <td>2326</td>\n",
       "      <td>54</td>\n",
       "      <td>secondary education</td>\n",
       "      <td>1</td>\n",
       "      <td>civil partnership</td>\n",
       "      <td>1</td>\n",
       "      <td>M</td>\n",
       "      <td>employee</td>\n",
       "      <td>0</td>\n",
       "      <td>25820</td>\n",
       "      <td>wedding</td>\n",
       "    </tr>\n",
       "    <tr>\n",
       "      <td>...</td>\n",
       "      <td>...</td>\n",
       "      <td>...</td>\n",
       "      <td>...</td>\n",
       "      <td>...</td>\n",
       "      <td>...</td>\n",
       "      <td>...</td>\n",
       "      <td>...</td>\n",
       "      <td>...</td>\n",
       "      <td>...</td>\n",
       "      <td>...</td>\n",
       "      <td>...</td>\n",
       "      <td>...</td>\n",
       "    </tr>\n",
       "    <tr>\n",
       "      <td>21364</td>\n",
       "      <td>0</td>\n",
       "      <td>2326</td>\n",
       "      <td>50</td>\n",
       "      <td>secondary education</td>\n",
       "      <td>1</td>\n",
       "      <td>married</td>\n",
       "      <td>0</td>\n",
       "      <td>M</td>\n",
       "      <td>employee</td>\n",
       "      <td>0</td>\n",
       "      <td>25820</td>\n",
       "      <td>real estate</td>\n",
       "    </tr>\n",
       "    <tr>\n",
       "      <td>21391</td>\n",
       "      <td>0</td>\n",
       "      <td>2111</td>\n",
       "      <td>52</td>\n",
       "      <td>secondary education</td>\n",
       "      <td>1</td>\n",
       "      <td>married</td>\n",
       "      <td>0</td>\n",
       "      <td>F</td>\n",
       "      <td>business</td>\n",
       "      <td>0</td>\n",
       "      <td>32386</td>\n",
       "      <td>real estate</td>\n",
       "    </tr>\n",
       "    <tr>\n",
       "      <td>21414</td>\n",
       "      <td>0</td>\n",
       "      <td>15208</td>\n",
       "      <td>65</td>\n",
       "      <td>secondary education</td>\n",
       "      <td>1</td>\n",
       "      <td>married</td>\n",
       "      <td>0</td>\n",
       "      <td>F</td>\n",
       "      <td>retiree</td>\n",
       "      <td>0</td>\n",
       "      <td>21940</td>\n",
       "      <td>real estate</td>\n",
       "    </tr>\n",
       "    <tr>\n",
       "      <td>21415</td>\n",
       "      <td>0</td>\n",
       "      <td>15208</td>\n",
       "      <td>54</td>\n",
       "      <td>secondary education</td>\n",
       "      <td>1</td>\n",
       "      <td>married</td>\n",
       "      <td>0</td>\n",
       "      <td>F</td>\n",
       "      <td>retiree</td>\n",
       "      <td>0</td>\n",
       "      <td>21940</td>\n",
       "      <td>real estate</td>\n",
       "    </tr>\n",
       "    <tr>\n",
       "      <td>21502</td>\n",
       "      <td>1</td>\n",
       "      <td>2326</td>\n",
       "      <td>42</td>\n",
       "      <td>secondary education</td>\n",
       "      <td>1</td>\n",
       "      <td>married</td>\n",
       "      <td>0</td>\n",
       "      <td>F</td>\n",
       "      <td>employee</td>\n",
       "      <td>0</td>\n",
       "      <td>25820</td>\n",
       "      <td>real estate</td>\n",
       "    </tr>\n",
       "  </tbody>\n",
       "</table>\n",
       "<p>404 rows × 12 columns</p>\n",
       "</div>"
      ],
      "text/plain": [
       "       children  days_employed  customer_age            education  \\\n",
       "360           0           2111            27  secondary education   \n",
       "829           0           2111            57  secondary education   \n",
       "1010          0          15208            66  secondary education   \n",
       "1072          0           2326            44  secondary education   \n",
       "1247          0           2326            54  secondary education   \n",
       "...         ...            ...           ...                  ...   \n",
       "21364         0           2326            50  secondary education   \n",
       "21391         0           2111            52  secondary education   \n",
       "21414         0          15208            65  secondary education   \n",
       "21415         0          15208            54  secondary education   \n",
       "21502         1           2326            42  secondary education   \n",
       "\n",
       "       education_id      family_status  family_status_id gender income_type  \\\n",
       "360               1            married                 0      M    business   \n",
       "829               1  civil partnership                 1      F    business   \n",
       "1010              1            married                 0      F     retiree   \n",
       "1072              1  civil partnership                 1      F    employee   \n",
       "1247              1  civil partnership                 1      M    employee   \n",
       "...             ...                ...               ...    ...         ...   \n",
       "21364             1            married                 0      M    employee   \n",
       "21391             1            married                 0      F    business   \n",
       "21414             1            married                 0      F     retiree   \n",
       "21415             1            married                 0      F     retiree   \n",
       "21502             1            married                 0      F    employee   \n",
       "\n",
       "       debt  total_income      purpose  \n",
       "360       0         32386  real estate  \n",
       "829       0         32386    education  \n",
       "1010      0         21940  real estate  \n",
       "1072      0         25820  real estate  \n",
       "1247      0         25820      wedding  \n",
       "...     ...           ...          ...  \n",
       "21364     0         25820  real estate  \n",
       "21391     0         32386  real estate  \n",
       "21414     0         21940  real estate  \n",
       "21415     0         21940  real estate  \n",
       "21502     0         25820  real estate  \n",
       "\n",
       "[404 rows x 12 columns]"
      ]
     },
     "execution_count": 33,
     "metadata": {},
     "output_type": "execute_result"
    }
   ],
   "source": [
    "# to check which values are duplicated. to have a general idea\n",
    "credit_scoring.loc[credit_scoring.duplicated(), :]"
   ]
  },
  {
   "cell_type": "markdown",
   "metadata": {},
   "source": [
    "- We can observe 404 duplicates, which are probably the ones that were NaN values and were replaced. Its better to drop them since the number is not high and for the sake of accuracy."
   ]
  },
  {
   "cell_type": "code",
   "execution_count": 34,
   "metadata": {},
   "outputs": [],
   "source": [
    "credit_scoring.drop_duplicates(keep='first', inplace=True)"
   ]
  },
  {
   "cell_type": "code",
   "execution_count": 35,
   "metadata": {},
   "outputs": [
    {
     "name": "stdout",
     "output_type": "stream",
     "text": [
      "Number of duplicates: 0\n"
     ]
    },
    {
     "data": {
      "text/plain": [
       "(21020, 12)"
      ]
     },
     "execution_count": 35,
     "metadata": {},
     "output_type": "execute_result"
    }
   ],
   "source": [
    "print('Number of duplicates:' ,credit_scoring.duplicated().sum())\n",
    "credit_scoring.shape"
   ]
  },
  {
   "cell_type": "markdown",
   "metadata": {},
   "source": [
    "### Conclusion"
   ]
  },
  {
   "cell_type": "markdown",
   "metadata": {},
   "source": [
    "- All the duplicates were dropped. `purpose`'s values were categorized within the same purpose category. `education` .lowercase method was used to avoid duplicated level of education."
   ]
  },
  {
   "cell_type": "markdown",
   "metadata": {},
   "source": [
    "### Categorizing Data"
   ]
  },
  {
   "cell_type": "markdown",
   "metadata": {},
   "source": [
    "- When it comes to categorization and classification, we have to think of how analysis will look like. Categorization & classification is mainly dependent on our furhter analysis."
   ]
  },
  {
   "cell_type": "code",
   "execution_count": 36,
   "metadata": {},
   "outputs": [
    {
     "data": {
      "text/html": [
       "<div>\n",
       "<style scoped>\n",
       "    .dataframe tbody tr th:only-of-type {\n",
       "        vertical-align: middle;\n",
       "    }\n",
       "\n",
       "    .dataframe tbody tr th {\n",
       "        vertical-align: top;\n",
       "    }\n",
       "\n",
       "    .dataframe thead th {\n",
       "        text-align: right;\n",
       "    }\n",
       "</style>\n",
       "<table border=\"1\" class=\"dataframe\">\n",
       "  <thead>\n",
       "    <tr style=\"text-align: right;\">\n",
       "      <th></th>\n",
       "      <th>children</th>\n",
       "      <th>days_employed</th>\n",
       "      <th>customer_age</th>\n",
       "      <th>education</th>\n",
       "      <th>education_id</th>\n",
       "      <th>family_status</th>\n",
       "      <th>family_status_id</th>\n",
       "      <th>gender</th>\n",
       "      <th>income_type</th>\n",
       "      <th>debt</th>\n",
       "      <th>total_income</th>\n",
       "      <th>purpose</th>\n",
       "    </tr>\n",
       "  </thead>\n",
       "  <tbody>\n",
       "    <tr>\n",
       "      <td>0</td>\n",
       "      <td>1</td>\n",
       "      <td>8437</td>\n",
       "      <td>42</td>\n",
       "      <td>bachelor's degree</td>\n",
       "      <td>0</td>\n",
       "      <td>married</td>\n",
       "      <td>0</td>\n",
       "      <td>F</td>\n",
       "      <td>employee</td>\n",
       "      <td>0</td>\n",
       "      <td>40620</td>\n",
       "      <td>real estate</td>\n",
       "    </tr>\n",
       "    <tr>\n",
       "      <td>1</td>\n",
       "      <td>1</td>\n",
       "      <td>4024</td>\n",
       "      <td>36</td>\n",
       "      <td>secondary education</td>\n",
       "      <td>1</td>\n",
       "      <td>married</td>\n",
       "      <td>0</td>\n",
       "      <td>F</td>\n",
       "      <td>employee</td>\n",
       "      <td>0</td>\n",
       "      <td>17932</td>\n",
       "      <td>car</td>\n",
       "    </tr>\n",
       "  </tbody>\n",
       "</table>\n",
       "</div>"
      ],
      "text/plain": [
       "   children  days_employed  customer_age            education  education_id  \\\n",
       "0         1           8437            42    bachelor's degree             0   \n",
       "1         1           4024            36  secondary education             1   \n",
       "\n",
       "  family_status  family_status_id gender income_type  debt  total_income  \\\n",
       "0       married                 0      F    employee     0         40620   \n",
       "1       married                 0      F    employee     0         17932   \n",
       "\n",
       "       purpose  \n",
       "0  real estate  \n",
       "1          car  "
      ]
     },
     "execution_count": 36,
     "metadata": {},
     "output_type": "execute_result"
    }
   ],
   "source": [
    "# Take a look after preprocessing is done\n",
    "credit_scoring.head(2)"
   ]
  },
  {
   "cell_type": "code",
   "execution_count": 37,
   "metadata": {},
   "outputs": [
    {
     "data": {
      "text/html": [
       "<div>\n",
       "<style scoped>\n",
       "    .dataframe tbody tr th:only-of-type {\n",
       "        vertical-align: middle;\n",
       "    }\n",
       "\n",
       "    .dataframe tbody tr th {\n",
       "        vertical-align: top;\n",
       "    }\n",
       "\n",
       "    .dataframe thead th {\n",
       "        text-align: right;\n",
       "    }\n",
       "</style>\n",
       "<table border=\"1\" class=\"dataframe\">\n",
       "  <thead>\n",
       "    <tr style=\"text-align: right;\">\n",
       "      <th></th>\n",
       "      <th>children</th>\n",
       "      <th>days_employed</th>\n",
       "      <th>customer_age</th>\n",
       "      <th>education</th>\n",
       "      <th>education_id</th>\n",
       "      <th>family_status</th>\n",
       "      <th>family_status_id</th>\n",
       "      <th>gender</th>\n",
       "      <th>income_type</th>\n",
       "      <th>debt</th>\n",
       "      <th>total_income</th>\n",
       "      <th>purpose</th>\n",
       "      <th>age_group</th>\n",
       "    </tr>\n",
       "  </thead>\n",
       "  <tbody>\n",
       "    <tr>\n",
       "      <td>0</td>\n",
       "      <td>1</td>\n",
       "      <td>8437</td>\n",
       "      <td>42</td>\n",
       "      <td>bachelor's degree</td>\n",
       "      <td>0</td>\n",
       "      <td>married</td>\n",
       "      <td>0</td>\n",
       "      <td>F</td>\n",
       "      <td>employee</td>\n",
       "      <td>0</td>\n",
       "      <td>40620</td>\n",
       "      <td>real estate</td>\n",
       "      <td>adults</td>\n",
       "    </tr>\n",
       "    <tr>\n",
       "      <td>1</td>\n",
       "      <td>1</td>\n",
       "      <td>4024</td>\n",
       "      <td>36</td>\n",
       "      <td>secondary education</td>\n",
       "      <td>1</td>\n",
       "      <td>married</td>\n",
       "      <td>0</td>\n",
       "      <td>F</td>\n",
       "      <td>employee</td>\n",
       "      <td>0</td>\n",
       "      <td>17932</td>\n",
       "      <td>car</td>\n",
       "      <td>adults</td>\n",
       "    </tr>\n",
       "  </tbody>\n",
       "</table>\n",
       "</div>"
      ],
      "text/plain": [
       "   children  days_employed  customer_age            education  education_id  \\\n",
       "0         1           8437            42    bachelor's degree             0   \n",
       "1         1           4024            36  secondary education             1   \n",
       "\n",
       "  family_status  family_status_id gender income_type  debt  total_income  \\\n",
       "0       married                 0      F    employee     0         40620   \n",
       "1       married                 0      F    employee     0         17932   \n",
       "\n",
       "       purpose age_group  \n",
       "0  real estate    adults  \n",
       "1          car    adults  "
      ]
     },
     "execution_count": 37,
     "metadata": {},
     "output_type": "execute_result"
    }
   ],
   "source": [
    "# Age_group classification\n",
    "def age_group(customer_age):\n",
    "    \"\"\"\n",
    "    The function returns the age_group according to the customer_agevalues, using the following rules:\n",
    "    —'youth' for age  15<= age <= 24\n",
    "    —'adults' for 25 <= age <= 58\n",
    "    —'seniors' for all other cases\n",
    "    \"\"\"\n",
    "    \n",
    "    if customer_age <= 24:\n",
    "        return 'youth'\n",
    "    if customer_age <= 58:\n",
    "        return 'adults'\n",
    "    return 'seniors'\n",
    "credit_scoring['age_group'] = credit_scoring['customer_age'].apply(age_group)\n",
    "credit_scoring.head(2)"
   ]
  },
  {
   "cell_type": "code",
   "execution_count": 38,
   "metadata": {},
   "outputs": [
    {
     "data": {
      "text/plain": [
       "count     21020.00\n",
       "mean      26813.98\n",
       "std       15825.38\n",
       "min        3306.00\n",
       "25%       17090.75\n",
       "50%       24180.00\n",
       "75%       32386.00\n",
       "max      362496.00\n",
       "Name: total_income, dtype: float64"
      ]
     },
     "execution_count": 38,
     "metadata": {},
     "output_type": "execute_result"
    }
   ],
   "source": [
    "# to get an idea how to categorize into income levels\n",
    "credit_scoring['total_income'].describe().round(2)"
   ]
  },
  {
   "cell_type": "code",
   "execution_count": 39,
   "metadata": {},
   "outputs": [
    {
     "data": {
      "text/html": [
       "<div>\n",
       "<style scoped>\n",
       "    .dataframe tbody tr th:only-of-type {\n",
       "        vertical-align: middle;\n",
       "    }\n",
       "\n",
       "    .dataframe tbody tr th {\n",
       "        vertical-align: top;\n",
       "    }\n",
       "\n",
       "    .dataframe thead th {\n",
       "        text-align: right;\n",
       "    }\n",
       "</style>\n",
       "<table border=\"1\" class=\"dataframe\">\n",
       "  <thead>\n",
       "    <tr style=\"text-align: right;\">\n",
       "      <th></th>\n",
       "      <th>children</th>\n",
       "      <th>days_employed</th>\n",
       "      <th>customer_age</th>\n",
       "      <th>education</th>\n",
       "      <th>education_id</th>\n",
       "      <th>family_status</th>\n",
       "      <th>family_status_id</th>\n",
       "      <th>gender</th>\n",
       "      <th>income_type</th>\n",
       "      <th>debt</th>\n",
       "      <th>total_income</th>\n",
       "      <th>purpose</th>\n",
       "      <th>age_group</th>\n",
       "      <th>income_cat</th>\n",
       "    </tr>\n",
       "  </thead>\n",
       "  <tbody>\n",
       "    <tr>\n",
       "      <td>0</td>\n",
       "      <td>1</td>\n",
       "      <td>8437</td>\n",
       "      <td>42</td>\n",
       "      <td>bachelor's degree</td>\n",
       "      <td>0</td>\n",
       "      <td>married</td>\n",
       "      <td>0</td>\n",
       "      <td>F</td>\n",
       "      <td>employee</td>\n",
       "      <td>0</td>\n",
       "      <td>40620</td>\n",
       "      <td>real estate</td>\n",
       "      <td>adults</td>\n",
       "      <td>high_income</td>\n",
       "    </tr>\n",
       "    <tr>\n",
       "      <td>1</td>\n",
       "      <td>1</td>\n",
       "      <td>4024</td>\n",
       "      <td>36</td>\n",
       "      <td>secondary education</td>\n",
       "      <td>1</td>\n",
       "      <td>married</td>\n",
       "      <td>0</td>\n",
       "      <td>F</td>\n",
       "      <td>employee</td>\n",
       "      <td>0</td>\n",
       "      <td>17932</td>\n",
       "      <td>car</td>\n",
       "      <td>adults</td>\n",
       "      <td>upper_middle_income</td>\n",
       "    </tr>\n",
       "  </tbody>\n",
       "</table>\n",
       "</div>"
      ],
      "text/plain": [
       "   children  days_employed  customer_age            education  education_id  \\\n",
       "0         1           8437            42    bachelor's degree             0   \n",
       "1         1           4024            36  secondary education             1   \n",
       "\n",
       "  family_status  family_status_id gender income_type  debt  total_income  \\\n",
       "0       married                 0      F    employee     0         40620   \n",
       "1       married                 0      F    employee     0         17932   \n",
       "\n",
       "       purpose age_group           income_cat  \n",
       "0  real estate    adults          high_income  \n",
       "1          car    adults  upper_middle_income  "
      ]
     },
     "execution_count": 39,
     "metadata": {},
     "output_type": "execute_result"
    }
   ],
   "source": [
    "# total_income classification\n",
    "def income_cat(total_income):\n",
    "    \"\"\"\n",
    "    The function returns the income_group according to the total_income values, using the following rules:\n",
    "    —'low_income' for total_income  <= 6000\n",
    "    —'lower_middle_income' for 6001 <= income <= 12000\n",
    "    —'upper_middle_income' 12001 <= income <= 28000\n",
    "    — 'high_income'  for all other cases\n",
    "    \"\"\"\n",
    "    if total_income <= 6000:\n",
    "        return 'low_income'\n",
    "    if total_income <= 12000:\n",
    "        return 'lower_middle_income'\n",
    "    if total_income <=28000:\n",
    "        return 'upper_middle_income'\n",
    "    return 'high_income'\n",
    "credit_scoring['income_cat'] = credit_scoring['total_income'].apply(income_cat)\n",
    "credit_scoring.head(2)"
   ]
  },
  {
   "cell_type": "markdown",
   "metadata": {},
   "source": [
    "- Income levels were classified mainly by look at stats (min, max, mean)."
   ]
  },
  {
   "cell_type": "code",
   "execution_count": 40,
   "metadata": {},
   "outputs": [
    {
     "data": {
      "text/plain": [
       "family_status      family_status_id\n",
       "civil partnership  1                    4103\n",
       "divorced           3                    1183\n",
       "married            0                   12028\n",
       "unmarried          4                    2768\n",
       "widow / widower    2                     938\n",
       "Name: family_status_id, dtype: int64"
      ]
     },
     "execution_count": 40,
     "metadata": {},
     "output_type": "execute_result"
    }
   ],
   "source": [
    "# No need for classification as its done already in the dataset\n",
    "credit_scoring.groupby('family_status')['family_status_id'].value_counts()"
   ]
  },
  {
   "cell_type": "code",
   "execution_count": 41,
   "metadata": {},
   "outputs": [
    {
     "data": {
      "text/plain": [
       "education            education_id\n",
       "bachelor's degree    0                5177\n",
       "graduate degree      4                   6\n",
       "primary education    3                 282\n",
       "secondary education  1               14813\n",
       "some college         2                 742\n",
       "Name: education_id, dtype: int64"
      ]
     },
     "execution_count": 41,
     "metadata": {},
     "output_type": "execute_result"
    }
   ],
   "source": [
    "# No need for classification as its done already in the dataset\n",
    "credit_scoring.groupby('education')['education_id'].value_counts()"
   ]
  },
  {
   "cell_type": "code",
   "execution_count": 42,
   "metadata": {},
   "outputs": [
    {
     "data": {
      "text/plain": [
       "0    19289\n",
       "1     1731\n",
       "Name: debt, dtype: int64"
      ]
     },
     "execution_count": 42,
     "metadata": {},
     "output_type": "execute_result"
    }
   ],
   "source": [
    "credit_scoring['debt'].value_counts()"
   ]
  },
  {
   "cell_type": "markdown",
   "metadata": {},
   "source": [
    "- Majority value is 0 --> can be interpreted as not defaulted on the loan. Because its kind of illogical to say 19289 of customers has defaulted on the loan."
   ]
  },
  {
   "cell_type": "code",
   "execution_count": 43,
   "metadata": {},
   "outputs": [
    {
     "data": {
      "text/html": [
       "<div>\n",
       "<style scoped>\n",
       "    .dataframe tbody tr th:only-of-type {\n",
       "        vertical-align: middle;\n",
       "    }\n",
       "\n",
       "    .dataframe tbody tr th {\n",
       "        vertical-align: top;\n",
       "    }\n",
       "\n",
       "    .dataframe thead th {\n",
       "        text-align: right;\n",
       "    }\n",
       "</style>\n",
       "<table border=\"1\" class=\"dataframe\">\n",
       "  <thead>\n",
       "    <tr style=\"text-align: right;\">\n",
       "      <th></th>\n",
       "      <th>children</th>\n",
       "      <th>days_employed</th>\n",
       "      <th>customer_age</th>\n",
       "      <th>education</th>\n",
       "      <th>education_id</th>\n",
       "      <th>family_status</th>\n",
       "      <th>family_status_id</th>\n",
       "      <th>gender</th>\n",
       "      <th>income_type</th>\n",
       "      <th>debt</th>\n",
       "      <th>total_income</th>\n",
       "      <th>purpose</th>\n",
       "      <th>age_group</th>\n",
       "      <th>income_cat</th>\n",
       "      <th>debt_default</th>\n",
       "    </tr>\n",
       "  </thead>\n",
       "  <tbody>\n",
       "    <tr>\n",
       "      <td>0</td>\n",
       "      <td>1</td>\n",
       "      <td>8437</td>\n",
       "      <td>42</td>\n",
       "      <td>bachelor's degree</td>\n",
       "      <td>0</td>\n",
       "      <td>married</td>\n",
       "      <td>0</td>\n",
       "      <td>F</td>\n",
       "      <td>employee</td>\n",
       "      <td>0</td>\n",
       "      <td>40620</td>\n",
       "      <td>real estate</td>\n",
       "      <td>adults</td>\n",
       "      <td>high_income</td>\n",
       "      <td>not defaulted</td>\n",
       "    </tr>\n",
       "    <tr>\n",
       "      <td>1</td>\n",
       "      <td>1</td>\n",
       "      <td>4024</td>\n",
       "      <td>36</td>\n",
       "      <td>secondary education</td>\n",
       "      <td>1</td>\n",
       "      <td>married</td>\n",
       "      <td>0</td>\n",
       "      <td>F</td>\n",
       "      <td>employee</td>\n",
       "      <td>0</td>\n",
       "      <td>17932</td>\n",
       "      <td>car</td>\n",
       "      <td>adults</td>\n",
       "      <td>upper_middle_income</td>\n",
       "      <td>not defaulted</td>\n",
       "    </tr>\n",
       "  </tbody>\n",
       "</table>\n",
       "</div>"
      ],
      "text/plain": [
       "   children  days_employed  customer_age            education  education_id  \\\n",
       "0         1           8437            42    bachelor's degree             0   \n",
       "1         1           4024            36  secondary education             1   \n",
       "\n",
       "  family_status  family_status_id gender income_type  debt  total_income  \\\n",
       "0       married                 0      F    employee     0         40620   \n",
       "1       married                 0      F    employee     0         17932   \n",
       "\n",
       "       purpose age_group           income_cat   debt_default  \n",
       "0  real estate    adults          high_income  not defaulted  \n",
       "1          car    adults  upper_middle_income  not defaulted  "
      ]
     },
     "execution_count": 43,
     "metadata": {},
     "output_type": "execute_result"
    }
   ],
   "source": [
    "def debt_default (debt):\n",
    "    if debt == 0:\n",
    "        return 'not defaulted'\n",
    "    if debt == 1:\n",
    "        return 'defaulted'\n",
    "credit_scoring['debt_default'] = credit_scoring['debt'].apply(debt_default)\n",
    "credit_scoring.head(2)"
   ]
  },
  {
   "cell_type": "markdown",
   "metadata": {},
   "source": [
    "-  `debt` variable is Boolean variable with only two values (0,1)"
   ]
  },
  {
   "cell_type": "code",
   "execution_count": 44,
   "metadata": {},
   "outputs": [
    {
     "data": {
      "text/plain": [
       "debt_default   children\n",
       "defaulted      0            1056\n",
       "               1             442\n",
       "               2             202\n",
       "               3              27\n",
       "               4               4\n",
       "not defaulted  0           12705\n",
       "               1            4340\n",
       "               2            1899\n",
       "               3             300\n",
       "               4              36\n",
       "               5               9\n",
       "Name: children, dtype: int64"
      ]
     },
     "execution_count": 44,
     "metadata": {},
     "output_type": "execute_result"
    }
   ],
   "source": [
    "# Tables for answering the questions\n",
    "credit_scoring.groupby('debt_default')['children'].value_counts()"
   ]
  },
  {
   "cell_type": "code",
   "execution_count": 45,
   "metadata": {},
   "outputs": [
    {
     "data": {
      "text/plain": [
       "0    13761\n",
       "1     4782\n",
       "2     2101\n",
       "3      327\n",
       "4       40\n",
       "5        9\n",
       "Name: children, dtype: int64"
      ]
     },
     "execution_count": 45,
     "metadata": {},
     "output_type": "execute_result"
    }
   ],
   "source": [
    "credit_scoring['children'].value_counts()"
   ]
  },
  {
   "cell_type": "code",
   "execution_count": 46,
   "metadata": {},
   "outputs": [
    {
     "data": {
      "text/html": [
       "<div>\n",
       "<style scoped>\n",
       "    .dataframe tbody tr th:only-of-type {\n",
       "        vertical-align: middle;\n",
       "    }\n",
       "\n",
       "    .dataframe tbody tr th {\n",
       "        vertical-align: top;\n",
       "    }\n",
       "\n",
       "    .dataframe thead th {\n",
       "        text-align: right;\n",
       "    }\n",
       "</style>\n",
       "<table border=\"1\" class=\"dataframe\">\n",
       "  <thead>\n",
       "    <tr style=\"text-align: right;\">\n",
       "      <th></th>\n",
       "      <th>count</th>\n",
       "      <th>unique</th>\n",
       "      <th>top</th>\n",
       "      <th>freq</th>\n",
       "    </tr>\n",
       "    <tr>\n",
       "      <th>debt_default</th>\n",
       "      <th></th>\n",
       "      <th></th>\n",
       "      <th></th>\n",
       "      <th></th>\n",
       "    </tr>\n",
       "  </thead>\n",
       "  <tbody>\n",
       "    <tr>\n",
       "      <td>defaulted</td>\n",
       "      <td>1731</td>\n",
       "      <td>5</td>\n",
       "      <td>married</td>\n",
       "      <td>925</td>\n",
       "    </tr>\n",
       "    <tr>\n",
       "      <td>not defaulted</td>\n",
       "      <td>19289</td>\n",
       "      <td>5</td>\n",
       "      <td>married</td>\n",
       "      <td>11103</td>\n",
       "    </tr>\n",
       "  </tbody>\n",
       "</table>\n",
       "</div>"
      ],
      "text/plain": [
       "               count unique      top   freq\n",
       "debt_default                               \n",
       "defaulted       1731      5  married    925\n",
       "not defaulted  19289      5  married  11103"
      ]
     },
     "execution_count": 46,
     "metadata": {},
     "output_type": "execute_result"
    }
   ],
   "source": [
    "credit_scoring.groupby('debt_default')['family_status'].describe()"
   ]
  },
  {
   "cell_type": "markdown",
   "metadata": {},
   "source": [
    "- There are 1731 customers who have defaulted or couldnt pay the loan. Thats the only 8 % of total customer which good. Lower default rate lower provisions on loans from the bank's perspective"
   ]
  },
  {
   "cell_type": "code",
   "execution_count": 47,
   "metadata": {},
   "outputs": [
    {
     "data": {
      "text/html": [
       "<div>\n",
       "<style scoped>\n",
       "    .dataframe tbody tr th:only-of-type {\n",
       "        vertical-align: middle;\n",
       "    }\n",
       "\n",
       "    .dataframe tbody tr th {\n",
       "        vertical-align: top;\n",
       "    }\n",
       "\n",
       "    .dataframe thead th {\n",
       "        text-align: right;\n",
       "    }\n",
       "</style>\n",
       "<table border=\"1\" class=\"dataframe\">\n",
       "  <thead>\n",
       "    <tr style=\"text-align: right;\">\n",
       "      <th></th>\n",
       "      <th>education</th>\n",
       "      <th>family_status</th>\n",
       "      <th>gender</th>\n",
       "      <th>income_type</th>\n",
       "      <th>purpose</th>\n",
       "      <th>age_group</th>\n",
       "      <th>income_cat</th>\n",
       "      <th>debt_default</th>\n",
       "    </tr>\n",
       "  </thead>\n",
       "  <tbody>\n",
       "    <tr>\n",
       "      <td>count</td>\n",
       "      <td>21020</td>\n",
       "      <td>21020</td>\n",
       "      <td>21020</td>\n",
       "      <td>21020</td>\n",
       "      <td>21020</td>\n",
       "      <td>21020</td>\n",
       "      <td>21020</td>\n",
       "      <td>21020</td>\n",
       "    </tr>\n",
       "    <tr>\n",
       "      <td>unique</td>\n",
       "      <td>5</td>\n",
       "      <td>5</td>\n",
       "      <td>3</td>\n",
       "      <td>8</td>\n",
       "      <td>4</td>\n",
       "      <td>3</td>\n",
       "      <td>4</td>\n",
       "      <td>2</td>\n",
       "    </tr>\n",
       "    <tr>\n",
       "      <td>top</td>\n",
       "      <td>secondary education</td>\n",
       "      <td>married</td>\n",
       "      <td>F</td>\n",
       "      <td>employee</td>\n",
       "      <td>real estate</td>\n",
       "      <td>adults</td>\n",
       "      <td>upper_middle_income</td>\n",
       "      <td>not defaulted</td>\n",
       "    </tr>\n",
       "    <tr>\n",
       "      <td>freq</td>\n",
       "      <td>14813</td>\n",
       "      <td>12028</td>\n",
       "      <td>13853</td>\n",
       "      <td>10845</td>\n",
       "      <td>10532</td>\n",
       "      <td>17274</td>\n",
       "      <td>11966</td>\n",
       "      <td>19289</td>\n",
       "    </tr>\n",
       "  </tbody>\n",
       "</table>\n",
       "</div>"
      ],
      "text/plain": [
       "                  education family_status gender income_type      purpose  \\\n",
       "count                 21020         21020  21020       21020        21020   \n",
       "unique                    5             5      3           8            4   \n",
       "top     secondary education       married      F    employee  real estate   \n",
       "freq                  14813         12028  13853       10845        10532   \n",
       "\n",
       "       age_group           income_cat   debt_default  \n",
       "count      21020                21020          21020  \n",
       "unique         3                    4              2  \n",
       "top       adults  upper_middle_income  not defaulted  \n",
       "freq       17274                11966          19289  "
      ]
     },
     "execution_count": 47,
     "metadata": {},
     "output_type": "execute_result"
    }
   ],
   "source": [
    "# Stats for string data after clearance and additional columns\n",
    "import numpy as np\n",
    "credit_scoring.describe(include=np.object)"
   ]
  },
  {
   "cell_type": "markdown",
   "metadata": {},
   "source": [
    "### Conclusion"
   ]
  },
  {
   "cell_type": "markdown",
   "metadata": {},
   "source": [
    "- When the data is clean and categorized we can proceed to our analysis and questions that need to be answered."
   ]
  },
  {
   "cell_type": "markdown",
   "metadata": {},
   "source": [
    "### Step 3. Answer these questions"
   ]
  },
  {
   "cell_type": "markdown",
   "metadata": {},
   "source": [
    "##### Is there a relation between having kids and repaying a loan on time?"
   ]
  },
  {
   "cell_type": "code",
   "execution_count": 48,
   "metadata": {},
   "outputs": [
    {
     "name": "stdout",
     "output_type": "stream",
     "text": [
      "          count   sum    mean\n",
      "           debt  debt    debt\n",
      "children                     \n",
      "0         13761  1056  0.0767\n",
      "1          4782   442  0.0924\n",
      "2          2101   202  0.0961\n",
      "3           327    27  0.0826\n",
      "4            40     4  0.1000\n",
      "5             9     0  0.0000\n",
      "\n",
      "Customers who have 2 and 4 children have highest default rate:10%.\n"
     ]
    }
   ],
   "source": [
    "#credit_scoring['debt_children_ratio'] \n",
    "print(credit_scoring.pivot_table(index='children', values='debt', aggfunc= ['count', 'sum', 'mean']).round(4))\n",
    "print()\n",
    "print('Customers who have 2 and 4 children have highest default rate:10%.')"
   ]
  },
  {
   "cell_type": "markdown",
   "metadata": {},
   "source": [
    "### Conclusion"
   ]
  },
  {
   "cell_type": "markdown",
   "metadata": {},
   "source": [
    "- Customers  4 children tend to default on the loan much often than the other group of our dataset, and the default rate = 10.00%. Since we could find out groups with highest default rate, we can answer to the question that: there is a relation between having kids and repaying a loan on time.\n",
    "- But there is an exception with 5 children in the family with 0.00% default rate. It can be explained by the tiny number of observations in the dataset which is only 9 out of 21020 but still we can include them into more reliable groups {0,3,5} children.\n",
    "- The difference between default rates of sample group with no child (7.67%) and  default rates of sample groups with 1 child, 2, 3 kids  9.24%, 9.61%, 8.26% respectively are not significant which means the variable `children` does not have a huge impact on paying the loan on time but still there is a difference."
   ]
  },
  {
   "cell_type": "markdown",
   "metadata": {},
   "source": [
    "##### Is there a relation between marital status and repaying a loan on time?"
   ]
  },
  {
   "cell_type": "code",
   "execution_count": 49,
   "metadata": {},
   "outputs": [
    {
     "data": {
      "text/html": [
       "<div>\n",
       "<style scoped>\n",
       "    .dataframe tbody tr th:only-of-type {\n",
       "        vertical-align: middle;\n",
       "    }\n",
       "\n",
       "    .dataframe tbody tr th {\n",
       "        vertical-align: top;\n",
       "    }\n",
       "\n",
       "    .dataframe thead tr th {\n",
       "        text-align: left;\n",
       "    }\n",
       "\n",
       "    .dataframe thead tr:last-of-type th {\n",
       "        text-align: right;\n",
       "    }\n",
       "</style>\n",
       "<table border=\"1\" class=\"dataframe\">\n",
       "  <thead>\n",
       "    <tr>\n",
       "      <th></th>\n",
       "      <th>count</th>\n",
       "      <th>sum</th>\n",
       "      <th>mean</th>\n",
       "    </tr>\n",
       "    <tr>\n",
       "      <th></th>\n",
       "      <th>debt</th>\n",
       "      <th>debt</th>\n",
       "      <th>debt</th>\n",
       "    </tr>\n",
       "    <tr>\n",
       "      <th>family_status</th>\n",
       "      <th></th>\n",
       "      <th></th>\n",
       "      <th></th>\n",
       "    </tr>\n",
       "  </thead>\n",
       "  <tbody>\n",
       "    <tr>\n",
       "      <td>civil partnership</td>\n",
       "      <td>4103</td>\n",
       "      <td>386</td>\n",
       "      <td>0.0941</td>\n",
       "    </tr>\n",
       "    <tr>\n",
       "      <td>divorced</td>\n",
       "      <td>1183</td>\n",
       "      <td>85</td>\n",
       "      <td>0.0719</td>\n",
       "    </tr>\n",
       "    <tr>\n",
       "      <td>married</td>\n",
       "      <td>12028</td>\n",
       "      <td>925</td>\n",
       "      <td>0.0769</td>\n",
       "    </tr>\n",
       "    <tr>\n",
       "      <td>unmarried</td>\n",
       "      <td>2768</td>\n",
       "      <td>273</td>\n",
       "      <td>0.0986</td>\n",
       "    </tr>\n",
       "    <tr>\n",
       "      <td>widow / widower</td>\n",
       "      <td>938</td>\n",
       "      <td>62</td>\n",
       "      <td>0.0661</td>\n",
       "    </tr>\n",
       "  </tbody>\n",
       "</table>\n",
       "</div>"
      ],
      "text/plain": [
       "                   count  sum    mean\n",
       "                    debt debt    debt\n",
       "family_status                        \n",
       "civil partnership   4103  386  0.0941\n",
       "divorced            1183   85  0.0719\n",
       "married            12028  925  0.0769\n",
       "unmarried           2768  273  0.0986\n",
       "widow / widower      938   62  0.0661"
      ]
     },
     "execution_count": 49,
     "metadata": {},
     "output_type": "execute_result"
    }
   ],
   "source": [
    "credit_scoring.pivot_table(index='family_status', values='debt', aggfunc= ['count', 'sum','mean',]).round(4)"
   ]
  },
  {
   "cell_type": "markdown",
   "metadata": {},
   "source": [
    "### Conclusion"
   ]
  },
  {
   "cell_type": "markdown",
   "metadata": {},
   "source": [
    "- `unmarried` group of customers have the highest default rate (9.86%). It can be explained that unmarried people who are not in serious relationship have tendency not to pay their loan on time.\n",
    "- It's interesting to see the default rates of `divorced` and `widow / widower` groups have the lowest default rate:7.19% and 7.69% respectively. They have the least number of people who has ever defaulted.\n",
    "`Civil partnership` and `married` couples have 9.41% and 7.69% default rates respectively. In general the deviation of default rates between defaulted group of people is not that big. But still marital status plays a role when repaying a loan on time."
   ]
  },
  {
   "cell_type": "markdown",
   "metadata": {},
   "source": [
    "##### Is there a relation between income level and repaying a loan on time?"
   ]
  },
  {
   "cell_type": "code",
   "execution_count": 50,
   "metadata": {},
   "outputs": [
    {
     "data": {
      "text/html": [
       "<div>\n",
       "<style scoped>\n",
       "    .dataframe tbody tr th:only-of-type {\n",
       "        vertical-align: middle;\n",
       "    }\n",
       "\n",
       "    .dataframe tbody tr th {\n",
       "        vertical-align: top;\n",
       "    }\n",
       "\n",
       "    .dataframe thead tr th {\n",
       "        text-align: left;\n",
       "    }\n",
       "\n",
       "    .dataframe thead tr:last-of-type th {\n",
       "        text-align: right;\n",
       "    }\n",
       "</style>\n",
       "<table border=\"1\" class=\"dataframe\">\n",
       "  <thead>\n",
       "    <tr>\n",
       "      <th></th>\n",
       "      <th>count</th>\n",
       "      <th>sum</th>\n",
       "      <th>mean</th>\n",
       "    </tr>\n",
       "    <tr>\n",
       "      <th></th>\n",
       "      <th>debt</th>\n",
       "      <th>debt</th>\n",
       "      <th>debt</th>\n",
       "    </tr>\n",
       "    <tr>\n",
       "      <th>income_cat</th>\n",
       "      <th></th>\n",
       "      <th></th>\n",
       "      <th></th>\n",
       "    </tr>\n",
       "  </thead>\n",
       "  <tbody>\n",
       "    <tr>\n",
       "      <td>high_income</td>\n",
       "      <td>7198</td>\n",
       "      <td>536</td>\n",
       "      <td>0.0745</td>\n",
       "    </tr>\n",
       "    <tr>\n",
       "      <td>low_income</td>\n",
       "      <td>89</td>\n",
       "      <td>5</td>\n",
       "      <td>0.0562</td>\n",
       "    </tr>\n",
       "    <tr>\n",
       "      <td>lower_middle_income</td>\n",
       "      <td>1767</td>\n",
       "      <td>131</td>\n",
       "      <td>0.0741</td>\n",
       "    </tr>\n",
       "    <tr>\n",
       "      <td>upper_middle_income</td>\n",
       "      <td>11966</td>\n",
       "      <td>1059</td>\n",
       "      <td>0.0885</td>\n",
       "    </tr>\n",
       "  </tbody>\n",
       "</table>\n",
       "</div>"
      ],
      "text/plain": [
       "                     count   sum    mean\n",
       "                      debt  debt    debt\n",
       "income_cat                              \n",
       "high_income           7198   536  0.0745\n",
       "low_income              89     5  0.0562\n",
       "lower_middle_income   1767   131  0.0741\n",
       "upper_middle_income  11966  1059  0.0885"
      ]
     },
     "execution_count": 50,
     "metadata": {},
     "output_type": "execute_result"
    }
   ],
   "source": [
    "credit_scoring.pivot_table(index='income_cat', values='debt', aggfunc= ['count', 'sum','mean']).round(4)"
   ]
  },
  {
   "cell_type": "markdown",
   "metadata": {},
   "source": [
    "### Conclusion"
   ]
  },
  {
   "cell_type": "markdown",
   "metadata": {},
   "source": [
    "- `upper_middle_income` class are the main demand for the bank loan, followed by `high-income` customers. Accordingly, the default rate of upper_middle_income customers is the highest (8.85%) with `high-income` and `lower-middle-income` groups are in second and third positions with the default rates of 7.45% and 7.41% respectively.\n",
    "- `low-income` customers ironically have the lowest default rate(5.62%) even if they constitute the smallest portion of the defaulters.\n",
    "- It is worth to mention that classification of income groups plays an important role here. "
   ]
  },
  {
   "cell_type": "markdown",
   "metadata": {},
   "source": [
    "##### How do different loan purposes affect on-time repayment of the loan?"
   ]
  },
  {
   "cell_type": "code",
   "execution_count": 51,
   "metadata": {},
   "outputs": [
    {
     "data": {
      "text/html": [
       "<div>\n",
       "<style scoped>\n",
       "    .dataframe tbody tr th:only-of-type {\n",
       "        vertical-align: middle;\n",
       "    }\n",
       "\n",
       "    .dataframe tbody tr th {\n",
       "        vertical-align: top;\n",
       "    }\n",
       "\n",
       "    .dataframe thead tr th {\n",
       "        text-align: left;\n",
       "    }\n",
       "\n",
       "    .dataframe thead tr:last-of-type th {\n",
       "        text-align: right;\n",
       "    }\n",
       "</style>\n",
       "<table border=\"1\" class=\"dataframe\">\n",
       "  <thead>\n",
       "    <tr>\n",
       "      <th></th>\n",
       "      <th>count</th>\n",
       "      <th>sum</th>\n",
       "      <th>mean</th>\n",
       "    </tr>\n",
       "    <tr>\n",
       "      <th></th>\n",
       "      <th>debt</th>\n",
       "      <th>debt</th>\n",
       "      <th>debt</th>\n",
       "    </tr>\n",
       "    <tr>\n",
       "      <th>purpose</th>\n",
       "      <th></th>\n",
       "      <th></th>\n",
       "      <th></th>\n",
       "    </tr>\n",
       "  </thead>\n",
       "  <tbody>\n",
       "    <tr>\n",
       "      <td>car</td>\n",
       "      <td>4250</td>\n",
       "      <td>399</td>\n",
       "      <td>0.0939</td>\n",
       "    </tr>\n",
       "    <tr>\n",
       "      <td>education</td>\n",
       "      <td>3946</td>\n",
       "      <td>370</td>\n",
       "      <td>0.0938</td>\n",
       "    </tr>\n",
       "    <tr>\n",
       "      <td>real estate</td>\n",
       "      <td>10532</td>\n",
       "      <td>778</td>\n",
       "      <td>0.0739</td>\n",
       "    </tr>\n",
       "    <tr>\n",
       "      <td>wedding</td>\n",
       "      <td>2292</td>\n",
       "      <td>184</td>\n",
       "      <td>0.0803</td>\n",
       "    </tr>\n",
       "  </tbody>\n",
       "</table>\n",
       "</div>"
      ],
      "text/plain": [
       "             count  sum    mean\n",
       "              debt debt    debt\n",
       "purpose                        \n",
       "car           4250  399  0.0939\n",
       "education     3946  370  0.0938\n",
       "real estate  10532  778  0.0739\n",
       "wedding       2292  184  0.0803"
      ]
     },
     "execution_count": 51,
     "metadata": {},
     "output_type": "execute_result"
    }
   ],
   "source": [
    "credit_scoring.pivot_table(index='purpose', values='debt', aggfunc= ['count', 'sum','mean']).round(4)"
   ]
  },
  {
   "cell_type": "markdown",
   "metadata": {},
   "source": [
    "### Conclusion"
   ]
  },
  {
   "cell_type": "markdown",
   "metadata": {},
   "source": [
    "- Majority of customers took a loan (mortgage) for `real estate` expenses but they have the least default rate (7.39%). `purchasing a car` and `education` purposes share the almost same default rates 9.39% 9.38% respectively,  which are the highest among other purposes. People whose purpose was somehow related to `real estate` have the lowest default rate (7.39%).\n",
    "- The higher the default rate, the higher the risk for the investment from bank's perspective. There is a logic behin the high default rates, `car` & `education` are the risky investments comparint to real estate which is usually a long-term debt and to get this debt you need collateral and high income which makes it harder to default."
   ]
  },
  {
   "cell_type": "code",
   "execution_count": 52,
   "metadata": {},
   "outputs": [
    {
     "data": {
      "text/html": [
       "<div>\n",
       "<style scoped>\n",
       "    .dataframe tbody tr th:only-of-type {\n",
       "        vertical-align: middle;\n",
       "    }\n",
       "\n",
       "    .dataframe tbody tr th {\n",
       "        vertical-align: top;\n",
       "    }\n",
       "\n",
       "    .dataframe thead th {\n",
       "        text-align: right;\n",
       "    }\n",
       "</style>\n",
       "<table border=\"1\" class=\"dataframe\">\n",
       "  <thead>\n",
       "    <tr style=\"text-align: right;\">\n",
       "      <th></th>\n",
       "      <th>education</th>\n",
       "      <th>family_status</th>\n",
       "      <th>gender</th>\n",
       "      <th>income_type</th>\n",
       "      <th>purpose</th>\n",
       "      <th>age_group</th>\n",
       "      <th>income_cat</th>\n",
       "      <th>debt_default</th>\n",
       "    </tr>\n",
       "  </thead>\n",
       "  <tbody>\n",
       "    <tr>\n",
       "      <td>count</td>\n",
       "      <td>21020</td>\n",
       "      <td>21020</td>\n",
       "      <td>21020</td>\n",
       "      <td>21020</td>\n",
       "      <td>21020</td>\n",
       "      <td>21020</td>\n",
       "      <td>21020</td>\n",
       "      <td>21020</td>\n",
       "    </tr>\n",
       "    <tr>\n",
       "      <td>unique</td>\n",
       "      <td>5</td>\n",
       "      <td>5</td>\n",
       "      <td>3</td>\n",
       "      <td>8</td>\n",
       "      <td>4</td>\n",
       "      <td>3</td>\n",
       "      <td>4</td>\n",
       "      <td>2</td>\n",
       "    </tr>\n",
       "    <tr>\n",
       "      <td>top</td>\n",
       "      <td>secondary education</td>\n",
       "      <td>married</td>\n",
       "      <td>F</td>\n",
       "      <td>employee</td>\n",
       "      <td>real estate</td>\n",
       "      <td>adults</td>\n",
       "      <td>upper_middle_income</td>\n",
       "      <td>not defaulted</td>\n",
       "    </tr>\n",
       "    <tr>\n",
       "      <td>freq</td>\n",
       "      <td>14813</td>\n",
       "      <td>12028</td>\n",
       "      <td>13853</td>\n",
       "      <td>10845</td>\n",
       "      <td>10532</td>\n",
       "      <td>17274</td>\n",
       "      <td>11966</td>\n",
       "      <td>19289</td>\n",
       "    </tr>\n",
       "  </tbody>\n",
       "</table>\n",
       "</div>"
      ],
      "text/plain": [
       "                  education family_status gender income_type      purpose  \\\n",
       "count                 21020         21020  21020       21020        21020   \n",
       "unique                    5             5      3           8            4   \n",
       "top     secondary education       married      F    employee  real estate   \n",
       "freq                  14813         12028  13853       10845        10532   \n",
       "\n",
       "       age_group           income_cat   debt_default  \n",
       "count      21020                21020          21020  \n",
       "unique         3                    4              2  \n",
       "top       adults  upper_middle_income  not defaulted  \n",
       "freq       17274                11966          19289  "
      ]
     },
     "execution_count": 52,
     "metadata": {},
     "output_type": "execute_result"
    }
   ],
   "source": [
    "# concluding remark\n",
    "import numpy as np\n",
    "credit_scoring.describe(include=np.object)"
   ]
  },
  {
   "cell_type": "markdown",
   "metadata": {},
   "source": [
    "### Step 4. General conclusion"
   ]
  },
  {
   "cell_type": "markdown",
   "metadata": {},
   "source": [
    "<div class=\"alert alert-warning\">The ultimate goal of our analysis was to find out <b>if a customer’s marital status and number of children has an impact on whether they will default on a loan.</b> We had some raw data on customers’ credit worthiness.\n",
    "\n",
    "<b>Description of the data:</b>\n",
    "\n",
    "`children`: the number of children in the family <div>\n",
    "`days_employed`: how long the customer has been working<div>\n",
    "`customer_age`: the customer’s age<div>\n",
    "`education`: the customer’s education level<div>\n",
    "`education_id`: identifier for the customer’s education<div>\n",
    "`family_status`: the customer’s marital status<div>\n",
    "`family_status_id`: identifier for the customer’s marital status<div>\n",
    "`gender`: the customer’s gender<div>\n",
    "`income_type`: the customer’s income type<div>\n",
    "`debt`: whether the customer has ever defaulted on a loan<div>\n",
    "`total_income`: monthly income<div>\n",
    "`purpose`: reason for taking out a loan<div>\n",
    "`income_cat`: income level category<div>\n",
    "\n",
    "Before jumping right into analysis, we had to do data preprocessing, getting the dataset cleaned and accurate. The dataset has all three types of variables, quantitative, categorical and logical.\n",
    "The data cleaning was started by filling gaps by appropriate columns' average(e.g. average total income by income types was calculated to replace missing values in `total_income` variable. missing values (NaN values in `days_employed` were filled by the average days employed of `income_type`), illogical values(e.g. 20 children per customer) is typo mistake were replaced by value 2, negative values (e.g.negative number of children) were converted to absolute values.\n",
    "The presence of missing values lead to duplicates most of the time, they were detected and removed. \n",
    "Now talking about the data itself, majority of the customers have:\n",
    "    - secondary education -- 70.4 %\n",
    "    - married -- 57.2% \n",
    "    - employees -- 51.6% \n",
    "    - female individuals -- 65.9% \n",
    "Customers borrow money mainly for real-estate purposes (50.1%) and most of them are adults, aged between 25 - 58, (81.2%). It is worth to point out that only 8.23% of clients have defaulted on their loan. \n",
    "Having a general idea of our clients, we needed to find answer for our main questions which are:\n",
    " 1. <b>*Is there a relation between having kids and repaying a loan on time?*</b>\n",
    "    - Our study shows that customers with 4 children tend to default on the loan much often than the other group of our dataset, and the default rate is 10.00%. Since we could find out groups with highest default rate, we can answer to the question that: there is a relation between having kids and repaying a loan on time.But there is an exception with 5 children in the family with 0.00% default rate. It can be explained by the tiny number of observations in the dataset which is only 9 out of 21020 but still we can include them into more reliable groups {0,3,5} children. \n",
    "    - The difference between default rates of sample group with no child - 7.67% and  default rates of sample groups with 1 child, 2, 3 kids  9.24%, 9.61%, 8.26% respectively. The difference could be vital when we talk about huge database.\n",
    "   \n",
    " 2. <b>*Is there a relation between marital status and repaying a loan on time?*</b>\n",
    "    - `unmarried` group of customers have the highest default rate (9.86%). It can be explained that unmarried people who are not in serious relationship have tendency not to pay their loan on time.\n",
    "    - It is interesting to see the default rates of `divorced` and `widow / widower` groups have the lowest default rate: 7.19% and 7.69% respectively. They have the least number of people who has ever defaulted.\n",
    "    - `Civil partnership` and `married` couples have 9.41% and 7.69% default rates respectively. In general the deviation of default rates between defaulted group of people is not that big. But still marital status plays a role when repaying a loan on time.\n",
    "    \n",
    " 3. <b>*Is there a relation between income level and repaying a loan on time?*</b>\n",
    "    - `upper_middle_income` class are the main demand for the bank loan, followed by high-income customers. Accordingly, the default rate of upper_middle_income customers is the highest (8.85%) with high-income and `lower-middle-income groups` are in second and third positions with the default rates of 7.45% and 7.41% respectively.\n",
    "    - `low-income` customers ironically have the lowest default rate(5.62%) even if they constitute the smallest portion of the defaulters.\n",
    "It is worth to mention that classification of income groups plays an important role here.\n",
    "    \n",
    " 4. <b>*How do different loan purposes affect on-time repayment of the loan?*</b>\n",
    "    - Majority of customers took a loan (mortgage) for real estate expenses but they have the least default rate (7.39%). purchasing a car and education purposes share the almost same default rates 9.39% 9.38% respectively, which are the highest among other purposes. People whose purpose was somehow related to real estate have the lowest default rate (7.39%).\n",
    "    - The higher the default rate, the higher the risk for the investment from bank's perspective. There is a logic behin the high default rates, car and education are the risky investments comparint to real estate which is usually a long-term debt and to get this debt you need collateral and high income which makes it harder to default.\n",
    "    \n",
    "<div>In a nutshell, by getting answers for these questions, our hypotheses of marital status and having kid affecting the loan repayment on time are accepted. In each question we were able to identify the least/best respondents.\n",
    "    \n",
    "<div>I would like to state that, education level also plays a tremendous role and might have a huge impact on loan repayments of the customers. In addition, this variable drives other variables like income level, purpose of taking a loan. By defining the question of how education level could impact on loan repayment time we could be one step closer towards goal.\n",
    "</div>\n"
   ]
  }
 ],
 "metadata": {
  "kernelspec": {
   "display_name": "Python 3",
   "language": "python",
   "name": "python3"
  },
  "language_info": {
   "codemirror_mode": {
    "name": "ipython",
    "version": 3
   },
   "file_extension": ".py",
   "mimetype": "text/x-python",
   "name": "python",
   "nbconvert_exporter": "python",
   "pygments_lexer": "ipython3",
   "version": "3.8.5"
  },
  "toc": {
   "base_numbering": 1,
   "nav_menu": {},
   "number_sections": true,
   "sideBar": true,
   "skip_h1_title": true,
   "title_cell": "Table of Contents",
   "title_sidebar": "Contents",
   "toc_cell": false,
   "toc_position": {},
   "toc_section_display": true,
   "toc_window_display": false
  }
 },
 "nbformat": 4,
 "nbformat_minor": 2
}
