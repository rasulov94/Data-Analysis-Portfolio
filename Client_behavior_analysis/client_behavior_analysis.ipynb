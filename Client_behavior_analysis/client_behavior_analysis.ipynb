{
 "cells": [
  {
   "cell_type": "markdown",
   "metadata": {},
   "source": [
    "### Table of contents "
   ]
  },
  {
   "cell_type": "markdown",
   "metadata": {},
   "source": [
    "#### [Step 1. Data files and studying the general information. ](#1)  \n",
    "#### [Step 2. Preparing the data.](#2)  \n",
    "#### [Step 3. Analyze the data](#3)  \n",
    "#### [Step 4. Test the hypotheses](#4)\n",
    "#### [Step 5. Write an overall conclusion](#5)  "
   ]
  },
  {
   "cell_type": "markdown",
   "metadata": {},
   "source": [
    "<a id=\"1\"></a>"
   ]
  },
  {
   "cell_type": "markdown",
   "metadata": {},
   "source": [
    "### Step 1. Open the data file and study the general information"
   ]
  },
  {
   "cell_type": "code",
   "execution_count": 1,
   "metadata": {},
   "outputs": [
    {
     "name": "stdout",
     "output_type": "stream",
     "text": [
      "Defaulting to user installation because normal site-packages is not writeable\n",
      "Collecting plotly\n",
      "  Downloading plotly-4.14.3-py2.py3-none-any.whl (13.2 MB)\n",
      "\u001b[K     |████████████████████████████████| 13.2 MB 67 kB/s s eta 0:00:01\n",
      "\u001b[?25hRequirement already satisfied, skipping upgrade: six in /opt/conda/lib/python3.7/site-packages (from plotly) (1.15.0)\n",
      "Requirement already satisfied, skipping upgrade: retrying>=1.3.3 in /opt/conda/lib/python3.7/site-packages (from plotly) (1.3.3)\n",
      "Installing collected packages: plotly\n",
      "Successfully installed plotly-4.14.3\n"
     ]
    }
   ],
   "source": [
    "#!pip install plotly -U\n",
    "#!pip install scipy -U\n",
    "#!pip install numpy -U\n",
    "#!pip install pandas -U\n",
    "#!pip install matplotlib -U"
   ]
  },
  {
   "cell_type": "code",
   "execution_count": 6,
   "metadata": {
    "scrolled": true
   },
   "outputs": [],
   "source": [
    "# Libraries\n",
    "import pandas as pd\n",
    "import numpy as np\n",
    "import matplotlib.pyplot as plt\n",
    "import scipy.stats as st\n",
    "df_users = pd.read_csv('/datasets/megaline_users.csv')\n",
    "df_plans = pd.read_csv('/datasets/megaline_plans.csv')\n",
    "df_calls = pd.read_csv('/datasets/megaline_calls.csv')\n",
    "df_internet = pd.read_csv('/datasets/megaline_internet.csv')\n",
    "df_messages = pd.read_csv('/datasets/megaline_messages.csv')"
   ]
  },
  {
   "cell_type": "markdown",
   "metadata": {},
   "source": [
    "We have a data in a separate files and we are going to analyse each and create a single consolidated dataframe."
   ]
  },
  {
   "cell_type": "markdown",
   "metadata": {},
   "source": [
    "#### df_users dataframe - Info about users"
   ]
  },
  {
   "cell_type": "code",
   "execution_count": 7,
   "metadata": {},
   "outputs": [
    {
     "data": {
      "text/html": [
       "<div>\n",
       "<style scoped>\n",
       "    .dataframe tbody tr th:only-of-type {\n",
       "        vertical-align: middle;\n",
       "    }\n",
       "\n",
       "    .dataframe tbody tr th {\n",
       "        vertical-align: top;\n",
       "    }\n",
       "\n",
       "    .dataframe thead th {\n",
       "        text-align: right;\n",
       "    }\n",
       "</style>\n",
       "<table border=\"1\" class=\"dataframe\">\n",
       "  <thead>\n",
       "    <tr style=\"text-align: right;\">\n",
       "      <th></th>\n",
       "      <th>user_id</th>\n",
       "      <th>first_name</th>\n",
       "      <th>last_name</th>\n",
       "      <th>age</th>\n",
       "      <th>city</th>\n",
       "      <th>reg_date</th>\n",
       "      <th>plan</th>\n",
       "      <th>churn_date</th>\n",
       "    </tr>\n",
       "  </thead>\n",
       "  <tbody>\n",
       "    <tr>\n",
       "      <th>0</th>\n",
       "      <td>1000</td>\n",
       "      <td>Anamaria</td>\n",
       "      <td>Bauer</td>\n",
       "      <td>45</td>\n",
       "      <td>Atlanta-Sandy Springs-Roswell, GA MSA</td>\n",
       "      <td>2018-12-24</td>\n",
       "      <td>ultimate</td>\n",
       "      <td>NaN</td>\n",
       "    </tr>\n",
       "    <tr>\n",
       "      <th>1</th>\n",
       "      <td>1001</td>\n",
       "      <td>Mickey</td>\n",
       "      <td>Wilkerson</td>\n",
       "      <td>28</td>\n",
       "      <td>Seattle-Tacoma-Bellevue, WA MSA</td>\n",
       "      <td>2018-08-13</td>\n",
       "      <td>surf</td>\n",
       "      <td>NaN</td>\n",
       "    </tr>\n",
       "  </tbody>\n",
       "</table>\n",
       "</div>"
      ],
      "text/plain": [
       "   user_id first_name  last_name  age                                   city  \\\n",
       "0     1000   Anamaria      Bauer   45  Atlanta-Sandy Springs-Roswell, GA MSA   \n",
       "1     1001     Mickey  Wilkerson   28        Seattle-Tacoma-Bellevue, WA MSA   \n",
       "\n",
       "     reg_date      plan churn_date  \n",
       "0  2018-12-24  ultimate        NaN  \n",
       "1  2018-08-13      surf        NaN  "
      ]
     },
     "execution_count": 7,
     "metadata": {},
     "output_type": "execute_result"
    }
   ],
   "source": [
    "# general info about tables\n",
    "df_users.head(2)"
   ]
  },
  {
   "cell_type": "code",
   "execution_count": 8,
   "metadata": {},
   "outputs": [
    {
     "name": "stdout",
     "output_type": "stream",
     "text": [
      "<class 'pandas.core.frame.DataFrame'>\n",
      "RangeIndex: 500 entries, 0 to 499\n",
      "Data columns (total 8 columns):\n",
      " #   Column      Non-Null Count  Dtype \n",
      "---  ------      --------------  ----- \n",
      " 0   user_id     500 non-null    int64 \n",
      " 1   first_name  500 non-null    object\n",
      " 2   last_name   500 non-null    object\n",
      " 3   age         500 non-null    int64 \n",
      " 4   city        500 non-null    object\n",
      " 5   reg_date    500 non-null    object\n",
      " 6   plan        500 non-null    object\n",
      " 7   churn_date  34 non-null     object\n",
      "dtypes: int64(2), object(6)\n",
      "memory usage: 31.4+ KB\n"
     ]
    }
   ],
   "source": [
    "df_users.info()"
   ]
  },
  {
   "cell_type": "code",
   "execution_count": 9,
   "metadata": {},
   "outputs": [
    {
     "data": {
      "text/plain": [
       "34"
      ]
     },
     "execution_count": 9,
     "metadata": {},
     "output_type": "execute_result"
    }
   ],
   "source": [
    "df_users['churn_date'].notnull().sum()"
   ]
  },
  {
   "cell_type": "code",
   "execution_count": 10,
   "metadata": {
    "scrolled": true
   },
   "outputs": [
    {
     "data": {
      "text/html": [
       "<div>\n",
       "<style scoped>\n",
       "    .dataframe tbody tr th:only-of-type {\n",
       "        vertical-align: middle;\n",
       "    }\n",
       "\n",
       "    .dataframe tbody tr th {\n",
       "        vertical-align: top;\n",
       "    }\n",
       "\n",
       "    .dataframe thead th {\n",
       "        text-align: right;\n",
       "    }\n",
       "</style>\n",
       "<table border=\"1\" class=\"dataframe\">\n",
       "  <thead>\n",
       "    <tr style=\"text-align: right;\">\n",
       "      <th></th>\n",
       "      <th>user_id</th>\n",
       "      <th>churn_date</th>\n",
       "    </tr>\n",
       "  </thead>\n",
       "  <tbody>\n",
       "    <tr>\n",
       "      <th>6</th>\n",
       "      <td>1006</td>\n",
       "      <td>2018-12-18</td>\n",
       "    </tr>\n",
       "    <tr>\n",
       "      <th>12</th>\n",
       "      <td>1012</td>\n",
       "      <td>2018-11-16</td>\n",
       "    </tr>\n",
       "    <tr>\n",
       "      <th>22</th>\n",
       "      <td>1022</td>\n",
       "      <td>2018-09-07</td>\n",
       "    </tr>\n",
       "    <tr>\n",
       "      <th>40</th>\n",
       "      <td>1040</td>\n",
       "      <td>2018-12-30</td>\n",
       "    </tr>\n",
       "    <tr>\n",
       "      <th>50</th>\n",
       "      <td>1050</td>\n",
       "      <td>2018-10-07</td>\n",
       "    </tr>\n",
       "    <tr>\n",
       "      <th>54</th>\n",
       "      <td>1054</td>\n",
       "      <td>2018-12-31</td>\n",
       "    </tr>\n",
       "    <tr>\n",
       "      <th>67</th>\n",
       "      <td>1067</td>\n",
       "      <td>2018-11-24</td>\n",
       "    </tr>\n",
       "    <tr>\n",
       "      <th>83</th>\n",
       "      <td>1083</td>\n",
       "      <td>2018-12-18</td>\n",
       "    </tr>\n",
       "    <tr>\n",
       "      <th>84</th>\n",
       "      <td>1084</td>\n",
       "      <td>2018-11-11</td>\n",
       "    </tr>\n",
       "    <tr>\n",
       "      <th>94</th>\n",
       "      <td>1094</td>\n",
       "      <td>2018-12-12</td>\n",
       "    </tr>\n",
       "    <tr>\n",
       "      <th>106</th>\n",
       "      <td>1106</td>\n",
       "      <td>2018-11-14</td>\n",
       "    </tr>\n",
       "    <tr>\n",
       "      <th>129</th>\n",
       "      <td>1129</td>\n",
       "      <td>2018-12-27</td>\n",
       "    </tr>\n",
       "    <tr>\n",
       "      <th>172</th>\n",
       "      <td>1172</td>\n",
       "      <td>2018-11-29</td>\n",
       "    </tr>\n",
       "    <tr>\n",
       "      <th>180</th>\n",
       "      <td>1180</td>\n",
       "      <td>2018-12-22</td>\n",
       "    </tr>\n",
       "    <tr>\n",
       "      <th>186</th>\n",
       "      <td>1186</td>\n",
       "      <td>2018-12-31</td>\n",
       "    </tr>\n",
       "    <tr>\n",
       "      <th>191</th>\n",
       "      <td>1191</td>\n",
       "      <td>2018-11-30</td>\n",
       "    </tr>\n",
       "    <tr>\n",
       "      <th>220</th>\n",
       "      <td>1220</td>\n",
       "      <td>2018-10-13</td>\n",
       "    </tr>\n",
       "    <tr>\n",
       "      <th>246</th>\n",
       "      <td>1246</td>\n",
       "      <td>2018-07-31</td>\n",
       "    </tr>\n",
       "    <tr>\n",
       "      <th>269</th>\n",
       "      <td>1269</td>\n",
       "      <td>2018-12-15</td>\n",
       "    </tr>\n",
       "    <tr>\n",
       "      <th>281</th>\n",
       "      <td>1281</td>\n",
       "      <td>2018-11-14</td>\n",
       "    </tr>\n",
       "    <tr>\n",
       "      <th>296</th>\n",
       "      <td>1296</td>\n",
       "      <td>2018-12-18</td>\n",
       "    </tr>\n",
       "    <tr>\n",
       "      <th>298</th>\n",
       "      <td>1298</td>\n",
       "      <td>2018-12-19</td>\n",
       "    </tr>\n",
       "    <tr>\n",
       "      <th>300</th>\n",
       "      <td>1300</td>\n",
       "      <td>2018-12-19</td>\n",
       "    </tr>\n",
       "    <tr>\n",
       "      <th>315</th>\n",
       "      <td>1315</td>\n",
       "      <td>2018-10-03</td>\n",
       "    </tr>\n",
       "    <tr>\n",
       "      <th>358</th>\n",
       "      <td>1358</td>\n",
       "      <td>2018-10-22</td>\n",
       "    </tr>\n",
       "    <tr>\n",
       "      <th>363</th>\n",
       "      <td>1363</td>\n",
       "      <td>2018-08-16</td>\n",
       "    </tr>\n",
       "    <tr>\n",
       "      <th>402</th>\n",
       "      <td>1402</td>\n",
       "      <td>2018-12-26</td>\n",
       "    </tr>\n",
       "    <tr>\n",
       "      <th>414</th>\n",
       "      <td>1414</td>\n",
       "      <td>2018-09-01</td>\n",
       "    </tr>\n",
       "    <tr>\n",
       "      <th>416</th>\n",
       "      <td>1416</td>\n",
       "      <td>2018-11-21</td>\n",
       "    </tr>\n",
       "    <tr>\n",
       "      <th>441</th>\n",
       "      <td>1441</td>\n",
       "      <td>2018-08-19</td>\n",
       "    </tr>\n",
       "    <tr>\n",
       "      <th>451</th>\n",
       "      <td>1451</td>\n",
       "      <td>2018-12-10</td>\n",
       "    </tr>\n",
       "    <tr>\n",
       "      <th>466</th>\n",
       "      <td>1466</td>\n",
       "      <td>2018-09-17</td>\n",
       "    </tr>\n",
       "    <tr>\n",
       "      <th>467</th>\n",
       "      <td>1467</td>\n",
       "      <td>2018-11-18</td>\n",
       "    </tr>\n",
       "    <tr>\n",
       "      <th>491</th>\n",
       "      <td>1491</td>\n",
       "      <td>2018-09-18</td>\n",
       "    </tr>\n",
       "  </tbody>\n",
       "</table>\n",
       "</div>"
      ],
      "text/plain": [
       "     user_id  churn_date\n",
       "6       1006  2018-12-18\n",
       "12      1012  2018-11-16\n",
       "22      1022  2018-09-07\n",
       "40      1040  2018-12-30\n",
       "50      1050  2018-10-07\n",
       "54      1054  2018-12-31\n",
       "67      1067  2018-11-24\n",
       "83      1083  2018-12-18\n",
       "84      1084  2018-11-11\n",
       "94      1094  2018-12-12\n",
       "106     1106  2018-11-14\n",
       "129     1129  2018-12-27\n",
       "172     1172  2018-11-29\n",
       "180     1180  2018-12-22\n",
       "186     1186  2018-12-31\n",
       "191     1191  2018-11-30\n",
       "220     1220  2018-10-13\n",
       "246     1246  2018-07-31\n",
       "269     1269  2018-12-15\n",
       "281     1281  2018-11-14\n",
       "296     1296  2018-12-18\n",
       "298     1298  2018-12-19\n",
       "300     1300  2018-12-19\n",
       "315     1315  2018-10-03\n",
       "358     1358  2018-10-22\n",
       "363     1363  2018-08-16\n",
       "402     1402  2018-12-26\n",
       "414     1414  2018-09-01\n",
       "416     1416  2018-11-21\n",
       "441     1441  2018-08-19\n",
       "451     1451  2018-12-10\n",
       "466     1466  2018-09-17\n",
       "467     1467  2018-11-18\n",
       "491     1491  2018-09-18"
      ]
     },
     "execution_count": 10,
     "metadata": {},
     "output_type": "execute_result"
    }
   ],
   "source": [
    "# not null values \n",
    "churn = df_users[df_users['churn_date'].notnull()]\n",
    "churn = churn[['user_id','churn_date']]\n",
    "churn"
   ]
  },
  {
   "cell_type": "markdown",
   "metadata": {},
   "source": [
    " - Non-missing values (dates) in `churn_date` column mean that the client has stopped using the service when the data was retrieved. Still we can use the data for our analysis. Missing values mean that the client was using the calling plan when the data was retrieved."
   ]
  },
  {
   "cell_type": "markdown",
   "metadata": {},
   "source": [
    "#### df_plans dataframe - Description of plan/tariff types"
   ]
  },
  {
   "cell_type": "code",
   "execution_count": 11,
   "metadata": {},
   "outputs": [
    {
     "name": "stdout",
     "output_type": "stream",
     "text": [
      "<class 'pandas.core.frame.DataFrame'>\n",
      "RangeIndex: 2 entries, 0 to 1\n",
      "Data columns (total 8 columns):\n",
      " #   Column                 Non-Null Count  Dtype  \n",
      "---  ------                 --------------  -----  \n",
      " 0   messages_included      2 non-null      int64  \n",
      " 1   mb_per_month_included  2 non-null      int64  \n",
      " 2   minutes_included       2 non-null      int64  \n",
      " 3   usd_monthly_pay        2 non-null      int64  \n",
      " 4   usd_per_gb             2 non-null      int64  \n",
      " 5   usd_per_message        2 non-null      float64\n",
      " 6   usd_per_minute         2 non-null      float64\n",
      " 7   plan_name              2 non-null      object \n",
      "dtypes: float64(2), int64(5), object(1)\n",
      "memory usage: 256.0+ bytes\n"
     ]
    }
   ],
   "source": [
    "# general info\n",
    "df_plans.info()"
   ]
  },
  {
   "cell_type": "code",
   "execution_count": 12,
   "metadata": {},
   "outputs": [
    {
     "data": {
      "text/html": [
       "<div>\n",
       "<style scoped>\n",
       "    .dataframe tbody tr th:only-of-type {\n",
       "        vertical-align: middle;\n",
       "    }\n",
       "\n",
       "    .dataframe tbody tr th {\n",
       "        vertical-align: top;\n",
       "    }\n",
       "\n",
       "    .dataframe thead th {\n",
       "        text-align: right;\n",
       "    }\n",
       "</style>\n",
       "<table border=\"1\" class=\"dataframe\">\n",
       "  <thead>\n",
       "    <tr style=\"text-align: right;\">\n",
       "      <th></th>\n",
       "      <th>messages_included</th>\n",
       "      <th>mb_per_month_included</th>\n",
       "      <th>minutes_included</th>\n",
       "      <th>usd_monthly_pay</th>\n",
       "      <th>usd_per_gb</th>\n",
       "      <th>usd_per_message</th>\n",
       "      <th>usd_per_minute</th>\n",
       "      <th>plan_name</th>\n",
       "    </tr>\n",
       "  </thead>\n",
       "  <tbody>\n",
       "    <tr>\n",
       "      <th>0</th>\n",
       "      <td>50</td>\n",
       "      <td>15360</td>\n",
       "      <td>500</td>\n",
       "      <td>20</td>\n",
       "      <td>10</td>\n",
       "      <td>0.03</td>\n",
       "      <td>0.03</td>\n",
       "      <td>surf</td>\n",
       "    </tr>\n",
       "    <tr>\n",
       "      <th>1</th>\n",
       "      <td>1000</td>\n",
       "      <td>30720</td>\n",
       "      <td>3000</td>\n",
       "      <td>70</td>\n",
       "      <td>7</td>\n",
       "      <td>0.01</td>\n",
       "      <td>0.01</td>\n",
       "      <td>ultimate</td>\n",
       "    </tr>\n",
       "  </tbody>\n",
       "</table>\n",
       "</div>"
      ],
      "text/plain": [
       "   messages_included  mb_per_month_included  minutes_included  \\\n",
       "0                 50                  15360               500   \n",
       "1               1000                  30720              3000   \n",
       "\n",
       "   usd_monthly_pay  usd_per_gb  usd_per_message  usd_per_minute plan_name  \n",
       "0               20          10             0.03            0.03      surf  \n",
       "1               70           7             0.01            0.01  ultimate  "
      ]
     },
     "execution_count": 12,
     "metadata": {},
     "output_type": "execute_result"
    }
   ],
   "source": [
    "# sample\n",
    "df_plans"
   ]
  },
  {
   "cell_type": "markdown",
   "metadata": {},
   "source": [
    " - This table contains information about tariffs' package"
   ]
  },
  {
   "cell_type": "markdown",
   "metadata": {},
   "source": [
    "#### df_calls dataframe -  Calls log"
   ]
  },
  {
   "cell_type": "code",
   "execution_count": 13,
   "metadata": {},
   "outputs": [
    {
     "name": "stdout",
     "output_type": "stream",
     "text": [
      "<class 'pandas.core.frame.DataFrame'>\n",
      "RangeIndex: 137735 entries, 0 to 137734\n",
      "Data columns (total 4 columns):\n",
      " #   Column     Non-Null Count   Dtype  \n",
      "---  ------     --------------   -----  \n",
      " 0   id         137735 non-null  object \n",
      " 1   user_id    137735 non-null  int64  \n",
      " 2   call_date  137735 non-null  object \n",
      " 3   duration   137735 non-null  float64\n",
      "dtypes: float64(1), int64(1), object(2)\n",
      "memory usage: 4.2+ MB\n"
     ]
    }
   ],
   "source": [
    "df_calls.info()"
   ]
  },
  {
   "cell_type": "code",
   "execution_count": 14,
   "metadata": {},
   "outputs": [
    {
     "data": {
      "text/plain": [
       "481"
      ]
     },
     "execution_count": 14,
     "metadata": {},
     "output_type": "execute_result"
    }
   ],
   "source": [
    "# number of unique clients\n",
    "len(df_calls['user_id'].unique())"
   ]
  },
  {
   "cell_type": "code",
   "execution_count": 15,
   "metadata": {},
   "outputs": [
    {
     "data": {
      "text/html": [
       "<div>\n",
       "<style scoped>\n",
       "    .dataframe tbody tr th:only-of-type {\n",
       "        vertical-align: middle;\n",
       "    }\n",
       "\n",
       "    .dataframe tbody tr th {\n",
       "        vertical-align: top;\n",
       "    }\n",
       "\n",
       "    .dataframe thead th {\n",
       "        text-align: right;\n",
       "    }\n",
       "</style>\n",
       "<table border=\"1\" class=\"dataframe\">\n",
       "  <thead>\n",
       "    <tr style=\"text-align: right;\">\n",
       "      <th></th>\n",
       "      <th>id</th>\n",
       "      <th>user_id</th>\n",
       "      <th>call_date</th>\n",
       "      <th>duration</th>\n",
       "    </tr>\n",
       "  </thead>\n",
       "  <tbody>\n",
       "    <tr>\n",
       "      <th>62254</th>\n",
       "      <td>1223_431</td>\n",
       "      <td>1223</td>\n",
       "      <td>2018-09-18</td>\n",
       "      <td>7.11</td>\n",
       "    </tr>\n",
       "  </tbody>\n",
       "</table>\n",
       "</div>"
      ],
      "text/plain": [
       "             id  user_id   call_date  duration\n",
       "62254  1223_431     1223  2018-09-18      7.11"
      ]
     },
     "execution_count": 15,
     "metadata": {},
     "output_type": "execute_result"
    }
   ],
   "source": [
    "df_calls.sample()"
   ]
  },
  {
   "cell_type": "markdown",
   "metadata": {},
   "source": [
    " - There are 137735 rows in this table that could be explained by saving all unique calls of user. A single user might have hundreds of calls per day, whereas the data is for a year."
   ]
  },
  {
   "cell_type": "markdown",
   "metadata": {},
   "source": [
    "#### df_internet dataframe - Web traffic"
   ]
  },
  {
   "cell_type": "code",
   "execution_count": 16,
   "metadata": {},
   "outputs": [
    {
     "name": "stdout",
     "output_type": "stream",
     "text": [
      "<class 'pandas.core.frame.DataFrame'>\n",
      "RangeIndex: 104825 entries, 0 to 104824\n",
      "Data columns (total 4 columns):\n",
      " #   Column        Non-Null Count   Dtype  \n",
      "---  ------        --------------   -----  \n",
      " 0   id            104825 non-null  object \n",
      " 1   user_id       104825 non-null  int64  \n",
      " 2   session_date  104825 non-null  object \n",
      " 3   mb_used       104825 non-null  float64\n",
      "dtypes: float64(1), int64(1), object(2)\n",
      "memory usage: 3.2+ MB\n"
     ]
    }
   ],
   "source": [
    "df_internet.info()"
   ]
  },
  {
   "cell_type": "code",
   "execution_count": 17,
   "metadata": {},
   "outputs": [
    {
     "data": {
      "text/plain": [
       "489"
      ]
     },
     "execution_count": 17,
     "metadata": {},
     "output_type": "execute_result"
    }
   ],
   "source": [
    "# unique clients data volume\n",
    "len(df_internet['user_id'].unique())"
   ]
  },
  {
   "cell_type": "code",
   "execution_count": 18,
   "metadata": {},
   "outputs": [
    {
     "data": {
      "text/html": [
       "<div>\n",
       "<style scoped>\n",
       "    .dataframe tbody tr th:only-of-type {\n",
       "        vertical-align: middle;\n",
       "    }\n",
       "\n",
       "    .dataframe tbody tr th {\n",
       "        vertical-align: top;\n",
       "    }\n",
       "\n",
       "    .dataframe thead th {\n",
       "        text-align: right;\n",
       "    }\n",
       "</style>\n",
       "<table border=\"1\" class=\"dataframe\">\n",
       "  <thead>\n",
       "    <tr style=\"text-align: right;\">\n",
       "      <th></th>\n",
       "      <th>id</th>\n",
       "      <th>user_id</th>\n",
       "      <th>session_date</th>\n",
       "      <th>mb_used</th>\n",
       "    </tr>\n",
       "  </thead>\n",
       "  <tbody>\n",
       "    <tr>\n",
       "      <th>36486</th>\n",
       "      <td>1164_169</td>\n",
       "      <td>1164</td>\n",
       "      <td>2018-08-11</td>\n",
       "      <td>304.33</td>\n",
       "    </tr>\n",
       "  </tbody>\n",
       "</table>\n",
       "</div>"
      ],
      "text/plain": [
       "             id  user_id session_date  mb_used\n",
       "36486  1164_169     1164   2018-08-11   304.33"
      ]
     },
     "execution_count": 18,
     "metadata": {},
     "output_type": "execute_result"
    }
   ],
   "source": [
    "df_internet.sample()"
   ]
  },
  {
   "cell_type": "markdown",
   "metadata": {},
   "source": [
    " - 104825 rows the same idea that data keeps unique id of every data that was used."
   ]
  },
  {
   "cell_type": "markdown",
   "metadata": {},
   "source": [
    "#### df_messages dataframe"
   ]
  },
  {
   "cell_type": "code",
   "execution_count": 19,
   "metadata": {},
   "outputs": [
    {
     "name": "stdout",
     "output_type": "stream",
     "text": [
      "<class 'pandas.core.frame.DataFrame'>\n",
      "RangeIndex: 76051 entries, 0 to 76050\n",
      "Data columns (total 3 columns):\n",
      " #   Column        Non-Null Count  Dtype \n",
      "---  ------        --------------  ----- \n",
      " 0   id            76051 non-null  object\n",
      " 1   user_id       76051 non-null  int64 \n",
      " 2   message_date  76051 non-null  object\n",
      "dtypes: int64(1), object(2)\n",
      "memory usage: 1.7+ MB\n"
     ]
    }
   ],
   "source": [
    "df_messages.info()"
   ]
  },
  {
   "cell_type": "code",
   "execution_count": 20,
   "metadata": {},
   "outputs": [
    {
     "data": {
      "text/plain": [
       "402"
      ]
     },
     "execution_count": 20,
     "metadata": {},
     "output_type": "execute_result"
    }
   ],
   "source": [
    "# unique clients messaging\n",
    "len(df_messages['user_id'].unique())"
   ]
  },
  {
   "cell_type": "code",
   "execution_count": 21,
   "metadata": {},
   "outputs": [
    {
     "data": {
      "text/html": [
       "<div>\n",
       "<style scoped>\n",
       "    .dataframe tbody tr th:only-of-type {\n",
       "        vertical-align: middle;\n",
       "    }\n",
       "\n",
       "    .dataframe tbody tr th {\n",
       "        vertical-align: top;\n",
       "    }\n",
       "\n",
       "    .dataframe thead th {\n",
       "        text-align: right;\n",
       "    }\n",
       "</style>\n",
       "<table border=\"1\" class=\"dataframe\">\n",
       "  <thead>\n",
       "    <tr style=\"text-align: right;\">\n",
       "      <th></th>\n",
       "      <th>id</th>\n",
       "      <th>user_id</th>\n",
       "      <th>message_date</th>\n",
       "    </tr>\n",
       "  </thead>\n",
       "  <tbody>\n",
       "    <tr>\n",
       "      <th>38812</th>\n",
       "      <td>1254_471</td>\n",
       "      <td>1254</td>\n",
       "      <td>2018-11-20</td>\n",
       "    </tr>\n",
       "  </tbody>\n",
       "</table>\n",
       "</div>"
      ],
      "text/plain": [
       "             id  user_id message_date\n",
       "38812  1254_471     1254   2018-11-20"
      ]
     },
     "execution_count": 21,
     "metadata": {},
     "output_type": "execute_result"
    }
   ],
   "source": [
    "df_messages.sample()"
   ]
  },
  {
   "cell_type": "markdown",
   "metadata": {},
   "source": [
    "#### Conclusion\n",
    "Having the general information we can process to preparation of our data for analysis that is all the columns including dates will be converted to datetime type, values which will be rounded up to whole numbers will be converted to integers for simplicity. Dataframes will be merged to create a single consolidated dataset."
   ]
  },
  {
   "cell_type": "markdown",
   "metadata": {},
   "source": [
    "<a id=\"2\"></a>"
   ]
  },
  {
   "cell_type": "markdown",
   "metadata": {},
   "source": [
    "### Step 2. Prepare the data"
   ]
  },
  {
   "cell_type": "markdown",
   "metadata": {},
   "source": [
    "#####  - Convert the data to the necessary types & Find and eliminate errors in the data"
   ]
  },
  {
   "cell_type": "code",
   "execution_count": 22,
   "metadata": {},
   "outputs": [
    {
     "data": {
      "text/plain": [
       "user_id                int64\n",
       "first_name            object\n",
       "last_name             object\n",
       "age                    int64\n",
       "city                  object\n",
       "reg_date      datetime64[ns]\n",
       "plan                  object\n",
       "churn_date    datetime64[ns]\n",
       "dtype: object"
      ]
     },
     "execution_count": 22,
     "metadata": {},
     "output_type": "execute_result"
    }
   ],
   "source": [
    "# df_users\n",
    "# converting date columns to datetime format\n",
    "df_users['churn_date'] = pd.to_datetime(df_users['churn_date'], format='%Y-%m-%d')\n",
    "df_users['reg_date'] = pd.to_datetime(df_users['reg_date'],format='%Y-%m-%d')\n",
    "df_users.dtypes"
   ]
  },
  {
   "cell_type": "code",
   "execution_count": 23,
   "metadata": {},
   "outputs": [
    {
     "data": {
      "text/plain": [
       "messages_included          int64\n",
       "gb_per_month_included      int64\n",
       "minutes_included           int64\n",
       "usd_monthly_pay            int64\n",
       "usd_per_gb                 int64\n",
       "usd_per_message          float64\n",
       "usd_per_minute           float64\n",
       "plan                      object\n",
       "dtype: object"
      ]
     },
     "execution_count": 23,
     "metadata": {},
     "output_type": "execute_result"
    }
   ],
   "source": [
    "# df_plans\n",
    "# converting mb to gb and changing to int type since we dont need decimal points; and renaming column\n",
    "df_plans['mb_per_month_included'] = np.ceil((df_plans['mb_per_month_included'] / 1024))\n",
    "df_plans = df_plans.rename(columns={'mb_per_month_included': 'gb_per_month_included'})\n",
    "df_plans['gb_per_month_included'] = df_plans['gb_per_month_included'].astype(int)\n",
    "df_plans = df_plans.rename(columns={'plan_name': 'plan'})\n",
    "df_plans.dtypes"
   ]
  },
  {
   "cell_type": "code",
   "execution_count": 24,
   "metadata": {},
   "outputs": [
    {
     "data": {
      "text/html": [
       "<div>\n",
       "<style scoped>\n",
       "    .dataframe tbody tr th:only-of-type {\n",
       "        vertical-align: middle;\n",
       "    }\n",
       "\n",
       "    .dataframe tbody tr th {\n",
       "        vertical-align: top;\n",
       "    }\n",
       "\n",
       "    .dataframe thead th {\n",
       "        text-align: right;\n",
       "    }\n",
       "</style>\n",
       "<table border=\"1\" class=\"dataframe\">\n",
       "  <thead>\n",
       "    <tr style=\"text-align: right;\">\n",
       "      <th></th>\n",
       "      <th>messages_included</th>\n",
       "      <th>gb_per_month_included</th>\n",
       "      <th>minutes_included</th>\n",
       "      <th>usd_monthly_pay</th>\n",
       "      <th>usd_per_gb</th>\n",
       "      <th>usd_per_message</th>\n",
       "      <th>usd_per_minute</th>\n",
       "      <th>plan</th>\n",
       "    </tr>\n",
       "  </thead>\n",
       "  <tbody>\n",
       "    <tr>\n",
       "      <th>0</th>\n",
       "      <td>50</td>\n",
       "      <td>15</td>\n",
       "      <td>500</td>\n",
       "      <td>20</td>\n",
       "      <td>10</td>\n",
       "      <td>0.03</td>\n",
       "      <td>0.03</td>\n",
       "      <td>surf</td>\n",
       "    </tr>\n",
       "    <tr>\n",
       "      <th>1</th>\n",
       "      <td>1000</td>\n",
       "      <td>30</td>\n",
       "      <td>3000</td>\n",
       "      <td>70</td>\n",
       "      <td>7</td>\n",
       "      <td>0.01</td>\n",
       "      <td>0.01</td>\n",
       "      <td>ultimate</td>\n",
       "    </tr>\n",
       "  </tbody>\n",
       "</table>\n",
       "</div>"
      ],
      "text/plain": [
       "   messages_included  gb_per_month_included  minutes_included  \\\n",
       "0                 50                     15               500   \n",
       "1               1000                     30              3000   \n",
       "\n",
       "   usd_monthly_pay  usd_per_gb  usd_per_message  usd_per_minute      plan  \n",
       "0               20          10             0.03            0.03      surf  \n",
       "1               70           7             0.01            0.01  ultimate  "
      ]
     },
     "execution_count": 24,
     "metadata": {},
     "output_type": "execute_result"
    }
   ],
   "source": [
    "df_plans"
   ]
  },
  {
   "cell_type": "markdown",
   "metadata": {},
   "source": [
    " - `usd_per_message` and `usd_per_minute` are fixed amounts in cents where floating points must be used, thats logical."
   ]
  },
  {
   "cell_type": "code",
   "execution_count": 25,
   "metadata": {},
   "outputs": [],
   "source": [
    "#df_calls\n",
    "# convert to datetime format\n",
    "df_calls['call_date'] = pd.to_datetime(df_calls['call_date'], format='%Y-%m-%d')"
   ]
  },
  {
   "cell_type": "code",
   "execution_count": 26,
   "metadata": {},
   "outputs": [],
   "source": [
    "# adding month column extracting it from call_date column\n",
    "df_calls['month'] = pd.DatetimeIndex(df_calls[\"call_date\"]).month"
   ]
  },
  {
   "cell_type": "code",
   "execution_count": 27,
   "metadata": {},
   "outputs": [],
   "source": [
    "# rounding call duration up to upper value of minutes\n",
    "df_calls['duration'] = np.ceil(df_calls['duration'])"
   ]
  },
  {
   "cell_type": "code",
   "execution_count": 28,
   "metadata": {},
   "outputs": [],
   "source": [
    "# renaming id column for further analysis clarity\n",
    "df_calls = df_calls.rename(columns={'id': 'call_id'})"
   ]
  },
  {
   "cell_type": "code",
   "execution_count": 29,
   "metadata": {},
   "outputs": [
    {
     "data": {
      "text/html": [
       "<div>\n",
       "<style scoped>\n",
       "    .dataframe tbody tr th:only-of-type {\n",
       "        vertical-align: middle;\n",
       "    }\n",
       "\n",
       "    .dataframe tbody tr th {\n",
       "        vertical-align: top;\n",
       "    }\n",
       "\n",
       "    .dataframe thead th {\n",
       "        text-align: right;\n",
       "    }\n",
       "</style>\n",
       "<table border=\"1\" class=\"dataframe\">\n",
       "  <thead>\n",
       "    <tr style=\"text-align: right;\">\n",
       "      <th></th>\n",
       "      <th>call_id</th>\n",
       "      <th>user_id</th>\n",
       "      <th>call_date</th>\n",
       "      <th>duration</th>\n",
       "      <th>month</th>\n",
       "    </tr>\n",
       "  </thead>\n",
       "  <tbody>\n",
       "    <tr>\n",
       "      <th>76605</th>\n",
       "      <td>1273_173</td>\n",
       "      <td>1273</td>\n",
       "      <td>2018-10-31</td>\n",
       "      <td>0.0</td>\n",
       "      <td>10</td>\n",
       "    </tr>\n",
       "  </tbody>\n",
       "</table>\n",
       "</div>"
      ],
      "text/plain": [
       "        call_id  user_id  call_date  duration  month\n",
       "76605  1273_173     1273 2018-10-31       0.0     10"
      ]
     },
     "execution_count": 29,
     "metadata": {},
     "output_type": "execute_result"
    }
   ],
   "source": [
    "df_calls.sample()"
   ]
  },
  {
   "cell_type": "code",
   "execution_count": 30,
   "metadata": {},
   "outputs": [],
   "source": [
    "df_calls['duration'] = df_calls['duration'].astype(int)"
   ]
  },
  {
   "cell_type": "code",
   "execution_count": 31,
   "metadata": {},
   "outputs": [
    {
     "data": {
      "text/plain": [
       "array([ 9, 14, 15,  6,  5,  3, 13,  2,  4, 10, 11,  1, 16,  0,  7,  8, 30,\n",
       "       12, 19, 17, 22, 27, 21, 20, 18, 26, 23, 24, 25, 28, 33, 32, 29, 31,\n",
       "       36, 38, 34, 37])"
      ]
     },
     "execution_count": 31,
     "metadata": {},
     "output_type": "execute_result"
    }
   ],
   "source": [
    "# to check if there is any value between 0-1\n",
    "df_calls['duration'].unique()"
   ]
  },
  {
   "cell_type": "code",
   "execution_count": 32,
   "metadata": {},
   "outputs": [
    {
     "data": {
      "text/plain": [
       "call_id              object\n",
       "user_id               int64\n",
       "call_date    datetime64[ns]\n",
       "duration              int64\n",
       "month                 int64\n",
       "dtype: object"
      ]
     },
     "execution_count": 32,
     "metadata": {},
     "output_type": "execute_result"
    }
   ],
   "source": [
    "df_calls.dtypes"
   ]
  },
  {
   "cell_type": "markdown",
   "metadata": {},
   "source": [
    " - `duration` is rounded and its a whole number, convert to int.\n",
    " - `call_id` is an object type variable, since we dont need make any calculations on them, we leave it as it is."
   ]
  },
  {
   "cell_type": "code",
   "execution_count": 33,
   "metadata": {},
   "outputs": [],
   "source": [
    "#df_internet\n",
    "# converting to datetime type\n",
    "df_internet['session_date'] = pd.to_datetime(df_internet['session_date'], format='%Y-%m-%d')"
   ]
  },
  {
   "cell_type": "code",
   "execution_count": 34,
   "metadata": {},
   "outputs": [],
   "source": [
    "# renaming id column for further analysis clarity\n",
    "df_internet = df_internet.rename(columns={'id': 'internet_id'})"
   ]
  },
  {
   "cell_type": "code",
   "execution_count": 35,
   "metadata": {},
   "outputs": [],
   "source": [
    "#adding month column extracting it from session_date column\n",
    "df_internet['month'] = pd.DatetimeIndex(df_internet['session_date']).month"
   ]
  },
  {
   "cell_type": "code",
   "execution_count": 36,
   "metadata": {},
   "outputs": [
    {
     "data": {
      "text/html": [
       "<div>\n",
       "<style scoped>\n",
       "    .dataframe tbody tr th:only-of-type {\n",
       "        vertical-align: middle;\n",
       "    }\n",
       "\n",
       "    .dataframe tbody tr th {\n",
       "        vertical-align: top;\n",
       "    }\n",
       "\n",
       "    .dataframe thead th {\n",
       "        text-align: right;\n",
       "    }\n",
       "</style>\n",
       "<table border=\"1\" class=\"dataframe\">\n",
       "  <thead>\n",
       "    <tr style=\"text-align: right;\">\n",
       "      <th></th>\n",
       "      <th>internet_id</th>\n",
       "      <th>user_id</th>\n",
       "      <th>session_date</th>\n",
       "      <th>mb_used</th>\n",
       "      <th>month</th>\n",
       "    </tr>\n",
       "  </thead>\n",
       "  <tbody>\n",
       "    <tr>\n",
       "      <th>71765</th>\n",
       "      <td>1335_4</td>\n",
       "      <td>1335</td>\n",
       "      <td>2018-07-13</td>\n",
       "      <td>990.35</td>\n",
       "      <td>7</td>\n",
       "    </tr>\n",
       "  </tbody>\n",
       "</table>\n",
       "</div>"
      ],
      "text/plain": [
       "      internet_id  user_id session_date  mb_used  month\n",
       "71765      1335_4     1335   2018-07-13   990.35      7"
      ]
     },
     "execution_count": 36,
     "metadata": {},
     "output_type": "execute_result"
    }
   ],
   "source": [
    "df_internet.sample()"
   ]
  },
  {
   "cell_type": "code",
   "execution_count": 37,
   "metadata": {},
   "outputs": [
    {
     "data": {
      "text/plain": [
       "internet_id             object\n",
       "user_id                  int64\n",
       "session_date    datetime64[ns]\n",
       "mb_used                float64\n",
       "month                    int64\n",
       "dtype: object"
      ]
     },
     "execution_count": 37,
     "metadata": {},
     "output_type": "execute_result"
    }
   ],
   "source": [
    "df_internet.dtypes"
   ]
  },
  {
   "cell_type": "markdown",
   "metadata": {},
   "source": [
    " - `mb_used`  individual web sessions are not rounded up, float type is ok. We will have monthly as gb used for each individual."
   ]
  },
  {
   "cell_type": "code",
   "execution_count": 38,
   "metadata": {},
   "outputs": [],
   "source": [
    "#df_messages\n",
    "# converting column values to datetime\n",
    "df_messages['message_date'] = pd.to_datetime(df_messages['message_date'], format='%Y-%m-%d')"
   ]
  },
  {
   "cell_type": "code",
   "execution_count": 39,
   "metadata": {},
   "outputs": [],
   "source": [
    "df_messages = df_messages.rename(columns={'id': 'message_id'})"
   ]
  },
  {
   "cell_type": "code",
   "execution_count": 40,
   "metadata": {},
   "outputs": [],
   "source": [
    "df_messages['month'] = pd.DatetimeIndex(df_messages['message_date']).month"
   ]
  },
  {
   "cell_type": "code",
   "execution_count": 41,
   "metadata": {},
   "outputs": [
    {
     "data": {
      "text/html": [
       "<div>\n",
       "<style scoped>\n",
       "    .dataframe tbody tr th:only-of-type {\n",
       "        vertical-align: middle;\n",
       "    }\n",
       "\n",
       "    .dataframe tbody tr th {\n",
       "        vertical-align: top;\n",
       "    }\n",
       "\n",
       "    .dataframe thead th {\n",
       "        text-align: right;\n",
       "    }\n",
       "</style>\n",
       "<table border=\"1\" class=\"dataframe\">\n",
       "  <thead>\n",
       "    <tr style=\"text-align: right;\">\n",
       "      <th></th>\n",
       "      <th>message_id</th>\n",
       "      <th>user_id</th>\n",
       "      <th>message_date</th>\n",
       "      <th>month</th>\n",
       "    </tr>\n",
       "  </thead>\n",
       "  <tbody>\n",
       "    <tr>\n",
       "      <th>70473</th>\n",
       "      <td>1458_171</td>\n",
       "      <td>1458</td>\n",
       "      <td>2018-11-08</td>\n",
       "      <td>11</td>\n",
       "    </tr>\n",
       "  </tbody>\n",
       "</table>\n",
       "</div>"
      ],
      "text/plain": [
       "      message_id  user_id message_date  month\n",
       "70473   1458_171     1458   2018-11-08     11"
      ]
     },
     "execution_count": 41,
     "metadata": {},
     "output_type": "execute_result"
    }
   ],
   "source": [
    "df_messages.sample()"
   ]
  },
  {
   "cell_type": "code",
   "execution_count": 42,
   "metadata": {},
   "outputs": [
    {
     "data": {
      "text/plain": [
       "message_id              object\n",
       "user_id                  int64\n",
       "message_date    datetime64[ns]\n",
       "month                    int64\n",
       "dtype: object"
      ]
     },
     "execution_count": 42,
     "metadata": {},
     "output_type": "execute_result"
    }
   ],
   "source": [
    "df_messages.dtypes"
   ]
  },
  {
   "cell_type": "code",
   "execution_count": 43,
   "metadata": {},
   "outputs": [
    {
     "data": {
      "text/html": [
       "<div>\n",
       "<style scoped>\n",
       "    .dataframe tbody tr th:only-of-type {\n",
       "        vertical-align: middle;\n",
       "    }\n",
       "\n",
       "    .dataframe tbody tr th {\n",
       "        vertical-align: top;\n",
       "    }\n",
       "\n",
       "    .dataframe thead th {\n",
       "        text-align: right;\n",
       "    }\n",
       "</style>\n",
       "<table border=\"1\" class=\"dataframe\">\n",
       "  <thead>\n",
       "    <tr style=\"text-align: right;\">\n",
       "      <th></th>\n",
       "      <th>user_id</th>\n",
       "      <th>month</th>\n",
       "      <th>calls_per_month</th>\n",
       "      <th>mins_per_month</th>\n",
       "    </tr>\n",
       "  </thead>\n",
       "  <tbody>\n",
       "    <tr>\n",
       "      <th>222</th>\n",
       "      <td>1053</td>\n",
       "      <td>12</td>\n",
       "      <td>47</td>\n",
       "      <td>311</td>\n",
       "    </tr>\n",
       "  </tbody>\n",
       "</table>\n",
       "</div>"
      ],
      "text/plain": [
       "     user_id  month  calls_per_month  mins_per_month\n",
       "222     1053     12               47             311"
      ]
     },
     "execution_count": 43,
     "metadata": {},
     "output_type": "execute_result"
    }
   ],
   "source": [
    "# For each user, find the number of calls made and minutes used per month and round up\n",
    "calls = df_calls.pivot_table( index=['user_id', 'month'], values='duration', aggfunc=['count', 'sum'])\n",
    "calls.columns = ['calls_per_month', 'mins_per_month']\n",
    "calls['mins_per_month'] = np.ceil(calls['mins_per_month'])\n",
    "calls['mins_per_month'] = calls['mins_per_month'].astype(int)\n",
    "calls.reset_index(inplace=True)\n",
    "calls.sample()"
   ]
  },
  {
   "cell_type": "code",
   "execution_count": 44,
   "metadata": {},
   "outputs": [
    {
     "data": {
      "text/html": [
       "<div>\n",
       "<style scoped>\n",
       "    .dataframe tbody tr th:only-of-type {\n",
       "        vertical-align: middle;\n",
       "    }\n",
       "\n",
       "    .dataframe tbody tr th {\n",
       "        vertical-align: top;\n",
       "    }\n",
       "\n",
       "    .dataframe thead th {\n",
       "        text-align: right;\n",
       "    }\n",
       "</style>\n",
       "<table border=\"1\" class=\"dataframe\">\n",
       "  <thead>\n",
       "    <tr style=\"text-align: right;\">\n",
       "      <th></th>\n",
       "      <th>user_id</th>\n",
       "      <th>month</th>\n",
       "      <th>gb_used_per_month</th>\n",
       "    </tr>\n",
       "  </thead>\n",
       "  <tbody>\n",
       "    <tr>\n",
       "      <th>1278</th>\n",
       "      <td>1268</td>\n",
       "      <td>11</td>\n",
       "      <td>29</td>\n",
       "    </tr>\n",
       "  </tbody>\n",
       "</table>\n",
       "</div>"
      ],
      "text/plain": [
       "      user_id  month  gb_used_per_month\n",
       "1278     1268     11                 29"
      ]
     },
     "execution_count": 44,
     "metadata": {},
     "output_type": "execute_result"
    }
   ],
   "source": [
    "# For each user, find the volume of data per month, resetting index\n",
    "internet = df_internet.pivot_table(index=['user_id', 'month'], values='mb_used', aggfunc=['sum'])\n",
    "internet.columns=['gb_used_per_month']\n",
    "internet['gb_used_per_month'] = np.ceil(internet['gb_used_per_month']/1024)\n",
    "internet['gb_used_per_month'] = internet['gb_used_per_month'].astype(int)\n",
    "internet.reset_index(inplace=True)\n",
    "internet.sample()"
   ]
  },
  {
   "cell_type": "code",
   "execution_count": 45,
   "metadata": {},
   "outputs": [
    {
     "data": {
      "text/html": [
       "<div>\n",
       "<style scoped>\n",
       "    .dataframe tbody tr th:only-of-type {\n",
       "        vertical-align: middle;\n",
       "    }\n",
       "\n",
       "    .dataframe tbody tr th {\n",
       "        vertical-align: top;\n",
       "    }\n",
       "\n",
       "    .dataframe thead th {\n",
       "        text-align: right;\n",
       "    }\n",
       "</style>\n",
       "<table border=\"1\" class=\"dataframe\">\n",
       "  <thead>\n",
       "    <tr style=\"text-align: right;\">\n",
       "      <th></th>\n",
       "      <th>user_id</th>\n",
       "      <th>month</th>\n",
       "      <th>messages_per_month</th>\n",
       "    </tr>\n",
       "  </thead>\n",
       "  <tbody>\n",
       "    <tr>\n",
       "      <th>308</th>\n",
       "      <td>1088</td>\n",
       "      <td>8</td>\n",
       "      <td>42</td>\n",
       "    </tr>\n",
       "  </tbody>\n",
       "</table>\n",
       "</div>"
      ],
      "text/plain": [
       "     user_id  month  messages_per_month\n",
       "308     1088      8                  42"
      ]
     },
     "execution_count": 45,
     "metadata": {},
     "output_type": "execute_result"
    }
   ],
   "source": [
    "# For each user, find the number of text messages sent per month\n",
    "messages = df_messages.pivot_table(index=['user_id', 'month'], values='message_date', aggfunc='count')\n",
    "messages.columns=['messages_per_month']\n",
    "messages['messages_per_month'] = messages['messages_per_month'].astype(int)\n",
    "messages.reset_index(inplace=True)\n",
    "messages.sample()"
   ]
  },
  {
   "cell_type": "code",
   "execution_count": 46,
   "metadata": {},
   "outputs": [
    {
     "name": "stdout",
     "output_type": "stream",
     "text": [
      "2293\n"
     ]
    },
    {
     "data": {
      "text/html": [
       "<div>\n",
       "<style scoped>\n",
       "    .dataframe tbody tr th:only-of-type {\n",
       "        vertical-align: middle;\n",
       "    }\n",
       "\n",
       "    .dataframe tbody tr th {\n",
       "        vertical-align: top;\n",
       "    }\n",
       "\n",
       "    .dataframe thead th {\n",
       "        text-align: right;\n",
       "    }\n",
       "</style>\n",
       "<table border=\"1\" class=\"dataframe\">\n",
       "  <thead>\n",
       "    <tr style=\"text-align: right;\">\n",
       "      <th></th>\n",
       "      <th>user_id</th>\n",
       "      <th>month</th>\n",
       "      <th>calls_per_month</th>\n",
       "      <th>mins_per_month</th>\n",
       "      <th>gb_used_per_month</th>\n",
       "      <th>messages_per_month</th>\n",
       "    </tr>\n",
       "  </thead>\n",
       "  <tbody>\n",
       "    <tr>\n",
       "      <th>1901</th>\n",
       "      <td>1412</td>\n",
       "      <td>10</td>\n",
       "      <td>142.0</td>\n",
       "      <td>1020.0</td>\n",
       "      <td>17.0</td>\n",
       "      <td>47.0</td>\n",
       "    </tr>\n",
       "  </tbody>\n",
       "</table>\n",
       "</div>"
      ],
      "text/plain": [
       "      user_id  month  calls_per_month  mins_per_month  gb_used_per_month  \\\n",
       "1901     1412     10            142.0          1020.0               17.0   \n",
       "\n",
       "      messages_per_month  \n",
       "1901                47.0  "
      ]
     },
     "execution_count": 46,
     "metadata": {},
     "output_type": "execute_result"
    }
   ],
   "source": [
    "# merging created tables\n",
    "merge1 = pd.merge(left= calls, right= internet, how='outer', on=['user_id', 'month']).fillna(0)\n",
    "merge2 = pd.merge(left=merge1, right = messages, how='outer', on=['user_id','month']).fillna(0)\n",
    "print(len(merge2))\n",
    "merge2.sample()"
   ]
  },
  {
   "cell_type": "code",
   "execution_count": 47,
   "metadata": {},
   "outputs": [
    {
     "data": {
      "text/html": [
       "<div>\n",
       "<style scoped>\n",
       "    .dataframe tbody tr th:only-of-type {\n",
       "        vertical-align: middle;\n",
       "    }\n",
       "\n",
       "    .dataframe tbody tr th {\n",
       "        vertical-align: top;\n",
       "    }\n",
       "\n",
       "    .dataframe thead th {\n",
       "        text-align: right;\n",
       "    }\n",
       "</style>\n",
       "<table border=\"1\" class=\"dataframe\">\n",
       "  <thead>\n",
       "    <tr style=\"text-align: right;\">\n",
       "      <th></th>\n",
       "      <th>user_id</th>\n",
       "      <th>first_name</th>\n",
       "      <th>last_name</th>\n",
       "      <th>age</th>\n",
       "      <th>city</th>\n",
       "      <th>reg_date</th>\n",
       "      <th>plan</th>\n",
       "      <th>churn_date</th>\n",
       "      <th>messages_included</th>\n",
       "      <th>gb_per_month_included</th>\n",
       "      <th>minutes_included</th>\n",
       "      <th>usd_monthly_pay</th>\n",
       "      <th>usd_per_gb</th>\n",
       "      <th>usd_per_message</th>\n",
       "      <th>usd_per_minute</th>\n",
       "    </tr>\n",
       "  </thead>\n",
       "  <tbody>\n",
       "    <tr>\n",
       "      <th>25</th>\n",
       "      <td>1069</td>\n",
       "      <td>Dino</td>\n",
       "      <td>Fry</td>\n",
       "      <td>31</td>\n",
       "      <td>Houston-The Woodlands-Sugar Land, TX MSA</td>\n",
       "      <td>2018-09-17</td>\n",
       "      <td>ultimate</td>\n",
       "      <td>NaT</td>\n",
       "      <td>1000</td>\n",
       "      <td>30</td>\n",
       "      <td>3000</td>\n",
       "      <td>70</td>\n",
       "      <td>7</td>\n",
       "      <td>0.01</td>\n",
       "      <td>0.01</td>\n",
       "    </tr>\n",
       "  </tbody>\n",
       "</table>\n",
       "</div>"
      ],
      "text/plain": [
       "    user_id first_name last_name  age  \\\n",
       "25     1069       Dino       Fry   31   \n",
       "\n",
       "                                        city   reg_date      plan churn_date  \\\n",
       "25  Houston-The Woodlands-Sugar Land, TX MSA 2018-09-17  ultimate        NaT   \n",
       "\n",
       "    messages_included  gb_per_month_included  minutes_included  \\\n",
       "25               1000                     30              3000   \n",
       "\n",
       "    usd_monthly_pay  usd_per_gb  usd_per_message  usd_per_minute  \n",
       "25               70           7             0.01            0.01  "
      ]
     },
     "execution_count": 47,
     "metadata": {},
     "output_type": "execute_result"
    }
   ],
   "source": [
    "# merging two initial dataset\n",
    "merge3 = pd.merge(left=df_users, right=df_plans, on='plan', how='inner')\n",
    "merge3.sample()"
   ]
  },
  {
   "cell_type": "code",
   "execution_count": 48,
   "metadata": {},
   "outputs": [
    {
     "name": "stdout",
     "output_type": "stream",
     "text": [
      "2293\n"
     ]
    },
    {
     "data": {
      "text/html": [
       "<div>\n",
       "<style scoped>\n",
       "    .dataframe tbody tr th:only-of-type {\n",
       "        vertical-align: middle;\n",
       "    }\n",
       "\n",
       "    .dataframe tbody tr th {\n",
       "        vertical-align: top;\n",
       "    }\n",
       "\n",
       "    .dataframe thead th {\n",
       "        text-align: right;\n",
       "    }\n",
       "</style>\n",
       "<table border=\"1\" class=\"dataframe\">\n",
       "  <thead>\n",
       "    <tr style=\"text-align: right;\">\n",
       "      <th></th>\n",
       "      <th>user_id</th>\n",
       "      <th>first_name</th>\n",
       "      <th>last_name</th>\n",
       "      <th>age</th>\n",
       "      <th>city</th>\n",
       "      <th>reg_date</th>\n",
       "      <th>plan</th>\n",
       "      <th>churn_date</th>\n",
       "      <th>messages_included</th>\n",
       "      <th>gb_per_month_included</th>\n",
       "      <th>minutes_included</th>\n",
       "      <th>usd_monthly_pay</th>\n",
       "      <th>usd_per_gb</th>\n",
       "      <th>usd_per_message</th>\n",
       "      <th>usd_per_minute</th>\n",
       "      <th>month</th>\n",
       "      <th>calls_per_month</th>\n",
       "      <th>mins_per_month</th>\n",
       "      <th>gb_used_per_month</th>\n",
       "      <th>messages_per_month</th>\n",
       "    </tr>\n",
       "  </thead>\n",
       "  <tbody>\n",
       "    <tr>\n",
       "      <th>1623</th>\n",
       "      <td>1280</td>\n",
       "      <td>Jasper</td>\n",
       "      <td>Berry</td>\n",
       "      <td>29</td>\n",
       "      <td>New York-Newark-Jersey City, NY-NJ-PA MSA</td>\n",
       "      <td>2018-06-23</td>\n",
       "      <td>surf</td>\n",
       "      <td>NaT</td>\n",
       "      <td>50</td>\n",
       "      <td>15</td>\n",
       "      <td>500</td>\n",
       "      <td>20</td>\n",
       "      <td>10</td>\n",
       "      <td>0.03</td>\n",
       "      <td>0.03</td>\n",
       "      <td>9</td>\n",
       "      <td>68.0</td>\n",
       "      <td>445.0</td>\n",
       "      <td>18.0</td>\n",
       "      <td>31.0</td>\n",
       "    </tr>\n",
       "  </tbody>\n",
       "</table>\n",
       "</div>"
      ],
      "text/plain": [
       "      user_id first_name last_name  age  \\\n",
       "1623     1280     Jasper     Berry   29   \n",
       "\n",
       "                                           city   reg_date  plan churn_date  \\\n",
       "1623  New York-Newark-Jersey City, NY-NJ-PA MSA 2018-06-23  surf        NaT   \n",
       "\n",
       "      messages_included  gb_per_month_included  minutes_included  \\\n",
       "1623                 50                     15               500   \n",
       "\n",
       "      usd_monthly_pay  usd_per_gb  usd_per_message  usd_per_minute  month  \\\n",
       "1623               20          10             0.03            0.03      9   \n",
       "\n",
       "      calls_per_month  mins_per_month  gb_used_per_month  messages_per_month  \n",
       "1623             68.0           445.0               18.0                31.0  "
      ]
     },
     "execution_count": 48,
     "metadata": {},
     "output_type": "execute_result"
    }
   ],
   "source": [
    "# consolidated data, merging all data\n",
    "data = pd.merge(left=merge3, right=merge2, on='user_id')\n",
    "print(len(data))\n",
    "data.sample()"
   ]
  },
  {
   "cell_type": "code",
   "execution_count": 49,
   "metadata": {},
   "outputs": [
    {
     "name": "stdout",
     "output_type": "stream",
     "text": [
      "<class 'pandas.core.frame.DataFrame'>\n",
      "Int64Index: 2293 entries, 0 to 2292\n",
      "Data columns (total 20 columns):\n",
      " #   Column                 Non-Null Count  Dtype         \n",
      "---  ------                 --------------  -----         \n",
      " 0   user_id                2293 non-null   int64         \n",
      " 1   first_name             2293 non-null   object        \n",
      " 2   last_name              2293 non-null   object        \n",
      " 3   age                    2293 non-null   int64         \n",
      " 4   city                   2293 non-null   object        \n",
      " 5   reg_date               2293 non-null   datetime64[ns]\n",
      " 6   plan                   2293 non-null   object        \n",
      " 7   churn_date             158 non-null    datetime64[ns]\n",
      " 8   messages_included      2293 non-null   int64         \n",
      " 9   gb_per_month_included  2293 non-null   int64         \n",
      " 10  minutes_included       2293 non-null   int64         \n",
      " 11  usd_monthly_pay        2293 non-null   int64         \n",
      " 12  usd_per_gb             2293 non-null   int64         \n",
      " 13  usd_per_message        2293 non-null   float64       \n",
      " 14  usd_per_minute         2293 non-null   float64       \n",
      " 15  month                  2293 non-null   int64         \n",
      " 16  calls_per_month        2293 non-null   float64       \n",
      " 17  mins_per_month         2293 non-null   float64       \n",
      " 18  gb_used_per_month      2293 non-null   float64       \n",
      " 19  messages_per_month     2293 non-null   float64       \n",
      "dtypes: datetime64[ns](2), float64(6), int64(8), object(4)\n",
      "memory usage: 376.2+ KB\n"
     ]
    }
   ],
   "source": [
    "# info about prepared data\n",
    "data.info()"
   ]
  },
  {
   "cell_type": "code",
   "execution_count": 50,
   "metadata": {},
   "outputs": [
    {
     "data": {
      "text/plain": [
       "0"
      ]
     },
     "execution_count": 50,
     "metadata": {},
     "output_type": "execute_result"
    }
   ],
   "source": [
    "data.duplicated().sum()"
   ]
  },
  {
   "cell_type": "markdown",
   "metadata": {},
   "source": [
    " - We can change data types to int as we rounded up and we dont need decimals"
   ]
  },
  {
   "cell_type": "code",
   "execution_count": 51,
   "metadata": {},
   "outputs": [
    {
     "data": {
      "text/plain": [
       "user_id                           int64\n",
       "first_name                       object\n",
       "last_name                        object\n",
       "age                               int64\n",
       "city                             object\n",
       "reg_date                 datetime64[ns]\n",
       "plan                             object\n",
       "churn_date               datetime64[ns]\n",
       "messages_included                 int64\n",
       "gb_per_month_included             int64\n",
       "minutes_included                  int64\n",
       "usd_monthly_pay                   int64\n",
       "usd_per_gb                        int64\n",
       "usd_per_message                 float64\n",
       "usd_per_minute                  float64\n",
       "month                             int64\n",
       "calls_per_month                   int64\n",
       "mins_per_month                    int64\n",
       "gb_used_per_month                 int64\n",
       "messages_per_month                int64\n",
       "dtype: object"
      ]
     },
     "execution_count": 51,
     "metadata": {},
     "output_type": "execute_result"
    }
   ],
   "source": [
    "# changing data type and double check\n",
    "data['calls_per_month'] = data['calls_per_month'].astype(int)\n",
    "data['mins_per_month'] = data['mins_per_month'].astype(int)\n",
    "data['gb_used_per_month'] = data['gb_used_per_month'].astype(int)\n",
    "data['messages_per_month'] = data['messages_per_month'].astype(int)\n",
    "data.dtypes"
   ]
  },
  {
   "cell_type": "code",
   "execution_count": 52,
   "metadata": {
    "scrolled": false
   },
   "outputs": [
    {
     "data": {
      "text/plain": [
       "0"
      ]
     },
     "execution_count": 52,
     "metadata": {},
     "output_type": "execute_result"
    }
   ],
   "source": [
    "# 0 mins talked means calls are missed or didnt talk at all\n",
    "missed_calls = data.query('mins_per_month==\"0\"')\n",
    "#print('Number of missed calls:',len(missed_calls))\n",
    "missed_calls.head(2)\n",
    "len(data.query('mins_per_month==\"0\" and age >40'))"
   ]
  },
  {
   "cell_type": "markdown",
   "metadata": {},
   "source": [
    " - We can see that clients who havent talked even a minute, are using other data like internet, messages as well. Majority of clients are more than 40 years old. There is no robust clue to get rid of them."
   ]
  },
  {
   "cell_type": "markdown",
   "metadata": {},
   "source": [
    "#### `monthly_revenue` column. "
   ]
  },
  {
   "cell_type": "code",
   "execution_count": 53,
   "metadata": {},
   "outputs": [],
   "source": [
    "def revenue(row):\n",
    "    #by using row accessor we will take each row of each column separately\n",
    "    # user info\n",
    "    user_id = row['user_id']\n",
    "    mins = row['mins_per_month']\n",
    "    text_messages= row['messages_per_month']\n",
    "    total_gb = row['gb_used_per_month']\n",
    "    \n",
    "    # plan info\n",
    "    plan = row['plan']\n",
    "    gb_included = row['gb_per_month_included']\n",
    "    messages_included = row['messages_included']\n",
    "    minutes_included = row['minutes_included']\n",
    "    monthly_charge = row['usd_monthly_pay']\n",
    "    usd_gb = row['usd_per_gb']\n",
    "    usd_message = row['usd_per_message']\n",
    "    usd_min = row['usd_per_minute']\n",
    "    \n",
    "    # calculation of remaining balance/ # subtract the free package limit from the totals\n",
    "    mins_balance = mins - minutes_included\n",
    "    messages_balance = text_messages - messages_included\n",
    "    gb_balance = total_gb - gb_included\n",
    "    \n",
    "    # multiply the result by the calling plan value, created extra cost with initial balance of 0, when it is bigger than 0, overchage counts.\n",
    "    extra_cost_mins = 0\n",
    "    extra_cost_messages = 0\n",
    "    extra_cost_gb = 0\n",
    "    \n",
    "    if mins_balance > 0:\n",
    "        extra_cost_mins = mins_balance * usd_min\n",
    "    if messages_balance > 0:\n",
    "        extra_cost_messages = messages_balance * usd_message\n",
    "    if gb_balance > 0:\n",
    "        extra_cost_gb = gb_balance * usd_gb\n",
    "        \n",
    "    # add the monthly charge depending on the calling plan\n",
    "    monthly_revenue = monthly_charge + (extra_cost_mins + extra_cost_messages + extra_cost_gb)\n",
    "    \n",
    "    return monthly_revenue\n",
    "# adding new column of monthly revenues\n",
    "data['monthly_revenue'] = data.apply(revenue, axis=1)"
   ]
  },
  {
   "cell_type": "code",
   "execution_count": 54,
   "metadata": {},
   "outputs": [
    {
     "data": {
      "text/html": [
       "<div>\n",
       "<style scoped>\n",
       "    .dataframe tbody tr th:only-of-type {\n",
       "        vertical-align: middle;\n",
       "    }\n",
       "\n",
       "    .dataframe tbody tr th {\n",
       "        vertical-align: top;\n",
       "    }\n",
       "\n",
       "    .dataframe thead th {\n",
       "        text-align: right;\n",
       "    }\n",
       "</style>\n",
       "<table border=\"1\" class=\"dataframe\">\n",
       "  <thead>\n",
       "    <tr style=\"text-align: right;\">\n",
       "      <th></th>\n",
       "      <th>user_id</th>\n",
       "      <th>first_name</th>\n",
       "      <th>last_name</th>\n",
       "      <th>age</th>\n",
       "      <th>city</th>\n",
       "      <th>reg_date</th>\n",
       "      <th>plan</th>\n",
       "      <th>churn_date</th>\n",
       "      <th>messages_included</th>\n",
       "      <th>gb_per_month_included</th>\n",
       "      <th>...</th>\n",
       "      <th>usd_monthly_pay</th>\n",
       "      <th>usd_per_gb</th>\n",
       "      <th>usd_per_message</th>\n",
       "      <th>usd_per_minute</th>\n",
       "      <th>month</th>\n",
       "      <th>calls_per_month</th>\n",
       "      <th>mins_per_month</th>\n",
       "      <th>gb_used_per_month</th>\n",
       "      <th>messages_per_month</th>\n",
       "      <th>monthly_revenue</th>\n",
       "    </tr>\n",
       "  </thead>\n",
       "  <tbody>\n",
       "    <tr>\n",
       "      <th>633</th>\n",
       "      <td>1453</td>\n",
       "      <td>Robt</td>\n",
       "      <td>Tyler</td>\n",
       "      <td>51</td>\n",
       "      <td>Los Angeles-Long Beach-Anaheim, CA MSA</td>\n",
       "      <td>2018-07-09</td>\n",
       "      <td>ultimate</td>\n",
       "      <td>NaT</td>\n",
       "      <td>1000</td>\n",
       "      <td>30</td>\n",
       "      <td>...</td>\n",
       "      <td>70</td>\n",
       "      <td>7</td>\n",
       "      <td>0.01</td>\n",
       "      <td>0.01</td>\n",
       "      <td>11</td>\n",
       "      <td>38</td>\n",
       "      <td>303</td>\n",
       "      <td>17</td>\n",
       "      <td>38</td>\n",
       "      <td>70.0</td>\n",
       "    </tr>\n",
       "  </tbody>\n",
       "</table>\n",
       "<p>1 rows × 21 columns</p>\n",
       "</div>"
      ],
      "text/plain": [
       "     user_id first_name last_name  age  \\\n",
       "633     1453       Robt     Tyler   51   \n",
       "\n",
       "                                       city   reg_date      plan churn_date  \\\n",
       "633  Los Angeles-Long Beach-Anaheim, CA MSA 2018-07-09  ultimate        NaT   \n",
       "\n",
       "     messages_included  gb_per_month_included  ...  usd_monthly_pay  \\\n",
       "633               1000                     30  ...               70   \n",
       "\n",
       "     usd_per_gb  usd_per_message  usd_per_minute  month  calls_per_month  \\\n",
       "633           7             0.01            0.01     11               38   \n",
       "\n",
       "     mins_per_month  gb_used_per_month  messages_per_month  monthly_revenue  \n",
       "633             303                 17                  38             70.0  \n",
       "\n",
       "[1 rows x 21 columns]"
      ]
     },
     "execution_count": 54,
     "metadata": {},
     "output_type": "execute_result"
    }
   ],
   "source": [
    "data.sample()"
   ]
  },
  {
   "cell_type": "markdown",
   "metadata": {},
   "source": [
    "#### Conclusion"
   ]
  },
  {
   "cell_type": "markdown",
   "metadata": {},
   "source": [
    " In this step, we converted all data columns' type to datetime. Added month column for each dataset such as `df_calls`, `df_internet`, `df_messages`. Calculated monthly usage of these packages. Finally added `monthly_revenue` from clients for our further analysis. We have now `data` dataframe with all information combined about users' tariff plan, their monthly usage of them and revenue from each client. In our further analysis, we will use `data` dataset as a source of creating new tables and subsets."
   ]
  },
  {
   "cell_type": "markdown",
   "metadata": {},
   "source": [
    "<a id=\"3\"></a>"
   ]
  },
  {
   "cell_type": "markdown",
   "metadata": {},
   "source": [
    "### Step 3. Analyze the data"
   ]
  },
  {
   "cell_type": "markdown",
   "metadata": {},
   "source": [
    "##### Describe the customers' behavior. Find the minutes, texts, and volume of data the users of each plan require per month. Calculate the mean, dispersion, and standard deviation. Plot histograms. Describe the distributions."
   ]
  },
  {
   "cell_type": "code",
   "execution_count": 55,
   "metadata": {},
   "outputs": [
    {
     "data": {
      "text/html": [
       "<div>\n",
       "<style scoped>\n",
       "    .dataframe tbody tr th:only-of-type {\n",
       "        vertical-align: middle;\n",
       "    }\n",
       "\n",
       "    .dataframe tbody tr th {\n",
       "        vertical-align: top;\n",
       "    }\n",
       "\n",
       "    .dataframe thead th {\n",
       "        text-align: right;\n",
       "    }\n",
       "</style>\n",
       "<table border=\"1\" class=\"dataframe\">\n",
       "  <thead>\n",
       "    <tr style=\"text-align: right;\">\n",
       "      <th></th>\n",
       "      <th>user_id</th>\n",
       "      <th>month</th>\n",
       "      <th>plan</th>\n",
       "      <th>calls_per_month</th>\n",
       "      <th>mins_per_month</th>\n",
       "      <th>gb_used_per_month</th>\n",
       "      <th>messages_per_month</th>\n",
       "      <th>monthly_revenue</th>\n",
       "    </tr>\n",
       "  </thead>\n",
       "  <tbody>\n",
       "    <tr>\n",
       "      <th>253</th>\n",
       "      <td>1164</td>\n",
       "      <td>9</td>\n",
       "      <td>ultimate</td>\n",
       "      <td>62</td>\n",
       "      <td>450</td>\n",
       "      <td>14</td>\n",
       "      <td>29</td>\n",
       "      <td>70.0</td>\n",
       "    </tr>\n",
       "  </tbody>\n",
       "</table>\n",
       "</div>"
      ],
      "text/plain": [
       "     user_id  month      plan  calls_per_month  mins_per_month  \\\n",
       "253     1164      9  ultimate               62             450   \n",
       "\n",
       "     gb_used_per_month  messages_per_month  monthly_revenue  \n",
       "253                 14                  29             70.0  "
      ]
     },
     "execution_count": 55,
     "metadata": {},
     "output_type": "execute_result"
    }
   ],
   "source": [
    "# filtering data for analysis, extracting info which are to be used \n",
    "filtered_data = data[['user_id','month',  'plan', 'calls_per_month', 'mins_per_month', 'gb_used_per_month', 'messages_per_month', 'monthly_revenue']]\n",
    "filtered_data.sample()"
   ]
  },
  {
   "cell_type": "code",
   "execution_count": 56,
   "metadata": {},
   "outputs": [
    {
     "data": {
      "text/plain": [
       "(2293, 8)"
      ]
     },
     "execution_count": 56,
     "metadata": {},
     "output_type": "execute_result"
    }
   ],
   "source": [
    "filtered_data.shape"
   ]
  },
  {
   "cell_type": "markdown",
   "metadata": {},
   "source": [
    "- <b>Note</b>: 2293 rows mean for each user there are several monthly revenues taken from `month` column. "
   ]
  },
  {
   "cell_type": "code",
   "execution_count": 57,
   "metadata": {},
   "outputs": [
    {
     "name": "stdout",
     "output_type": "stream",
     "text": [
      "Total number of clients: 490\n",
      "Number of clients using surf plan: 333\n",
      "Number of clients using ultimate plan: 157\n",
      "Share of surf plan clients:67.96%\n",
      "Share of ulti plan clients:32.04%\n"
     ]
    }
   ],
   "source": [
    "# filtering plans, creating new dataframes for two different plans\n",
    "plan_surf = filtered_data.query('plan==\"surf\"')\n",
    "plan_ultimate = filtered_data.query('plan==\"ultimate\"')\n",
    "total_clients =  len(filtered_data['user_id'].unique())\n",
    "surf_clients = len(plan_surf['user_id'].unique())\n",
    "share_surf = surf_clients / total_clients\n",
    "print('Total number of clients:', total_clients)\n",
    "print('Number of clients using surf plan:', surf_clients)\n",
    "ulti_clients = len(plan_ultimate['user_id'].unique())\n",
    "share_ulti = ulti_clients / total_clients\n",
    "print('Number of clients using ultimate plan:', ulti_clients)\n",
    "print('Share of surf plan clients:{:.2%}'.format(share_surf))\n",
    "print('Share of ulti plan clients:{:.2%}'.format(share_ulti))\n"
   ]
  },
  {
   "cell_type": "markdown",
   "metadata": {},
   "source": [
    " - Majority of clients use Surf tariff rather than Ultimate."
   ]
  },
  {
   "cell_type": "markdown",
   "metadata": {},
   "source": [
    "#### Surf_plan variable "
   ]
  },
  {
   "cell_type": "code",
   "execution_count": 58,
   "metadata": {},
   "outputs": [
    {
     "data": {
      "text/plain": [
       "(1573, 8)"
      ]
     },
     "execution_count": 58,
     "metadata": {},
     "output_type": "execute_result"
    }
   ],
   "source": [
    "plan_surf.shape"
   ]
  },
  {
   "cell_type": "code",
   "execution_count": 59,
   "metadata": {},
   "outputs": [
    {
     "data": {
      "text/html": [
       "<div>\n",
       "<style scoped>\n",
       "    .dataframe tbody tr th:only-of-type {\n",
       "        vertical-align: middle;\n",
       "    }\n",
       "\n",
       "    .dataframe tbody tr th {\n",
       "        vertical-align: top;\n",
       "    }\n",
       "\n",
       "    .dataframe thead th {\n",
       "        text-align: right;\n",
       "    }\n",
       "</style>\n",
       "<table border=\"1\" class=\"dataframe\">\n",
       "  <thead>\n",
       "    <tr style=\"text-align: right;\">\n",
       "      <th></th>\n",
       "      <th>user_id</th>\n",
       "      <th>month</th>\n",
       "      <th>calls_per_month</th>\n",
       "      <th>mins_per_month</th>\n",
       "      <th>gb_used_per_month</th>\n",
       "      <th>messages_per_month</th>\n",
       "      <th>monthly_revenue</th>\n",
       "    </tr>\n",
       "  </thead>\n",
       "  <tbody>\n",
       "    <tr>\n",
       "      <th>count</th>\n",
       "      <td>1573.00</td>\n",
       "      <td>1573.00</td>\n",
       "      <td>1573.00</td>\n",
       "      <td>1573.00</td>\n",
       "      <td>1573.00</td>\n",
       "      <td>1573.00</td>\n",
       "      <td>1573.00</td>\n",
       "    </tr>\n",
       "    <tr>\n",
       "      <th>mean</th>\n",
       "      <td>1242.76</td>\n",
       "      <td>9.18</td>\n",
       "      <td>59.81</td>\n",
       "      <td>428.75</td>\n",
       "      <td>16.67</td>\n",
       "      <td>31.16</td>\n",
       "      <td>60.71</td>\n",
       "    </tr>\n",
       "    <tr>\n",
       "      <th>std</th>\n",
       "      <td>139.23</td>\n",
       "      <td>2.47</td>\n",
       "      <td>32.02</td>\n",
       "      <td>234.45</td>\n",
       "      <td>7.85</td>\n",
       "      <td>33.57</td>\n",
       "      <td>55.39</td>\n",
       "    </tr>\n",
       "    <tr>\n",
       "      <th>min</th>\n",
       "      <td>1001.00</td>\n",
       "      <td>1.00</td>\n",
       "      <td>0.00</td>\n",
       "      <td>0.00</td>\n",
       "      <td>0.00</td>\n",
       "      <td>0.00</td>\n",
       "      <td>20.00</td>\n",
       "    </tr>\n",
       "    <tr>\n",
       "      <th>25%</th>\n",
       "      <td>1120.00</td>\n",
       "      <td>8.00</td>\n",
       "      <td>39.00</td>\n",
       "      <td>272.00</td>\n",
       "      <td>12.00</td>\n",
       "      <td>3.00</td>\n",
       "      <td>20.00</td>\n",
       "    </tr>\n",
       "    <tr>\n",
       "      <th>50%</th>\n",
       "      <td>1245.00</td>\n",
       "      <td>10.00</td>\n",
       "      <td>60.00</td>\n",
       "      <td>425.00</td>\n",
       "      <td>17.00</td>\n",
       "      <td>24.00</td>\n",
       "      <td>40.36</td>\n",
       "    </tr>\n",
       "    <tr>\n",
       "      <th>75%</th>\n",
       "      <td>1358.00</td>\n",
       "      <td>11.00</td>\n",
       "      <td>79.00</td>\n",
       "      <td>576.00</td>\n",
       "      <td>21.00</td>\n",
       "      <td>47.00</td>\n",
       "      <td>80.36</td>\n",
       "    </tr>\n",
       "    <tr>\n",
       "      <th>max</th>\n",
       "      <td>1499.00</td>\n",
       "      <td>12.00</td>\n",
       "      <td>205.00</td>\n",
       "      <td>1510.00</td>\n",
       "      <td>70.00</td>\n",
       "      <td>266.00</td>\n",
       "      <td>590.37</td>\n",
       "    </tr>\n",
       "  </tbody>\n",
       "</table>\n",
       "</div>"
      ],
      "text/plain": [
       "       user_id    month  calls_per_month  mins_per_month  gb_used_per_month  \\\n",
       "count  1573.00  1573.00          1573.00         1573.00            1573.00   \n",
       "mean   1242.76     9.18            59.81          428.75              16.67   \n",
       "std     139.23     2.47            32.02          234.45               7.85   \n",
       "min    1001.00     1.00             0.00            0.00               0.00   \n",
       "25%    1120.00     8.00            39.00          272.00              12.00   \n",
       "50%    1245.00    10.00            60.00          425.00              17.00   \n",
       "75%    1358.00    11.00            79.00          576.00              21.00   \n",
       "max    1499.00    12.00           205.00         1510.00              70.00   \n",
       "\n",
       "       messages_per_month  monthly_revenue  \n",
       "count             1573.00          1573.00  \n",
       "mean                31.16            60.71  \n",
       "std                 33.57            55.39  \n",
       "min                  0.00            20.00  \n",
       "25%                  3.00            20.00  \n",
       "50%                 24.00            40.36  \n",
       "75%                 47.00            80.36  \n",
       "max                266.00           590.37  "
      ]
     },
     "execution_count": 59,
     "metadata": {},
     "output_type": "execute_result"
    }
   ],
   "source": [
    "# descriptive stats for surf plan # calculation of mean, dispersion and standard deviation, removing outliers\n",
    "plan_surf.describe().round(2)"
   ]
  },
  {
   "cell_type": "markdown",
   "metadata": {},
   "source": [
    " - On average, people who are using surf plan, make 60 calls, talk 429 minutes, use data amounted to 16.7 gb, and send 31 text messages per month and revenue is 60.71 USD per customer.\n",
    " - It is worth to mention that the total cost of Surf plan is  20 USD but the average monthly revenue is tripled amount 60.71 USD. \n",
    " - The highest monthly profit is 590.37 USD, alas, outlier at the same time!"
   ]
  },
  {
   "cell_type": "markdown",
   "metadata": {},
   "source": [
    "`calls_per_month` median and mean are equal = 60. No need to look deeper for outliers.<br>\n",
    "`mins_per_month` median=425 and mean=428, almost the same.<br>\n",
    "`gb_used_per_month` median and mean ~ 17.<br>\n",
    "`messages_per_month` median=24, mean=31. Most probably, there are some outliers pushing mean a little up. We will calculate with IQR score method and box plot. <br>\n",
    "`monthly_revenue` median=40, mean=60. Same here with outliers, we are going to find them and get rid of them."
   ]
  },
  {
   "cell_type": "code",
   "execution_count": 60,
   "metadata": {},
   "outputs": [
    {
     "data": {
      "text/plain": [
       "<AxesSubplot:>"
      ]
     },
     "execution_count": 60,
     "metadata": {},
     "output_type": "execute_result"
    },
    {
     "data": {
      "image/png": "[encoded data removed]",
      "text/plain": [
       "<Figure size 864x432 with 1 Axes>"
      ]
     },
     "metadata": {
      "needs_background": "light"
     },
     "output_type": "display_data"
    }
   ],
   "source": [
    "# detecting otliers using box plot, mins_per_month\n",
    "plan_surf.boxplot(column=['mins_per_month'], figsize=(12,6))"
   ]
  },
  {
   "cell_type": "markdown",
   "metadata": {},
   "source": [
    " - <b><font color=\"purple\"> On the boxplot above, we can observe the minutes talked per month above 1000 as outliers since they are not included in the box of other observation i.e nowhere near quartiles.  </font></b>"
   ]
  },
  {
   "cell_type": "code",
   "execution_count": 61,
   "metadata": {},
   "outputs": [
    {
     "data": {
      "text/plain": [
       "<AxesSubplot:>"
      ]
     },
     "execution_count": 61,
     "metadata": {},
     "output_type": "execute_result"
    },
    {
     "data": {
      "image/png": "[encoded data removed]",
      "text/plain": [
       "<Figure size 864x432 with 1 Axes>"
      ]
     },
     "metadata": {
      "needs_background": "light"
     },
     "output_type": "display_data"
    }
   ],
   "source": [
    "# removing outliers with IQR score method double cheking with box plot\n",
    "# mins_per_month column\n",
    "Q1_mins_surf = plan_surf['mins_per_month'].quantile(0.25)\n",
    "Q3_mins_surf = plan_surf['mins_per_month'].quantile(0.75)\n",
    "IQR_mins_surf = Q3_mins_surf - Q1_mins_surf\n",
    "plan_surf = plan_surf.query('mins_per_month > @Q1_mins_surf - 1.5 * @IQR_mins_surf and mins_per_month < @Q3_mins_surf + 1.5 * @IQR_mins_surf')\n",
    "plan_surf.boxplot(column=['mins_per_month'], figsize=(12,6))"
   ]
  },
  {
   "cell_type": "markdown",
   "metadata": {},
   "source": [
    " - <b><font color=\"purple\">  This boxplot after implementing IQR scoring method for outliers' removal. We can clearly see that there is no data above upper bound of the data. The median of mins talked per month is 425:(green line cutting the box from the middle). The data is positively skewed since majority of the data is on the third quartile or on 75% percentile in other words.  </font></b><br>\n",
    "**Note:** We have to run the code multiple times to completely remove outliers from our data."
   ]
  },
  {
   "cell_type": "code",
   "execution_count": 62,
   "metadata": {},
   "outputs": [
    {
     "data": {
      "text/plain": [
       "<AxesSubplot:>"
      ]
     },
     "execution_count": 62,
     "metadata": {},
     "output_type": "execute_result"
    },
    {
     "data": {
      "image/png": "[encoded data removed]",
      "text/plain": [
       "<Figure size 864x432 with 1 Axes>"
      ]
     },
     "metadata": {
      "needs_background": "light"
     },
     "output_type": "display_data"
    }
   ],
   "source": [
    "# detecting otliers using box plot, messages_per_month column\n",
    "plan_surf.boxplot(column=['messages_per_month'], figsize=(12,6))"
   ]
  },
  {
   "cell_type": "markdown",
   "metadata": {},
   "source": [
    " - <b><font color=\"purple\"> There is no outliers on the lower bound but if we look at upper bound, above 100 messages are outliers.  </font></b>"
   ]
  },
  {
   "cell_type": "code",
   "execution_count": 63,
   "metadata": {},
   "outputs": [
    {
     "data": {
      "text/plain": [
       "<AxesSubplot:>"
      ]
     },
     "execution_count": 63,
     "metadata": {},
     "output_type": "execute_result"
    },
    {
     "data": {
      "image/png": "[encoded data removed]",
      "text/plain": [
       "<Figure size 864x432 with 1 Axes>"
      ]
     },
     "metadata": {
      "needs_background": "light"
     },
     "output_type": "display_data"
    }
   ],
   "source": [
    "# removing outliers with IQR score method; double check with box plot\n",
    "# messages_per_month column\n",
    "Q1_messages_surf = plan_surf['messages_per_month'].quantile(0.25)\n",
    "Q3_messages_surf = plan_surf['messages_per_month'].quantile(0.75)\n",
    "IQR_messages_surf = Q3_messages_surf - Q1_messages_surf\n",
    "plan_surf = plan_surf.query('messages_per_month > @Q1_messages_surf - 1.5 * @IQR_messages_surf and messages_per_month < @Q3_messages_surf + 1.5 * @IQR_messages_surf')\n",
    "plan_surf.boxplot(column=['messages_per_month'], figsize=(12,6))"
   ]
  },
  {
   "cell_type": "markdown",
   "metadata": {},
   "source": [
    " - <b><font color=\"purple\"> We can see the boxplot is now clear of outliers. In case of messages sent per month we can see the distribution is mainly on the range 2 to 42 messages. Median = 24, meaning every second user of Surf plan send 24 messages per month. </font></b>"
   ]
  },
  {
   "cell_type": "code",
   "execution_count": 64,
   "metadata": {},
   "outputs": [
    {
     "data": {
      "text/plain": [
       "<AxesSubplot:>"
      ]
     },
     "execution_count": 64,
     "metadata": {},
     "output_type": "execute_result"
    },
    {
     "data": {
      "image/png": "[encoded data removed]",
      "text/plain": [
       "<Figure size 864x432 with 1 Axes>"
      ]
     },
     "metadata": {
      "needs_background": "light"
     },
     "output_type": "display_data"
    }
   ],
   "source": [
    "# detecting otliers using box plot, monthly_revenue column\n",
    "plan_surf.boxplot(column=['monthly_revenue'], figsize=(12,6))"
   ]
  },
  {
   "cell_type": "markdown",
   "metadata": {},
   "source": [
    " - <b><font color=\"purple\"> Monthly revenue above 180 are outliers as they are far from the boxplot. </font></b>"
   ]
  },
  {
   "cell_type": "code",
   "execution_count": 65,
   "metadata": {},
   "outputs": [
    {
     "data": {
      "text/plain": [
       "<AxesSubplot:>"
      ]
     },
     "execution_count": 65,
     "metadata": {},
     "output_type": "execute_result"
    },
    {
     "data": {
      "image/png": "[encoded data removed]",
      "text/plain": [
       "<Figure size 864x432 with 1 Axes>"
      ]
     },
     "metadata": {
      "needs_background": "light"
     },
     "output_type": "display_data"
    }
   ],
   "source": [
    "# removing outliers with IQR score method; double check with box plot\n",
    "# monthly_revenue column\n",
    "Q1_rev_surf = plan_surf['monthly_revenue'].quantile(0.25)\n",
    "Q3_rev_surf = plan_surf['monthly_revenue'].quantile(0.75)\n",
    "IQR_rev_surf = Q3_rev_surf - Q1_rev_surf\n",
    "plan_surf = plan_surf.query('monthly_revenue > @Q1_rev_surf - 1.5 * @IQR_rev_surf and monthly_revenue < @Q3_rev_surf + 1.5 * @IQR_rev_surf')\n",
    "plan_surf.boxplot(column=['monthly_revenue'], figsize=(12,6))"
   ]
  },
  {
   "cell_type": "markdown",
   "metadata": {},
   "source": [
    " - <b><font color=\"purple\"> The monthly revenue from clients distribution is obvious where the range of from median to Q3 is larger than Q1 to median', where median is 38. Data is skewed to the right. </font></b> <br>\n",
    "**Note:** We need to run the code multiple times to remove outliers completely."
   ]
  },
  {
   "cell_type": "code",
   "execution_count": 66,
   "metadata": {},
   "outputs": [
    {
     "data": {
      "text/plain": [
       "(1439, 8)"
      ]
     },
     "execution_count": 66,
     "metadata": {},
     "output_type": "execute_result"
    }
   ],
   "source": [
    "# checking after outlier removal\n",
    "plan_surf.shape"
   ]
  },
  {
   "cell_type": "markdown",
   "metadata": {},
   "source": [
    "#### Ultimate_plan variable"
   ]
  },
  {
   "cell_type": "code",
   "execution_count": 67,
   "metadata": {},
   "outputs": [
    {
     "data": {
      "text/plain": [
       "(720, 8)"
      ]
     },
     "execution_count": 67,
     "metadata": {},
     "output_type": "execute_result"
    }
   ],
   "source": [
    "plan_ultimate.shape"
   ]
  },
  {
   "cell_type": "code",
   "execution_count": 68,
   "metadata": {},
   "outputs": [
    {
     "data": {
      "text/html": [
       "<div>\n",
       "<style scoped>\n",
       "    .dataframe tbody tr th:only-of-type {\n",
       "        vertical-align: middle;\n",
       "    }\n",
       "\n",
       "    .dataframe tbody tr th {\n",
       "        vertical-align: top;\n",
       "    }\n",
       "\n",
       "    .dataframe thead th {\n",
       "        text-align: right;\n",
       "    }\n",
       "</style>\n",
       "<table border=\"1\" class=\"dataframe\">\n",
       "  <thead>\n",
       "    <tr style=\"text-align: right;\">\n",
       "      <th></th>\n",
       "      <th>user_id</th>\n",
       "      <th>month</th>\n",
       "      <th>calls_per_month</th>\n",
       "      <th>mins_per_month</th>\n",
       "      <th>gb_used_per_month</th>\n",
       "      <th>messages_per_month</th>\n",
       "      <th>monthly_revenue</th>\n",
       "    </tr>\n",
       "  </thead>\n",
       "  <tbody>\n",
       "    <tr>\n",
       "      <th>count</th>\n",
       "      <td>720.00</td>\n",
       "      <td>720.00</td>\n",
       "      <td>720.00</td>\n",
       "      <td>720.00</td>\n",
       "      <td>720.00</td>\n",
       "      <td>720.00</td>\n",
       "      <td>720.00</td>\n",
       "    </tr>\n",
       "    <tr>\n",
       "      <th>mean</th>\n",
       "      <td>1253.33</td>\n",
       "      <td>9.15</td>\n",
       "      <td>60.63</td>\n",
       "      <td>430.45</td>\n",
       "      <td>17.31</td>\n",
       "      <td>37.55</td>\n",
       "      <td>72.31</td>\n",
       "    </tr>\n",
       "    <tr>\n",
       "      <th>std</th>\n",
       "      <td>150.92</td>\n",
       "      <td>2.56</td>\n",
       "      <td>33.24</td>\n",
       "      <td>240.51</td>\n",
       "      <td>7.67</td>\n",
       "      <td>34.77</td>\n",
       "      <td>11.40</td>\n",
       "    </tr>\n",
       "    <tr>\n",
       "      <th>min</th>\n",
       "      <td>1000.00</td>\n",
       "      <td>1.00</td>\n",
       "      <td>0.00</td>\n",
       "      <td>0.00</td>\n",
       "      <td>0.00</td>\n",
       "      <td>0.00</td>\n",
       "      <td>70.00</td>\n",
       "    </tr>\n",
       "    <tr>\n",
       "      <th>25%</th>\n",
       "      <td>1126.00</td>\n",
       "      <td>8.00</td>\n",
       "      <td>36.00</td>\n",
       "      <td>260.00</td>\n",
       "      <td>13.00</td>\n",
       "      <td>7.00</td>\n",
       "      <td>70.00</td>\n",
       "    </tr>\n",
       "    <tr>\n",
       "      <th>50%</th>\n",
       "      <td>1241.50</td>\n",
       "      <td>10.00</td>\n",
       "      <td>61.00</td>\n",
       "      <td>424.00</td>\n",
       "      <td>17.00</td>\n",
       "      <td>30.00</td>\n",
       "      <td>70.00</td>\n",
       "    </tr>\n",
       "    <tr>\n",
       "      <th>75%</th>\n",
       "      <td>1401.00</td>\n",
       "      <td>11.00</td>\n",
       "      <td>80.00</td>\n",
       "      <td>565.25</td>\n",
       "      <td>21.00</td>\n",
       "      <td>61.00</td>\n",
       "      <td>70.00</td>\n",
       "    </tr>\n",
       "    <tr>\n",
       "      <th>max</th>\n",
       "      <td>1497.00</td>\n",
       "      <td>12.00</td>\n",
       "      <td>191.00</td>\n",
       "      <td>1369.00</td>\n",
       "      <td>46.00</td>\n",
       "      <td>166.00</td>\n",
       "      <td>182.00</td>\n",
       "    </tr>\n",
       "  </tbody>\n",
       "</table>\n",
       "</div>"
      ],
      "text/plain": [
       "       user_id   month  calls_per_month  mins_per_month  gb_used_per_month  \\\n",
       "count   720.00  720.00           720.00          720.00             720.00   \n",
       "mean   1253.33    9.15            60.63          430.45              17.31   \n",
       "std     150.92    2.56            33.24          240.51               7.67   \n",
       "min    1000.00    1.00             0.00            0.00               0.00   \n",
       "25%    1126.00    8.00            36.00          260.00              13.00   \n",
       "50%    1241.50   10.00            61.00          424.00              17.00   \n",
       "75%    1401.00   11.00            80.00          565.25              21.00   \n",
       "max    1497.00   12.00           191.00         1369.00              46.00   \n",
       "\n",
       "       messages_per_month  monthly_revenue  \n",
       "count              720.00           720.00  \n",
       "mean                37.55            72.31  \n",
       "std                 34.77            11.40  \n",
       "min                  0.00            70.00  \n",
       "25%                  7.00            70.00  \n",
       "50%                 30.00            70.00  \n",
       "75%                 61.00            70.00  \n",
       "max                166.00           182.00  "
      ]
     },
     "execution_count": 68,
     "metadata": {},
     "output_type": "execute_result"
    }
   ],
   "source": [
    "## descriptive stats for ultimate plan\n",
    "plan_ultimate.describe().round(2)"
   ]
  },
  {
   "cell_type": "markdown",
   "metadata": {},
   "source": [
    " - On average, people who are using ultimate plan, make 61 calls, talk 430 minutes, use data amounted to 17.3 gb, and send 37 text messages per month and revenue is 72.31 USD per customer.\n",
    " - The highest monthly income per client is 182 USD. Another client from the same dream and outlier at the same time."
   ]
  },
  {
   "cell_type": "markdown",
   "metadata": {},
   "source": [
    "`calls_per_month` --> median=61 and mean=60.6. Not significant difference<br>\n",
    "`mins_per_month` --> median=424 and mean=430.4. Not significant difference in terms of minutes<br>\n",
    "`gb_used_per_month` --> median=17 and mean=17.3. Equality.<br>\n",
    "`messages_per_month` --> median=30, mean=37.5. A little high mean than median. We will check for outliers.<br>\n",
    "`monthly_revenue` --> median=70, mean=72.31 . Almost equal, we will double check with box plot. We can't use IQR scoring method since our 25 and 75 quantiles are equal = 70."
   ]
  },
  {
   "cell_type": "code",
   "execution_count": 69,
   "metadata": {},
   "outputs": [
    {
     "data": {
      "text/plain": [
       "<AxesSubplot:>"
      ]
     },
     "execution_count": 69,
     "metadata": {},
     "output_type": "execute_result"
    },
    {
     "data": {
      "image/png": "[encoded data removed]",
      "text/plain": [
       "<Figure size 864x432 with 1 Axes>"
      ]
     },
     "metadata": {
      "needs_background": "light"
     },
     "output_type": "display_data"
    }
   ],
   "source": [
    "# detecting otliers using box plot, mins_per_month\n",
    "plan_ultimate.boxplot(column=['mins_per_month'], figsize=(12,6))"
   ]
  },
  {
   "cell_type": "markdown",
   "metadata": {},
   "source": [
    " - <b><font color=\"purple\"> On the boxplot above, we can clearly see that the data above 1000 mins per month for Ultimate plan users are outliers as they are out of the box. We dont have lower bound outliers. </font></b>"
   ]
  },
  {
   "cell_type": "code",
   "execution_count": 70,
   "metadata": {},
   "outputs": [
    {
     "data": {
      "text/plain": [
       "<AxesSubplot:>"
      ]
     },
     "execution_count": 70,
     "metadata": {},
     "output_type": "execute_result"
    },
    {
     "data": {
      "image/png": "[encoded data removed]",
      "text/plain": [
       "<Figure size 864x432 with 1 Axes>"
      ]
     },
     "metadata": {
      "needs_background": "light"
     },
     "output_type": "display_data"
    }
   ],
   "source": [
    "# removing outliers with IQR score method double cheking with box plot\n",
    "# mins_per_month column\n",
    "Q1_mins_ulti = plan_ultimate['mins_per_month'].quantile(0.25)\n",
    "Q3_mins_ulti = plan_ultimate['mins_per_month'].quantile(0.75)\n",
    "IQR_mins_ulti = Q3_mins_ulti - Q1_mins_ulti\n",
    "plan_ultimate = plan_ultimate.query('mins_per_month > @Q1_mins_ulti - 1.5 * @IQR_mins_ulti and mins_per_month < @Q3_mins_ulti + 1.5 * @IQR_mins_ulti')\n",
    "plan_ultimate.boxplot(column=['mins_per_month'], figsize=(12,6))"
   ]
  },
  {
   "cell_type": "markdown",
   "metadata": {},
   "source": [
    " - <b><font color=\"purple\"> On the contrary to Surf plan, here we can observe that the data has a negative skew, where the median is 424. Every second user of Ultimate plan talked about 424 minutes in a month. </font></b>"
   ]
  },
  {
   "cell_type": "code",
   "execution_count": 71,
   "metadata": {},
   "outputs": [
    {
     "data": {
      "text/plain": [
       "<AxesSubplot:>"
      ]
     },
     "execution_count": 71,
     "metadata": {},
     "output_type": "execute_result"
    },
    {
     "data": {
      "image/png": "[encoded data removed]",
      "text/plain": [
       "<Figure size 864x432 with 1 Axes>"
      ]
     },
     "metadata": {
      "needs_background": "light"
     },
     "output_type": "display_data"
    }
   ],
   "source": [
    "# detecting otliers using box plot, messages_per_month\n",
    "plan_ultimate.boxplot(column=['messages_per_month'], figsize=(12,6))"
   ]
  },
  {
   "cell_type": "markdown",
   "metadata": {},
   "source": [
    " - <b><font color=\"purple\">  The amount of messages sent more than 130 are considered to be the outliers of the data as they are not in the box. We will remove the outliers with the following line of codes below. </font></b>"
   ]
  },
  {
   "cell_type": "code",
   "execution_count": 72,
   "metadata": {},
   "outputs": [
    {
     "data": {
      "text/plain": [
       "<AxesSubplot:>"
      ]
     },
     "execution_count": 72,
     "metadata": {},
     "output_type": "execute_result"
    },
    {
     "data": {
      "image/png": "[encoded data removed]",
      "text/plain": [
       "<Figure size 864x432 with 1 Axes>"
      ]
     },
     "metadata": {
      "needs_background": "light"
     },
     "output_type": "display_data"
    }
   ],
   "source": [
    "# removing outliers with IQR score method.\n",
    "# messages_per_month column\n",
    "Q1_messages_ulti = plan_ultimate['messages_per_month'].quantile(0.25)\n",
    "Q3_messages_ulti = plan_ultimate['messages_per_month'].quantile(0.75)\n",
    "IQR_messages_ulti = Q3_messages_ulti - Q1_messages_ulti\n",
    "plan_ultimate = plan_ultimate.query('messages_per_month > @Q1_messages_ulti - 1.5 * @IQR_messages_ulti and messages_per_month < @Q3_messages_ulti + 1.5 * @IQR_messages_ulti')\n",
    "plan_ultimate.boxplot(column=['messages_per_month'], figsize=(12,6))"
   ]
  },
  {
   "cell_type": "markdown",
   "metadata": {},
   "source": [
    " - <b><font color=\"purple\"> The data on messages per month has a positive skew where the mean is greater than the median.</font></b>"
   ]
  },
  {
   "cell_type": "code",
   "execution_count": 73,
   "metadata": {},
   "outputs": [
    {
     "data": {
      "text/plain": [
       "<AxesSubplot:>"
      ]
     },
     "execution_count": 73,
     "metadata": {},
     "output_type": "execute_result"
    },
    {
     "data": {
      "image/png": "[encoded data removed]",
      "text/plain": [
       "<Figure size 864x432 with 1 Axes>"
      ]
     },
     "metadata": {
      "needs_background": "light"
     },
     "output_type": "display_data"
    }
   ],
   "source": [
    "# detecting otliers using box plot\n",
    "plan_ultimate.boxplot(column=['monthly_revenue'], figsize=(12,6))"
   ]
  },
  {
   "cell_type": "markdown",
   "metadata": {},
   "source": [
    " - Quite unusual box plot if you agree. It could be explained that the minimum revenue from clients is equal to its monthly price which is 70. There is no value below 70 but only higher and they are distributed unequally."
   ]
  },
  {
   "cell_type": "code",
   "execution_count": 74,
   "metadata": {},
   "outputs": [
    {
     "name": "stdout",
     "output_type": "stream",
     "text": [
      "IQR: 0.0\n"
     ]
    },
    {
     "data": {
      "text/plain": [
       "<AxesSubplot:>"
      ]
     },
     "execution_count": 74,
     "metadata": {},
     "output_type": "execute_result"
    },
    {
     "data": {
      "image/png": "[encoded data removed]",
      "text/plain": [
       "<Figure size 864x432 with 1 Axes>"
      ]
     },
     "metadata": {
      "needs_background": "light"
     },
     "output_type": "display_data"
    }
   ],
   "source": [
    "# monthly_revenue column\n",
    "# since IQR is 0 in our case, we will take mean to calculate upper limit\n",
    "Q1_rev_ulti = plan_ultimate['monthly_revenue'].quantile(0.25)\n",
    "Q3_rev_ulti = plan_ultimate['monthly_revenue'].quantile(0.75)\n",
    "IQR = Q1_rev_ulti - Q3_rev_ulti\n",
    "print('IQR:',IQR)\n",
    "# using upper bound value as a limit; mean times 1.5, values greater than the result are considered as outliers\n",
    "mean = plan_ultimate['monthly_revenue'].mean()\n",
    "upper_bound = 1.5 *  mean \n",
    "plan_ultimate = plan_ultimate.query('monthly_revenue < @upper_bound')\n",
    "plan_ultimate.boxplot(column=['monthly_revenue'], figsize=(12,6))"
   ]
  },
  {
   "cell_type": "markdown",
   "metadata": {},
   "source": [
    " - <b><font color=\"purple\"> We can observe that the monthly revenue from Ultimate plan users is distributed unequally, where the minimum revenue is equal to its price.  </font></b>"
   ]
  },
  {
   "cell_type": "code",
   "execution_count": 75,
   "metadata": {},
   "outputs": [
    {
     "data": {
      "text/plain": [
       "count    673.000000\n",
       "mean      70.520059\n",
       "std        3.439957\n",
       "min       70.000000\n",
       "25%       70.000000\n",
       "50%       70.000000\n",
       "75%       70.000000\n",
       "max      105.000000\n",
       "Name: monthly_revenue, dtype: float64"
      ]
     },
     "execution_count": 75,
     "metadata": {},
     "output_type": "execute_result"
    }
   ],
   "source": [
    "# descriptive stats of revenue\n",
    "plan_ultimate['monthly_revenue'].describe()"
   ]
  },
  {
   "cell_type": "code",
   "execution_count": 76,
   "metadata": {},
   "outputs": [
    {
     "data": {
      "text/plain": [
       "(673, 8)"
      ]
     },
     "execution_count": 76,
     "metadata": {},
     "output_type": "execute_result"
    }
   ],
   "source": [
    "plan_ultimate.shape"
   ]
  },
  {
   "cell_type": "code",
   "execution_count": 77,
   "metadata": {},
   "outputs": [
    {
     "name": "stdout",
     "output_type": "stream",
     "text": [
      "Surf plan total minutes: Mean = 408, Variance = 44813, Std = 211\n",
      "Ultimate plan total minutes: Mean = 414, Variance = 44754, Std = 211\n",
      "Surf plan total text_messages: Mean = 26, Variance = 687, Std = 26\n",
      "Ultimate plan total text_messages: Mean = 26, Variance = 687, Std = 31\n",
      "Surf plan total data usage: Mean = 15, Variance = 41, Std = 6\n",
      "Ultimate plan total data usage: Mean = 16, Variance = 45, Std = 6\n"
     ]
    }
   ],
   "source": [
    "# calculation of mean, dispersion and standard deviation, SURF plan\n",
    "mins_mean_surf =  plan_surf['mins_per_month'].mean()\n",
    "text_mean_surf= plan_surf['messages_per_month'].mean()\n",
    "data_mean_surf= plan_surf['gb_used_per_month'].mean()\n",
    "\n",
    "mins_var_surf=  plan_surf['mins_per_month'].var()\n",
    "text_var_surf= plan_surf['messages_per_month'].var()\n",
    "data_var_surf= plan_surf['gb_used_per_month'].var()\n",
    "\n",
    "mins_std_surf=  plan_surf['mins_per_month'].std()\n",
    "text_std_surf= plan_surf['messages_per_month'].std()\n",
    "data_std_surf= plan_surf['gb_used_per_month'].std()\n",
    "\n",
    "# calculation of mean, dispersion and standard deviation, SURF plan\n",
    "mins_mean_ulti = plan_ultimate['mins_per_month'].mean()\n",
    "text_mean_ulti= plan_ultimate['messages_per_month'].mean()\n",
    "data_mean_ulti= plan_ultimate['gb_used_per_month'].mean()\n",
    "\n",
    "mins_var_ulti=  plan_ultimate['mins_per_month'].var()\n",
    "text_var_ulti= plan_ultimate['messages_per_month'].var()\n",
    "data_var_ulti= plan_ultimate['gb_used_per_month'].var()\n",
    "\n",
    "mins_std_ulti=  plan_ultimate['mins_per_month'].std()\n",
    "text_std_ulti= plan_ultimate['messages_per_month'].std()\n",
    "data_std_ulti= plan_ultimate['gb_used_per_month'].std()\n",
    "\n",
    "print('Surf plan total minutes: Mean = %d, Variance = %d, Std = %d'% (mins_mean_surf, mins_var_surf, mins_std_surf))\n",
    "print('Ultimate plan total minutes: Mean = %d, Variance = %d, Std = %d'% (mins_mean_ulti, mins_var_ulti, mins_std_ulti))\n",
    "print('Surf plan total text_messages: Mean = %d, Variance = %d, Std = %d'% (text_mean_surf, text_var_surf, text_std_surf))\n",
    "print('Ultimate plan total text_messages: Mean = %d, Variance = %d, Std = %d'% (text_mean_surf, text_var_surf, text_std_ulti))\n",
    "print('Surf plan total data usage: Mean = %d, Variance = %d, Std = %d'% (data_mean_surf, data_var_surf, data_std_surf))\n",
    "print('Ultimate plan total data usage: Mean = %d, Variance = %d, Std = %d'% (data_mean_ulti, data_var_ulti, data_std_ulti))"
   ]
  },
  {
   "cell_type": "code",
   "execution_count": 78,
   "metadata": {},
   "outputs": [
    {
     "data": {
      "text/html": [
       "<div>\n",
       "<style scoped>\n",
       "    .dataframe tbody tr th:only-of-type {\n",
       "        vertical-align: middle;\n",
       "    }\n",
       "\n",
       "    .dataframe tbody tr th {\n",
       "        vertical-align: top;\n",
       "    }\n",
       "\n",
       "    .dataframe thead th {\n",
       "        text-align: right;\n",
       "    }\n",
       "</style>\n",
       "<table border=\"1\" class=\"dataframe\">\n",
       "  <thead>\n",
       "    <tr style=\"text-align: right;\">\n",
       "      <th></th>\n",
       "      <th>user_id</th>\n",
       "      <th>month</th>\n",
       "      <th>calls_per_month</th>\n",
       "      <th>mins_per_month</th>\n",
       "      <th>gb_used_per_month</th>\n",
       "      <th>messages_per_month</th>\n",
       "      <th>monthly_revenue</th>\n",
       "    </tr>\n",
       "  </thead>\n",
       "  <tbody>\n",
       "    <tr>\n",
       "      <th>count</th>\n",
       "      <td>1439.0</td>\n",
       "      <td>1439.0</td>\n",
       "      <td>1439.0</td>\n",
       "      <td>1439.0</td>\n",
       "      <td>1439.0</td>\n",
       "      <td>1439.0</td>\n",
       "      <td>1439.0</td>\n",
       "    </tr>\n",
       "    <tr>\n",
       "      <th>mean</th>\n",
       "      <td>1240.0</td>\n",
       "      <td>9.0</td>\n",
       "      <td>57.0</td>\n",
       "      <td>409.0</td>\n",
       "      <td>16.0</td>\n",
       "      <td>27.0</td>\n",
       "      <td>51.0</td>\n",
       "    </tr>\n",
       "    <tr>\n",
       "      <th>std</th>\n",
       "      <td>140.0</td>\n",
       "      <td>2.0</td>\n",
       "      <td>29.0</td>\n",
       "      <td>212.0</td>\n",
       "      <td>6.0</td>\n",
       "      <td>26.0</td>\n",
       "      <td>37.0</td>\n",
       "    </tr>\n",
       "    <tr>\n",
       "      <th>min</th>\n",
       "      <td>1001.0</td>\n",
       "      <td>1.0</td>\n",
       "      <td>0.0</td>\n",
       "      <td>0.0</td>\n",
       "      <td>0.0</td>\n",
       "      <td>0.0</td>\n",
       "      <td>20.0</td>\n",
       "    </tr>\n",
       "    <tr>\n",
       "      <th>25%</th>\n",
       "      <td>1117.0</td>\n",
       "      <td>8.0</td>\n",
       "      <td>37.0</td>\n",
       "      <td>258.0</td>\n",
       "      <td>12.0</td>\n",
       "      <td>2.0</td>\n",
       "      <td>20.0</td>\n",
       "    </tr>\n",
       "    <tr>\n",
       "      <th>50%</th>\n",
       "      <td>1239.0</td>\n",
       "      <td>10.0</td>\n",
       "      <td>57.0</td>\n",
       "      <td>413.0</td>\n",
       "      <td>17.0</td>\n",
       "      <td>21.0</td>\n",
       "      <td>40.0</td>\n",
       "    </tr>\n",
       "    <tr>\n",
       "      <th>75%</th>\n",
       "      <td>1358.0</td>\n",
       "      <td>11.0</td>\n",
       "      <td>78.0</td>\n",
       "      <td>560.0</td>\n",
       "      <td>20.0</td>\n",
       "      <td>42.0</td>\n",
       "      <td>75.0</td>\n",
       "    </tr>\n",
       "    <tr>\n",
       "      <th>max</th>\n",
       "      <td>1499.0</td>\n",
       "      <td>12.0</td>\n",
       "      <td>150.0</td>\n",
       "      <td>1029.0</td>\n",
       "      <td>29.0</td>\n",
       "      <td>110.0</td>\n",
       "      <td>168.0</td>\n",
       "    </tr>\n",
       "  </tbody>\n",
       "</table>\n",
       "</div>"
      ],
      "text/plain": [
       "       user_id   month  calls_per_month  mins_per_month  gb_used_per_month  \\\n",
       "count   1439.0  1439.0           1439.0          1439.0             1439.0   \n",
       "mean    1240.0     9.0             57.0           409.0               16.0   \n",
       "std      140.0     2.0             29.0           212.0                6.0   \n",
       "min     1001.0     1.0              0.0             0.0                0.0   \n",
       "25%     1117.0     8.0             37.0           258.0               12.0   \n",
       "50%     1239.0    10.0             57.0           413.0               17.0   \n",
       "75%     1358.0    11.0             78.0           560.0               20.0   \n",
       "max     1499.0    12.0            150.0          1029.0               29.0   \n",
       "\n",
       "       messages_per_month  monthly_revenue  \n",
       "count              1439.0           1439.0  \n",
       "mean                 27.0             51.0  \n",
       "std                  26.0             37.0  \n",
       "min                   0.0             20.0  \n",
       "25%                   2.0             20.0  \n",
       "50%                  21.0             40.0  \n",
       "75%                  42.0             75.0  \n",
       "max                 110.0            168.0  "
      ]
     },
     "execution_count": 78,
     "metadata": {},
     "output_type": "execute_result"
    }
   ],
   "source": [
    "plan_surf.describe().round()"
   ]
  },
  {
   "cell_type": "code",
   "execution_count": 79,
   "metadata": {},
   "outputs": [
    {
     "data": {
      "text/html": [
       "<div>\n",
       "<style scoped>\n",
       "    .dataframe tbody tr th:only-of-type {\n",
       "        vertical-align: middle;\n",
       "    }\n",
       "\n",
       "    .dataframe tbody tr th {\n",
       "        vertical-align: top;\n",
       "    }\n",
       "\n",
       "    .dataframe thead th {\n",
       "        text-align: right;\n",
       "    }\n",
       "</style>\n",
       "<table border=\"1\" class=\"dataframe\">\n",
       "  <thead>\n",
       "    <tr style=\"text-align: right;\">\n",
       "      <th></th>\n",
       "      <th>user_id</th>\n",
       "      <th>month</th>\n",
       "      <th>calls_per_month</th>\n",
       "      <th>mins_per_month</th>\n",
       "      <th>gb_used_per_month</th>\n",
       "      <th>messages_per_month</th>\n",
       "      <th>monthly_revenue</th>\n",
       "    </tr>\n",
       "  </thead>\n",
       "  <tbody>\n",
       "    <tr>\n",
       "      <th>count</th>\n",
       "      <td>673.0</td>\n",
       "      <td>673.0</td>\n",
       "      <td>673.0</td>\n",
       "      <td>673.0</td>\n",
       "      <td>673.0</td>\n",
       "      <td>673.0</td>\n",
       "      <td>673.0</td>\n",
       "    </tr>\n",
       "    <tr>\n",
       "      <th>mean</th>\n",
       "      <td>1257.0</td>\n",
       "      <td>9.0</td>\n",
       "      <td>58.0</td>\n",
       "      <td>414.0</td>\n",
       "      <td>16.0</td>\n",
       "      <td>34.0</td>\n",
       "      <td>71.0</td>\n",
       "    </tr>\n",
       "    <tr>\n",
       "      <th>std</th>\n",
       "      <td>150.0</td>\n",
       "      <td>3.0</td>\n",
       "      <td>29.0</td>\n",
       "      <td>212.0</td>\n",
       "      <td>7.0</td>\n",
       "      <td>31.0</td>\n",
       "      <td>3.0</td>\n",
       "    </tr>\n",
       "    <tr>\n",
       "      <th>min</th>\n",
       "      <td>1000.0</td>\n",
       "      <td>1.0</td>\n",
       "      <td>0.0</td>\n",
       "      <td>0.0</td>\n",
       "      <td>0.0</td>\n",
       "      <td>0.0</td>\n",
       "      <td>70.0</td>\n",
       "    </tr>\n",
       "    <tr>\n",
       "      <th>25%</th>\n",
       "      <td>1128.0</td>\n",
       "      <td>7.0</td>\n",
       "      <td>36.0</td>\n",
       "      <td>260.0</td>\n",
       "      <td>13.0</td>\n",
       "      <td>5.0</td>\n",
       "      <td>70.0</td>\n",
       "    </tr>\n",
       "    <tr>\n",
       "      <th>50%</th>\n",
       "      <td>1246.0</td>\n",
       "      <td>10.0</td>\n",
       "      <td>60.0</td>\n",
       "      <td>419.0</td>\n",
       "      <td>17.0</td>\n",
       "      <td>28.0</td>\n",
       "      <td>70.0</td>\n",
       "    </tr>\n",
       "    <tr>\n",
       "      <th>75%</th>\n",
       "      <td>1403.0</td>\n",
       "      <td>11.0</td>\n",
       "      <td>78.0</td>\n",
       "      <td>544.0</td>\n",
       "      <td>20.0</td>\n",
       "      <td>55.0</td>\n",
       "      <td>70.0</td>\n",
       "    </tr>\n",
       "    <tr>\n",
       "      <th>max</th>\n",
       "      <td>1497.0</td>\n",
       "      <td>12.0</td>\n",
       "      <td>149.0</td>\n",
       "      <td>1020.0</td>\n",
       "      <td>35.0</td>\n",
       "      <td>139.0</td>\n",
       "      <td>105.0</td>\n",
       "    </tr>\n",
       "  </tbody>\n",
       "</table>\n",
       "</div>"
      ],
      "text/plain": [
       "       user_id  month  calls_per_month  mins_per_month  gb_used_per_month  \\\n",
       "count    673.0  673.0            673.0           673.0              673.0   \n",
       "mean    1257.0    9.0             58.0           414.0               16.0   \n",
       "std      150.0    3.0             29.0           212.0                7.0   \n",
       "min     1000.0    1.0              0.0             0.0                0.0   \n",
       "25%     1128.0    7.0             36.0           260.0               13.0   \n",
       "50%     1246.0   10.0             60.0           419.0               17.0   \n",
       "75%     1403.0   11.0             78.0           544.0               20.0   \n",
       "max     1497.0   12.0            149.0          1020.0               35.0   \n",
       "\n",
       "       messages_per_month  monthly_revenue  \n",
       "count               673.0            673.0  \n",
       "mean                 34.0             71.0  \n",
       "std                  31.0              3.0  \n",
       "min                   0.0             70.0  \n",
       "25%                   5.0             70.0  \n",
       "50%                  28.0             70.0  \n",
       "75%                  55.0             70.0  \n",
       "max                 139.0            105.0  "
      ]
     },
     "execution_count": 79,
     "metadata": {},
     "output_type": "execute_result"
    }
   ],
   "source": [
    "plan_ultimate.describe().round()"
   ]
  },
  {
   "cell_type": "markdown",
   "metadata": {},
   "source": [
    " - <b><font color=\"purple\"> Above, the descriptive statistics after removing outliers from both tariff plans. Talking about number of calls and minutes per month, it is quiet interesting to see that on average Ultimate users make 2 more calls per month, (58 to 56) but the duration of calls are shorter than Surf users. Every second user of Ultimate plan spends 17 gb of internet which is only 1 gb more than Surf users. The main indicator that affects decision making is the revenue genereted from the users of each plan. The average revenue from Surf plan users is 49 USD with the standard deviation of 34 meaning the revenues from each client differ heavily, whereas the average revenue from Ulmitate plan users 71 with std= 3, revenue values are close to the average.  </font></b>"
   ]
  },
  {
   "cell_type": "code",
   "execution_count": 80,
   "metadata": {},
   "outputs": [
    {
     "data": {
      "text/plain": [
       "<matplotlib.legend.Legend at 0x7f4292119490>"
      ]
     },
     "execution_count": 80,
     "metadata": {},
     "output_type": "execute_result"
    },
    {
     "data": {
      "image/png": "[encoded data removed]",
      "text/plain": [
       "<Figure size 864x432 with 1 Axes>"
      ]
     },
     "metadata": {
      "needs_background": "light"
     },
     "output_type": "display_data"
    }
   ],
   "source": [
    "# histogram for each user, average mins\n",
    "surf_hist_mins =  plan_surf.pivot_table(index=['user_id', 'plan'], values='mins_per_month', aggfunc='mean')\n",
    "ulti_hist_mins =  plan_ultimate.pivot_table(index=['user_id', 'plan'], values='mins_per_month', aggfunc='mean')\n",
    "\n",
    "plt.figure(figsize=(12,6))\n",
    "plt.hist(surf_hist_mins, alpha=0.6, label='surf')\n",
    "plt.hist(ulti_hist_mins, alpha=0.6, label='ultimate')\n",
    "plt.xlabel('Average minutes talked')\n",
    "plt.ylabel('Number of users')\n",
    "plt.title('Average minutes used: Surf vs Ultimate')\n",
    "plt.legend()"
   ]
  },
  {
   "cell_type": "markdown",
   "metadata": {},
   "source": [
    " - As we see from histogram above, data of Surf plan has a positive skew, whereas Ultimate stats show a little skew to the left. Although the number of users of Surf tariff is higher than ulti, their average minutes talked almost the same. "
   ]
  },
  {
   "cell_type": "code",
   "execution_count": 81,
   "metadata": {},
   "outputs": [
    {
     "data": {
      "text/plain": [
       "<matplotlib.legend.Legend at 0x7f42920fa610>"
      ]
     },
     "execution_count": 81,
     "metadata": {},
     "output_type": "execute_result"
    },
    {
     "data": {
      "image/png": "[encoded data removed]",
      "text/plain": [
       "<Figure size 864x432 with 1 Axes>"
      ]
     },
     "metadata": {
      "needs_background": "light"
     },
     "output_type": "display_data"
    }
   ],
   "source": [
    "# histogram for each user, average texts\n",
    "surf_hist_text =  plan_surf.pivot_table(index=['user_id', 'plan'], values='messages_per_month', aggfunc='mean')\n",
    "ulti_hist_text =  plan_ultimate.pivot_table(index=['user_id', 'plan'], values='messages_per_month', aggfunc='mean')\n",
    "\n",
    "plt.figure(figsize=(12,6))\n",
    "plt.hist(surf_hist_text, alpha=0.6, label='surf')\n",
    "plt.hist(ulti_hist_text, alpha=0.6, label='ultimate')\n",
    "plt.xlabel('Number of texts sent by client')\n",
    "plt.ylabel('Number of users')\n",
    "plt.title('Average texts sent by users: Surf vs Ultimate')\n",
    "plt.legend()"
   ]
  },
  {
   "cell_type": "markdown",
   "metadata": {},
   "source": [
    " - Both data has positive skew. Ultimate tariff user send text messages more often than Surf with an average of 34 and 26 text messages per month respectively."
   ]
  },
  {
   "cell_type": "code",
   "execution_count": 82,
   "metadata": {},
   "outputs": [
    {
     "data": {
      "text/plain": [
       "<matplotlib.legend.Legend at 0x7f42920fa650>"
      ]
     },
     "execution_count": 82,
     "metadata": {},
     "output_type": "execute_result"
    },
    {
     "data": {
      "image/png": "[encoded data removed]",
      "text/plain": [
       "<Figure size 864x432 with 1 Axes>"
      ]
     },
     "metadata": {
      "needs_background": "light"
     },
     "output_type": "display_data"
    }
   ],
   "source": [
    "# histogram for each user, average texts\n",
    "surf_hist_gb =  plan_surf.pivot_table(index=['user_id', 'plan'], values='gb_used_per_month', aggfunc='mean')\n",
    "ulti_hist_gb =  plan_ultimate.pivot_table(index=['user_id', 'plan'], values='gb_used_per_month', aggfunc='mean')\n",
    "\n",
    "plt.figure(figsize=(12,6))\n",
    "plt.hist(surf_hist_gb, alpha=0.6, label='surf')\n",
    "plt.hist(ulti_hist_gb, alpha=0.6, label='ultimate')\n",
    "plt.xlabel('Amount of data used by client')\n",
    "plt.ylabel('Number of users')\n",
    "plt.title('Average data used by clients: Surf vs Ultimate')\n",
    "plt.legend()"
   ]
  },
  {
   "cell_type": "markdown",
   "metadata": {},
   "source": [
    " - 75 % of both tariff plan users use data up to 20 gbs per month, whereas the mean is 16 for Ultimate and 15 for Surf users. Both data has a positive skew."
   ]
  },
  {
   "cell_type": "markdown",
   "metadata": {},
   "source": [
    "#### Conclusion"
   ]
  },
  {
   "cell_type": "markdown",
   "metadata": {},
   "source": [
    " - <b><font color=\"purple\"> In this part of our project, we looked through each tariff plans. First of all, we detected and removed the outliers using the IQR scoring method and boxplots for each plan separately. Then, after getting rid of outliers we analysed the behavior of both plan groups by looking at their calls, minutes talked, amount of data used per month. Additionally, we have calculated the mean, standard devation and variances. On the next step, we plotted histograms to see the differences/similarities, distribution of the client's data.  </font></b>"
   ]
  },
  {
   "cell_type": "markdown",
   "metadata": {},
   "source": [
    "<a id=\"4\"></a>"
   ]
  },
  {
   "cell_type": "markdown",
   "metadata": {},
   "source": [
    "### Step 4. Test the hypotheses"
   ]
  },
  {
   "cell_type": "markdown",
   "metadata": {},
   "source": [
    "##### - The average revenue from users of Ultimate and Surf calling plans differs."
   ]
  },
  {
   "cell_type": "markdown",
   "metadata": {},
   "source": [
    "###### H0: The average revenue of Ultimate and Surf users are equal .\n",
    "###### H1: The average revenue of Ultimate and Surf users are not equal."
   ]
  },
  {
   "cell_type": "markdown",
   "metadata": {},
   "source": [
    "Following the logic that H0 always starts with equal, we set up the null hypothesis"
   ]
  },
  {
   "cell_type": "code",
   "execution_count": 83,
   "metadata": {},
   "outputs": [
    {
     "data": {
      "text/plain": [
       "<matplotlib.legend.Legend at 0x7f4291fd7890>"
      ]
     },
     "execution_count": 83,
     "metadata": {},
     "output_type": "execute_result"
    },
    {
     "data": {
      "image/png": "[encoded data removed]",
      "text/plain": [
       "<Figure size 864x432 with 1 Axes>"
      ]
     },
     "metadata": {
      "needs_background": "light"
     },
     "output_type": "display_data"
    }
   ],
   "source": [
    "# we plot histogram to see the distribution of revenues\n",
    "surf_hist_rev = plan_surf.pivot_table(index=['user_id', 'plan'], values='monthly_revenue', aggfunc='mean').round(2)\n",
    "ulti_hist_rev = plan_ultimate.pivot_table(index=['user_id', 'plan'], values='monthly_revenue', aggfunc='mean').round(2)\n",
    "plt.figure(figsize=(12,6))\n",
    "plt.hist(surf_hist_rev, alpha=0.6, label='surf_avg_revenue',)\n",
    "plt.hist(ulti_hist_rev, alpha=0.6, label='ultimate_avg_revenue',)\n",
    "plt.xlabel('Average revenue distribution')\n",
    "plt.ylabel('Number of users')\n",
    "plt.title('Average revenues: Surf vs Ultimate')\n",
    "plt.legend()"
   ]
  },
  {
   "cell_type": "markdown",
   "metadata": {},
   "source": [
    " - We plotted histogram to see the revenue distribution of two samples. Revenue from  than 140 users of Ultimate plan is 71 USD, whereas majority of Surf tariff users bring 20-30 USD per month. "
   ]
  },
  {
   "cell_type": "code",
   "execution_count": 84,
   "metadata": {},
   "outputs": [
    {
     "name": "stdout",
     "output_type": "stream",
     "text": [
      "Average revenue Surf:51.36\n",
      "Average revenue Ultimate:70.52\n",
      "Revenue variance Surf:1361.42\n",
      "Revenue variance Ultimate:11.83\n"
     ]
    }
   ],
   "source": [
    "# Average revenues and variances\n",
    "mean_rev_surf =  plan_surf['monthly_revenue'].mean()\n",
    "mean_rev_ulti = plan_ultimate['monthly_revenue'].mean()\n",
    "var_rev_surf = plan_surf['monthly_revenue'].var()\n",
    "var_rev_ulti = plan_ultimate['monthly_revenue'].var()\n",
    "print('Average revenue Surf:{:.2f}'.format(mean_rev_surf))\n",
    "print('Average revenue Ultimate:{:.2f}'. format(mean_rev_ulti))\n",
    "print('Revenue variance Surf:{:.2f}'. format(var_rev_surf))\n",
    "print('Revenue variance Ultimate:{:.2f}'. format(var_rev_ulti))"
   ]
  },
  {
   "cell_type": "code",
   "execution_count": 85,
   "metadata": {},
   "outputs": [
    {
     "name": "stdout",
     "output_type": "stream",
     "text": [
      "p-value [5.42820547e-09]\n",
      "Reject the null hypothesis: The average revenue of Ultimate and Surf user differs\n"
     ]
    }
   ],
   "source": [
    "# taking sample from ultimate plan with size of 50 of each user_id\n",
    "sample_ultimate = plan_ultimate.pivot_table(index=['user_id', 'plan'], values='monthly_revenue', aggfunc='mean').sample(50)\n",
    "\n",
    "# taking sample from surf plan with size of 50\n",
    "sample_surf = plan_surf.pivot_table(index=['user_id', 'plan'], values='monthly_revenue', aggfunc='mean').sample(50)\n",
    "\n",
    "# critical significance level\n",
    "alpha = 0.05\n",
    "\n",
    "# variances are not equal\n",
    "results = st.ttest_ind(sample_ultimate, sample_surf, equal_var=False)\n",
    "print('p-value', results.pvalue)\n",
    "if (results.pvalue < alpha):\n",
    "    print('Reject the null hypothesis: The average revenue of Ultimate and Surf user differs')\n",
    "else:\n",
    "    print('We can not reject the null hypothesis')"
   ]
  },
  {
   "cell_type": "markdown",
   "metadata": {},
   "source": [
    "We want to test the hypothesis that the average profit from users of ultimate and surf plans differ. We can do this using an independent samples t-test to compare the means from two groups (ultimate and surf users). We can apply a  t-test here  due to the Central Limit Theorem, which implies that you can estimate the mean of a statistical population using the mean of a sample, and since it assumes that the means are approximately normally distributed,  we can use the t-test."
   ]
  },
  {
   "cell_type": "markdown",
   "metadata": {},
   "source": [
    "The p-value is 1.91477129 to the -7 power,  which is extremely small number tells us to reject the null hypothesis thus indicating that the average revenue of Ultimate and Surf plans differs, meaning that colleagues were right about the differences between two tariff's revenues."
   ]
  },
  {
   "cell_type": "markdown",
   "metadata": {},
   "source": [
    "##### - The average revenue from users in NY-NJ area is different from that of the users from other regions."
   ]
  },
  {
   "cell_type": "markdown",
   "metadata": {},
   "source": [
    "###### H0: The average revenue from users in NY-NJ and the average revenue from users in  other regions are equal \n",
    "###### H1:The average revenue from users in NY-NJ and the average revenue from users in  other regions are not equal "
   ]
  },
  {
   "cell_type": "code",
   "execution_count": 86,
   "metadata": {
    "scrolled": true
   },
   "outputs": [],
   "source": [
    "# extracting needed data using str. contains function\n",
    "ny_nj =  data[data['city'].str.contains('NY-NJ')]\n",
    "\n",
    "# all other regions excluding NY_NJ\n",
    "other_regions = data[~data['city'].str.contains('NY-NJ')]"
   ]
  },
  {
   "cell_type": "code",
   "execution_count": 87,
   "metadata": {},
   "outputs": [
    {
     "data": {
      "text/plain": [
       "array(['New York-Newark-Jersey City, NY-NJ-PA MSA'], dtype=object)"
      ]
     },
     "execution_count": 87,
     "metadata": {},
     "output_type": "execute_result"
    }
   ],
   "source": [
    "# double check\n",
    "ny_nj['city'].unique()"
   ]
  },
  {
   "cell_type": "code",
   "execution_count": 88,
   "metadata": {
    "scrolled": true
   },
   "outputs": [
    {
     "data": {
      "text/plain": [
       "array(['Atlanta-Sandy Springs-Roswell, GA MSA',\n",
       "       'San Francisco-Oakland-Berkeley, CA MSA',\n",
       "       'Orlando-Kissimmee-Sanford, FL MSA', 'Cleveland-Elyria, OH MSA',\n",
       "       'Knoxville, TN MSA', 'Houston-The Woodlands-Sugar Land, TX MSA',\n",
       "       'Philadelphia-Camden-Wilmington, PA-NJ-DE-MD MSA',\n",
       "       'Chicago-Naperville-Elgin, IL-IN-WI MSA',\n",
       "       'Birmingham-Hoover, AL MSA', 'Oklahoma City, OK MSA',\n",
       "       'Denver-Aurora-Lakewood, CO MSA',\n",
       "       'Seattle-Tacoma-Bellevue, WA MSA',\n",
       "       'Nashville-Davidson–Murfreesboro–Franklin, TN MSA',\n",
       "       'Columbus, OH MSA', 'Las Vegas-Henderson-Paradise, NV MSA',\n",
       "       'Indianapolis-Carmel-Anderson, IN MSA',\n",
       "       'Miami-Fort Lauderdale-West Palm Beach, FL MSA',\n",
       "       'Columbia, SC MSA', 'San Antonio-New Braunfels, TX MSA',\n",
       "       'Charlotte-Concord-Gastonia, NC-SC MSA',\n",
       "       'Phoenix-Mesa-Chandler, AZ MSA',\n",
       "       'Riverside-San Bernardino-Ontario, CA MSA',\n",
       "       'Salt Lake City, UT MSA', 'Grand Rapids-Kentwood, MI MSA',\n",
       "       'New Haven-Milford, CT MSA', 'Cincinnati, OH-KY-IN MSA',\n",
       "       'Virginia Beach-Norfolk-Newport News, VA-NC MSA',\n",
       "       'Los Angeles-Long Beach-Anaheim, CA MSA',\n",
       "       'Sacramento–Roseville–Folsom, CA MSA',\n",
       "       'Louisville/Jefferson County, KY-IN MSA', 'Richmond, VA MSA',\n",
       "       'St. Louis, MO-IL MSA',\n",
       "       'Minneapolis-St. Paul-Bloomington, MN-WI MSA',\n",
       "       'San Diego-Chula Vista-Carlsbad, CA MSA',\n",
       "       'Austin-Round Rock-Georgetown, TX MSA',\n",
       "       'San Jose-Sunnyvale-Santa Clara, CA MSA',\n",
       "       'Tampa-St. Petersburg-Clearwater, FL MSA', 'Baton Rouge, LA MSA',\n",
       "       'Charleston-North Charleston, SC MSA',\n",
       "       'Detroit-Warren-Dearborn, MI MSA', 'Memphis, TN-MS-AR MSA',\n",
       "       'Tucson, AZ MSA', 'Pittsburgh, PA MSA',\n",
       "       'Washington-Arlington-Alexandria, DC-VA-MD-WV MSA',\n",
       "       'Dallas-Fort Worth-Arlington, TX MSA', 'Bakersfield, CA MSA',\n",
       "       'Fresno, CA MSA', 'Portland-Vancouver-Hillsboro, OR-WA MSA',\n",
       "       'Cape Coral-Fort Myers, FL MSA',\n",
       "       'Boston-Cambridge-Newton, MA-NH MSA', 'Tulsa, OK MSA',\n",
       "       'Jacksonville, FL MSA', 'Omaha-Council Bluffs, NE-IA MSA',\n",
       "       'Albuquerque, NM MSA', 'Buffalo-Cheektowaga, NY MSA',\n",
       "       'Albany-Schenectady-Troy, NY MSA', 'Providence-Warwick, RI-MA MSA',\n",
       "       'Urban Honolulu, HI MSA', 'El Paso, TX MSA',\n",
       "       'North Port-Sarasota-Bradenton, FL MSA',\n",
       "       'New Orleans-Metairie, LA MSA',\n",
       "       'Bridgeport-Stamford-Norwalk, CT MSA',\n",
       "       'Baltimore-Columbia-Towson, MD MSA', 'Milwaukee-Waukesha, WI MSA',\n",
       "       'Oxnard-Thousand Oaks-Ventura, CA MSA', 'Dayton-Kettering, OH MSA',\n",
       "       'Kansas City, MO-KS MSA', 'Rochester, NY MSA',\n",
       "       'Raleigh-Cary, NC MSA', 'Greensboro-High Point, NC MSA',\n",
       "       'Colorado Springs, CO MSA', 'Stockton, CA MSA'], dtype=object)"
      ]
     },
     "execution_count": 88,
     "metadata": {},
     "output_type": "execute_result"
    }
   ],
   "source": [
    "# double check\n",
    "other_regions['city'].unique()"
   ]
  },
  {
   "cell_type": "code",
   "execution_count": 89,
   "metadata": {},
   "outputs": [
    {
     "data": {
      "text/plain": [
       "<AxesSubplot:>"
      ]
     },
     "execution_count": 89,
     "metadata": {},
     "output_type": "execute_result"
    },
    {
     "data": {
      "image/png": "[encoded data removed]",
      "text/plain": [
       "<Figure size 864x432 with 1 Axes>"
      ]
     },
     "metadata": {
      "needs_background": "light"
     },
     "output_type": "display_data"
    }
   ],
   "source": [
    "# removing outliers with IQR score method; double check with box plot\n",
    "# monthly_revenue column for NY-NJ area\n",
    "Q1_rev_ny = ny_nj['monthly_revenue'].quantile(0.25)\n",
    "Q3_rev_ny = ny_nj['monthly_revenue'].quantile(0.75)\n",
    "IQR_rev_ny = Q3_rev_ny - Q1_rev_ny\n",
    "ny_nj = ny_nj.query('monthly_revenue > @Q1_rev_ny - 1.5 * @IQR_rev_ny and monthly_revenue < @Q3_rev_ny + 1.5 * @IQR_rev_ny')\n",
    "ny_nj.boxplot(column=['monthly_revenue'], figsize=(12,6))"
   ]
  },
  {
   "cell_type": "markdown",
   "metadata": {},
   "source": [
    "**Note:** We need to run the code multiple times to remove outliers completely."
   ]
  },
  {
   "cell_type": "code",
   "execution_count": 90,
   "metadata": {},
   "outputs": [
    {
     "data": {
      "text/plain": [
       "<AxesSubplot:>"
      ]
     },
     "execution_count": 90,
     "metadata": {},
     "output_type": "execute_result"
    },
    {
     "data": {
      "image/png": "[encoded data removed]",
      "text/plain": [
       "<Figure size 864x432 with 1 Axes>"
      ]
     },
     "metadata": {
      "needs_background": "light"
     },
     "output_type": "display_data"
    }
   ],
   "source": [
    "# removing outliers with IQR score method; double check with box plot\n",
    "# monthly_revenue column for other regions\n",
    "Q1_rev_other = other_regions['monthly_revenue'].quantile(0.25)\n",
    "Q3_rev_other = other_regions['monthly_revenue'].quantile(0.75)\n",
    "IQR_rev_other = Q3_rev_other - Q1_rev_other\n",
    "other_regions = other_regions.query('monthly_revenue > @Q1_rev_other - 1.5 * @IQR_rev_other and monthly_revenue < @Q3_rev_other + 1.5 * @IQR_rev_other')\n",
    "other_regions.boxplot(column=['monthly_revenue'], figsize=(12,6))"
   ]
  },
  {
   "cell_type": "code",
   "execution_count": 91,
   "metadata": {},
   "outputs": [
    {
     "name": "stdout",
     "output_type": "stream",
     "text": [
      "NY-NJ area revenue variance: 1090.2667770657015\n",
      "Other regions revenue variance: 807.9851235718609\n"
     ]
    }
   ],
   "source": [
    "# variances of average revenues from 2 samples\n",
    "print('NY-NJ area revenue variance:',ny_nj['monthly_revenue'].var())\n",
    "print('Other regions revenue variance:',other_regions['monthly_revenue'].var())"
   ]
  },
  {
   "cell_type": "code",
   "execution_count": 92,
   "metadata": {},
   "outputs": [
    {
     "name": "stdout",
     "output_type": "stream",
     "text": [
      "NY_NJ area users: average_revenue    53.47\n",
      "dtype: float64\n",
      "NOT NY_NJ area users: average_revenue    54.65\n",
      "dtype: float64\n"
     ]
    }
   ],
   "source": [
    "ny_nj_rev= ny_nj.pivot_table(index='user_id', values='monthly_revenue', aggfunc='mean')\n",
    "ny_nj_rev.columns=['average_revenue']\n",
    "avg_rev_ny = ny_nj_rev.mean().round(2)\n",
    "print('NY_NJ area users:', avg_rev_ny)\n",
    "\n",
    "other_rev= other_regions.pivot_table(index='user_id', values='monthly_revenue', aggfunc='mean')\n",
    "other_rev.columns=['average_revenue']\n",
    "avg_rev_other = other_rev.mean().round(2)\n",
    "print('NOT NY_NJ area users:',avg_rev_other)"
   ]
  },
  {
   "cell_type": "code",
   "execution_count": 93,
   "metadata": {},
   "outputs": [
    {
     "name": "stdout",
     "output_type": "stream",
     "text": [
      "p-value [0.48730237]\n",
      "We can not reject the null hypothesis\n"
     ]
    }
   ],
   "source": [
    "# taking sample from NY_NJ area\n",
    "sample_ny = ny_nj.pivot_table(index=['user_id'], values='monthly_revenue', aggfunc='mean').sample(50)\n",
    "\n",
    "# taking sample from other regions with size of 50\n",
    "sample_other = other_regions.pivot_table(index='user_id', values='monthly_revenue', aggfunc='mean').sample(50)\n",
    "\n",
    "# critical significance level\n",
    "alpha = 0.05\n",
    "\n",
    "# variances are not equal\n",
    "results = st.ttest_ind(sample_other, sample_ny, equal_var=False)\n",
    "print('p-value', results.pvalue)\n",
    "if (results.pvalue < alpha):\n",
    "    print('Reject the null hypothesis')\n",
    "else:\n",
    "    print('We can not reject the null hypothesis')"
   ]
  },
  {
   "cell_type": "markdown",
   "metadata": {},
   "source": [
    "The result is quiet interesting. Although we see that there is a slight difference between revenues from two samples, (two regions), there is 65.6% probability(pvalue=0.65639921) that the revenues will be equal indicating that we can not reject the null hypothesis where we assumed that the revenues of both regions are equal.<br>\n",
    "<b>Note:</b> We used sample() method to take equal sample size from our dataset."
   ]
  },
  {
   "cell_type": "markdown",
   "metadata": {},
   "source": [
    "<a id=\"5\"></a>"
   ]
  },
  {
   "cell_type": "markdown",
   "metadata": {},
   "source": [
    "### Step 5. Write an overall conclusion"
   ]
  },
  {
   "cell_type": "markdown",
   "metadata": {},
   "source": [
    "<div class=\"alert alert-info\">The ultimate goal of our analysis was to analyze clients' behavior and determine which prepaid plan brings in more revenue by testing hypotheses:<b><i>The average revenue from users of Ultimate and Surf calling plans differs.</i></b> and <b><i>The average revenue from users in NY-NJ area is different from that of the users from other regions.  </i></b><br>\n",
    "We were provided 5 different datasets:<br>\n",
    "    \n",
    "<b>Description of the datasets:</b><br>\n",
    "    \n",
    "`df_users` - <b>Data on users:</b>\n",
    " - user_id — unique user identifier\n",
    " - first_name — user's name\n",
    " - last_name — user's last name\n",
    " - age — user's age (years)\n",
    " - reg_date — subscription date (dd, mm, yy)\n",
    " - churn_date — the date the user stopped using the service (if the value is missing, the calling plan was being used when this  data was retrieved)\n",
    " - city — user's city of residence\n",
    " - plan — calling plan name<br>\n",
    "\n",
    "`df_plans`- <b> Description of the plans:</b>\n",
    " - plan_name — calling plan name\n",
    " - usd_monthly_fee — monthly charge in US dollars\n",
    " - minutes_included — monthly minute allowance\n",
    " - messages_included — monthly text allowance\n",
    " - mb_per_month_included — data volume allowance (in megabytes)\n",
    " - usd_per_minute — price per minute after exceeding the package limits (e.g., if the package includes 100 minutes, the 101st  minute will be charged)\n",
    " - usd_per_message — price per text after exceeding the package limits\n",
    " - usd_per_gb — price per extra gigabyte of data after exceeding the package limits (1 GB = 1024 megabytes)<br>\n",
    "\n",
    "`df_calls` - <b> Data on calls:</b>\n",
    " - id — unique call identifier\n",
    " - call_date — call date\n",
    " - duration — call duration (in minutes)\n",
    " - user_id — the identifier of the user making the call<br>\n",
    "\n",
    "`df_internet` - <b>Data on web sessions:</b>\n",
    " - id — unique session identifier\n",
    " - mb_used — the volume of data spent during the session (in megabytes)\n",
    " - session_date — web session date\n",
    " - user_id — user identifier<br>\n",
    "\n",
    "`df_messages` - <b> Data on messages:</b>\n",
    " - id — unique text message identifier\n",
    " - message_date — text message date\n",
    " - user_id — the identifier of the user sending the text<br>\n",
    "\n",
    "Before jumping right into analysis, we had to do data preprocessing, getting the dataset cleaned and accurate. We have looked through each dataset and made decisions on preprocessing, addind new columns, merging necessary tables together to create a single **consolidated data** for our further analysis.  The datasets have all three types of variables, quantitative, categorical and logical.\n",
    "The data consolidation was started by changing certain data types(e.g.dates column) of each dataset to the right type we were looking for. `month` column was extracted from each dataset since we wanted to find data per month. Further we created tables via *pivot_table function* and merged together. After merging tables, we were able to see *messages, internet traffic, number of calls and minutes talked* per month.\n",
    "When the data was consolidated and ready for further analysis, we calculated `monthly revenue` for each user and stored them in the column with the same name. After calculation of revenues for each users we looked at the revenues from clients of two different tariff plans. Let us have a glance at description of plans.<br> \n",
    "\n",
    "**Surf**  \n",
    " 1. Monthly charge: 20 USD  \n",
    " 2. 500 monthly minutes, 50 texts, and 15 GB of data  \n",
    " 3. After exceeding the package limits:  \n",
    "  - 1 minute: 3 cents  \n",
    "  - 1 text message: 3 cents  \n",
    "  - 1 GB of data: 10 USD\n",
    "\n",
    "**Ultimate**\n",
    " 1. Monthly charge: 70 USD  \n",
    " 2. 3000 monthly minutes, 1000 text messages, and 30 GB of data  \n",
    " 3. After exceeding the package limits:  \n",
    "  - 1 minute: 1 cent  \n",
    "  - 1 text message: 1 cent  \n",
    "  - 1 GB of data: 7 USD  \n",
    "\n",
    "As we see from information above, tariff plans differ from each other from start to bottom.*Surf's* monthly charge is much cheaper than *Ultimate* which is understandable that number of users are in favor of Surf plan. Almost 2/3 of total users have Surf tariff. Prior to testing hypotheses, we detected the outliers of each columns of two different plans(minutes, data, text messages) and especially monthly revenue values. By using box plots IQR scoring method we removed outliers and plotted histograms to compare client's behavior of two groups.\n",
    "\n",
    "Finally, the very last step before conlusion was to test the two hypotheses that we were talking in the beginning. We used sample() method to get equal sample size from both dataset.In order to test your hypothesis that the means of the two statistical populations are equal based on samples taken from them, we applid the method scipy.stats.ttest_ind. Let us have a look at the results we got:  \n",
    " 1. <b><i>The average revenue from users of Ultimate and Surf calling plans differs</i></b>  \n",
    " - H0 - The average revenue of Ultimate and Surf users are equal.  \n",
    " - H1 - The average revenue of Ultimate and Surf users are not equal.\n",
    "\n",
    "We set the null hypothesis following the logic that H0 start with = sign. What study showed us:  \n",
    "The p-value is 1.91477129 to the -7 power,  which is extremely small number tells us to reject the null hypothesis thus indicating that the average revenue of Ultimate and Surf plans differs, meaning that colleagues were right about the differences between two tariff's revenues.\n",
    "\n",
    " 2. <b><i>The average revenue from users in NY-NJ area is different from that of the users from other regions.  </i></b>\n",
    " - H0 - The average revenue from users in NY-NJ and the average revenue from users in  other regions are equal.  \n",
    " - H1 - The average revenue from users in NY-NJ and the average revenue from users in  other regions are not equal.\n",
    "\n",
    "The result is quiet interesting. Although we see that there is a slight difference between revenues from two samples, (two regions), there is 65.6% probability (pvalue=0.65639921) that the revenues will be equal indicating that we can not reject the null hypothesis where we assumed that the revenues of both regions are equal.<br>\n"
   ]
  }
 ],
 "metadata": {
  "kernelspec": {
   "display_name": "Python 3",
   "language": "python",
   "name": "python3"
  },
  "language_info": {
   "codemirror_mode": {
    "name": "ipython",
    "version": 3
   },
   "file_extension": ".py",
   "mimetype": "text/x-python",
   "name": "python",
   "nbconvert_exporter": "python",
   "pygments_lexer": "ipython3",
   "version": "3.8.5"
  },
  "toc": {
   "base_numbering": 1,
   "nav_menu": {},
   "number_sections": true,
   "sideBar": true,
   "skip_h1_title": false,
   "title_cell": "Table of Contents",
   "title_sidebar": "Contents",
   "toc_cell": false,
   "toc_position": {},
   "toc_section_display": true,
   "toc_window_display": false
  }
 },
 "nbformat": 4,
 "nbformat_minor": 4
}
