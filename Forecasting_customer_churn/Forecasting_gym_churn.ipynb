{
 "cells": [
  {
   "cell_type": "markdown",
   "metadata": {},
   "source": [
    "## Goal of the Project\n",
    "The gym chain Model Fitness is developing a customer interaction strategy based on analytical data. Analyze customer profiles and come up with a customer retention strategy."
   ]
  },
  {
   "cell_type": "markdown",
   "metadata": {},
   "source": [
    "## Table of Contents\n",
    "### [Step 1. Download the data](#1)\n",
    "### [Step 2. Carry out exploratory data analysis (EDA)](#2)\n",
    "### [Step 3. Build a model to predict user churn](#3)\n",
    "### [Step 4. Create user clusters](#4)\n",
    "### [Step 5. Come up with conclusions and basic recommendations on working with customers](#5)"
   ]
  },
  {
   "cell_type": "markdown",
   "metadata": {},
   "source": [
    "<a id= '1'></a>"
   ]
  },
  {
   "cell_type": "markdown",
   "metadata": {},
   "source": [
    "## Step 1. Download the data"
   ]
  },
  {
   "cell_type": "code",
   "execution_count": 1,
   "metadata": {
    "scrolled": true
   },
   "outputs": [],
   "source": [
    "# installing libraries\n",
    "#!pip install matplotlib -U\n",
    "#!pip install pandas -U\n",
    "#!pip install numpy -U\n",
    "#!pip install scipy -U\n",
    "#!pip install plotly -U"
   ]
  },
  {
   "cell_type": "code",
   "execution_count": 2,
   "metadata": {},
   "outputs": [],
   "source": [
    "# importing libraries \n",
    "import pandas as pd\n",
    "import numpy as np\n",
    "import matplotlib.pyplot as plt\n",
    "import scipy.stats as st\n",
    "import seaborn as sns\n",
    "import plotly.express as px\n",
    "\n",
    "# ignoring warnings\n",
    "import sys\n",
    "import warnings\n",
    "if not sys.warnoptions:\n",
    "       warnings.simplefilter(\"ignore\")\n",
    "        \n",
    "from sklearn.model_selection import train_test_split\n",
    "from sklearn.metrics import accuracy_score, precision_score, recall_score\n",
    "from sklearn.preprocessing import StandardScaler\n",
    "from sklearn.linear_model import LogisticRegression\n",
    "from sklearn.ensemble import RandomForestClassifier\n",
    "from sklearn.cluster import KMeans\n",
    "from scipy.cluster.hierarchy import dendrogram, linkage\n",
    "from sklearn.metrics import silhouette_score\n",
    "from plotly.subplots import make_subplots\n",
    "import plotly.graph_objects as go\n",
    "import math"
   ]
  },
  {
   "cell_type": "code",
   "execution_count": 3,
   "metadata": {},
   "outputs": [],
   "source": [
    "data = pd.read_csv('/datasets/gym_churn_us.csv')"
   ]
  },
  {
   "cell_type": "code",
   "execution_count": 4,
   "metadata": {},
   "outputs": [
    {
     "name": "stdout",
     "output_type": "stream",
     "text": [
      "<class 'pandas.core.frame.DataFrame'>\n",
      "RangeIndex: 4000 entries, 0 to 3999\n",
      "Data columns (total 14 columns):\n",
      "gender                               4000 non-null int64\n",
      "Near_Location                        4000 non-null int64\n",
      "Partner                              4000 non-null int64\n",
      "Promo_friends                        4000 non-null int64\n",
      "Phone                                4000 non-null int64\n",
      "Contract_period                      4000 non-null int64\n",
      "Group_visits                         4000 non-null int64\n",
      "Age                                  4000 non-null int64\n",
      "Avg_additional_charges_total         4000 non-null float64\n",
      "Month_to_end_contract                4000 non-null float64\n",
      "Lifetime                             4000 non-null int64\n",
      "Avg_class_frequency_total            4000 non-null float64\n",
      "Avg_class_frequency_current_month    4000 non-null float64\n",
      "Churn                                4000 non-null int64\n",
      "dtypes: float64(4), int64(10)\n",
      "memory usage: 437.6 KB\n"
     ]
    }
   ],
   "source": [
    "data.info()"
   ]
  },
  {
   "cell_type": "code",
   "execution_count": 5,
   "metadata": {},
   "outputs": [],
   "source": [
    "# converting dataframe columns to lowercase letters\n",
    "data.columns = data.columns.str.lower()"
   ]
  },
  {
   "cell_type": "code",
   "execution_count": 6,
   "metadata": {},
   "outputs": [
    {
     "data": {
      "text/plain": [
       "(4000, 14)"
      ]
     },
     "execution_count": 6,
     "metadata": {},
     "output_type": "execute_result"
    }
   ],
   "source": [
    "data.shape"
   ]
  },
  {
   "cell_type": "markdown",
   "metadata": {},
   "source": [
    " - There are 4000 rows and 14 columns where `churn` is our **target variable** and remaining 13 columns are **feature variables**."
   ]
  },
  {
   "cell_type": "code",
   "execution_count": 7,
   "metadata": {},
   "outputs": [
    {
     "data": {
      "text/html": [
       "<div>\n",
       "<style scoped>\n",
       "    .dataframe tbody tr th:only-of-type {\n",
       "        vertical-align: middle;\n",
       "    }\n",
       "\n",
       "    .dataframe tbody tr th {\n",
       "        vertical-align: top;\n",
       "    }\n",
       "\n",
       "    .dataframe thead th {\n",
       "        text-align: right;\n",
       "    }\n",
       "</style>\n",
       "<table border=\"1\" class=\"dataframe\">\n",
       "  <thead>\n",
       "    <tr style=\"text-align: right;\">\n",
       "      <th></th>\n",
       "      <th>gender</th>\n",
       "      <th>near_location</th>\n",
       "      <th>partner</th>\n",
       "      <th>promo_friends</th>\n",
       "      <th>phone</th>\n",
       "      <th>contract_period</th>\n",
       "      <th>group_visits</th>\n",
       "      <th>age</th>\n",
       "      <th>avg_additional_charges_total</th>\n",
       "      <th>month_to_end_contract</th>\n",
       "      <th>lifetime</th>\n",
       "      <th>avg_class_frequency_total</th>\n",
       "      <th>avg_class_frequency_current_month</th>\n",
       "      <th>churn</th>\n",
       "    </tr>\n",
       "  </thead>\n",
       "  <tbody>\n",
       "    <tr>\n",
       "      <td>0</td>\n",
       "      <td>1</td>\n",
       "      <td>1</td>\n",
       "      <td>1</td>\n",
       "      <td>1</td>\n",
       "      <td>0</td>\n",
       "      <td>6</td>\n",
       "      <td>1</td>\n",
       "      <td>29</td>\n",
       "      <td>14.227470</td>\n",
       "      <td>5.0</td>\n",
       "      <td>3</td>\n",
       "      <td>0.020398</td>\n",
       "      <td>0.000000</td>\n",
       "      <td>0</td>\n",
       "    </tr>\n",
       "    <tr>\n",
       "      <td>1</td>\n",
       "      <td>0</td>\n",
       "      <td>1</td>\n",
       "      <td>0</td>\n",
       "      <td>0</td>\n",
       "      <td>1</td>\n",
       "      <td>12</td>\n",
       "      <td>1</td>\n",
       "      <td>31</td>\n",
       "      <td>113.202938</td>\n",
       "      <td>12.0</td>\n",
       "      <td>7</td>\n",
       "      <td>1.922936</td>\n",
       "      <td>1.910244</td>\n",
       "      <td>0</td>\n",
       "    </tr>\n",
       "    <tr>\n",
       "      <td>2</td>\n",
       "      <td>0</td>\n",
       "      <td>1</td>\n",
       "      <td>1</td>\n",
       "      <td>0</td>\n",
       "      <td>1</td>\n",
       "      <td>1</td>\n",
       "      <td>0</td>\n",
       "      <td>28</td>\n",
       "      <td>129.448479</td>\n",
       "      <td>1.0</td>\n",
       "      <td>2</td>\n",
       "      <td>1.859098</td>\n",
       "      <td>1.736502</td>\n",
       "      <td>0</td>\n",
       "    </tr>\n",
       "    <tr>\n",
       "      <td>3</td>\n",
       "      <td>0</td>\n",
       "      <td>1</td>\n",
       "      <td>1</td>\n",
       "      <td>1</td>\n",
       "      <td>1</td>\n",
       "      <td>12</td>\n",
       "      <td>1</td>\n",
       "      <td>33</td>\n",
       "      <td>62.669863</td>\n",
       "      <td>12.0</td>\n",
       "      <td>2</td>\n",
       "      <td>3.205633</td>\n",
       "      <td>3.357215</td>\n",
       "      <td>0</td>\n",
       "    </tr>\n",
       "    <tr>\n",
       "      <td>4</td>\n",
       "      <td>1</td>\n",
       "      <td>1</td>\n",
       "      <td>1</td>\n",
       "      <td>1</td>\n",
       "      <td>1</td>\n",
       "      <td>1</td>\n",
       "      <td>0</td>\n",
       "      <td>26</td>\n",
       "      <td>198.362265</td>\n",
       "      <td>1.0</td>\n",
       "      <td>3</td>\n",
       "      <td>1.113884</td>\n",
       "      <td>1.120078</td>\n",
       "      <td>0</td>\n",
       "    </tr>\n",
       "  </tbody>\n",
       "</table>\n",
       "</div>"
      ],
      "text/plain": [
       "   gender  near_location  partner  promo_friends  phone  contract_period  \\\n",
       "0       1              1        1              1      0                6   \n",
       "1       0              1        0              0      1               12   \n",
       "2       0              1        1              0      1                1   \n",
       "3       0              1        1              1      1               12   \n",
       "4       1              1        1              1      1                1   \n",
       "\n",
       "   group_visits  age  avg_additional_charges_total  month_to_end_contract  \\\n",
       "0             1   29                     14.227470                    5.0   \n",
       "1             1   31                    113.202938                   12.0   \n",
       "2             0   28                    129.448479                    1.0   \n",
       "3             1   33                     62.669863                   12.0   \n",
       "4             0   26                    198.362265                    1.0   \n",
       "\n",
       "   lifetime  avg_class_frequency_total  avg_class_frequency_current_month  \\\n",
       "0         3                   0.020398                           0.000000   \n",
       "1         7                   1.922936                           1.910244   \n",
       "2         2                   1.859098                           1.736502   \n",
       "3         2                   3.205633                           3.357215   \n",
       "4         3                   1.113884                           1.120078   \n",
       "\n",
       "   churn  \n",
       "0      0  \n",
       "1      0  \n",
       "2      0  \n",
       "3      0  \n",
       "4      0  "
      ]
     },
     "execution_count": 7,
     "metadata": {},
     "output_type": "execute_result"
    }
   ],
   "source": [
    "data.head(5)"
   ]
  },
  {
   "cell_type": "code",
   "execution_count": 8,
   "metadata": {},
   "outputs": [
    {
     "data": {
      "text/html": [
       "<div>\n",
       "<style scoped>\n",
       "    .dataframe tbody tr th:only-of-type {\n",
       "        vertical-align: middle;\n",
       "    }\n",
       "\n",
       "    .dataframe tbody tr th {\n",
       "        vertical-align: top;\n",
       "    }\n",
       "\n",
       "    .dataframe thead th {\n",
       "        text-align: right;\n",
       "    }\n",
       "</style>\n",
       "<table border=\"1\" class=\"dataframe\">\n",
       "  <thead>\n",
       "    <tr style=\"text-align: right;\">\n",
       "      <th></th>\n",
       "      <th>gender</th>\n",
       "      <th>near_location</th>\n",
       "      <th>partner</th>\n",
       "      <th>promo_friends</th>\n",
       "      <th>phone</th>\n",
       "      <th>contract_period</th>\n",
       "      <th>group_visits</th>\n",
       "      <th>age</th>\n",
       "      <th>avg_additional_charges_total</th>\n",
       "      <th>month_to_end_contract</th>\n",
       "      <th>lifetime</th>\n",
       "      <th>avg_class_frequency_total</th>\n",
       "      <th>avg_class_frequency_current_month</th>\n",
       "      <th>churn</th>\n",
       "    </tr>\n",
       "  </thead>\n",
       "  <tbody>\n",
       "    <tr>\n",
       "      <td>3995</td>\n",
       "      <td>1</td>\n",
       "      <td>1</td>\n",
       "      <td>1</td>\n",
       "      <td>0</td>\n",
       "      <td>1</td>\n",
       "      <td>12</td>\n",
       "      <td>0</td>\n",
       "      <td>33</td>\n",
       "      <td>2.406023</td>\n",
       "      <td>12.0</td>\n",
       "      <td>8</td>\n",
       "      <td>2.284497</td>\n",
       "      <td>2.349070</td>\n",
       "      <td>0</td>\n",
       "    </tr>\n",
       "    <tr>\n",
       "      <td>3996</td>\n",
       "      <td>0</td>\n",
       "      <td>1</td>\n",
       "      <td>0</td>\n",
       "      <td>0</td>\n",
       "      <td>1</td>\n",
       "      <td>1</td>\n",
       "      <td>1</td>\n",
       "      <td>29</td>\n",
       "      <td>68.883764</td>\n",
       "      <td>1.0</td>\n",
       "      <td>1</td>\n",
       "      <td>1.277168</td>\n",
       "      <td>0.292859</td>\n",
       "      <td>1</td>\n",
       "    </tr>\n",
       "    <tr>\n",
       "      <td>3997</td>\n",
       "      <td>1</td>\n",
       "      <td>1</td>\n",
       "      <td>1</td>\n",
       "      <td>1</td>\n",
       "      <td>1</td>\n",
       "      <td>12</td>\n",
       "      <td>0</td>\n",
       "      <td>28</td>\n",
       "      <td>78.250542</td>\n",
       "      <td>11.0</td>\n",
       "      <td>2</td>\n",
       "      <td>2.786146</td>\n",
       "      <td>2.831439</td>\n",
       "      <td>0</td>\n",
       "    </tr>\n",
       "    <tr>\n",
       "      <td>3998</td>\n",
       "      <td>0</td>\n",
       "      <td>1</td>\n",
       "      <td>1</td>\n",
       "      <td>1</td>\n",
       "      <td>1</td>\n",
       "      <td>6</td>\n",
       "      <td>0</td>\n",
       "      <td>32</td>\n",
       "      <td>61.912657</td>\n",
       "      <td>5.0</td>\n",
       "      <td>3</td>\n",
       "      <td>1.630108</td>\n",
       "      <td>1.596237</td>\n",
       "      <td>0</td>\n",
       "    </tr>\n",
       "    <tr>\n",
       "      <td>3999</td>\n",
       "      <td>1</td>\n",
       "      <td>0</td>\n",
       "      <td>1</td>\n",
       "      <td>0</td>\n",
       "      <td>0</td>\n",
       "      <td>12</td>\n",
       "      <td>1</td>\n",
       "      <td>30</td>\n",
       "      <td>178.861814</td>\n",
       "      <td>12.0</td>\n",
       "      <td>1</td>\n",
       "      <td>1.101832</td>\n",
       "      <td>1.035270</td>\n",
       "      <td>0</td>\n",
       "    </tr>\n",
       "  </tbody>\n",
       "</table>\n",
       "</div>"
      ],
      "text/plain": [
       "      gender  near_location  partner  promo_friends  phone  contract_period  \\\n",
       "3995       1              1        1              0      1               12   \n",
       "3996       0              1        0              0      1                1   \n",
       "3997       1              1        1              1      1               12   \n",
       "3998       0              1        1              1      1                6   \n",
       "3999       1              0        1              0      0               12   \n",
       "\n",
       "      group_visits  age  avg_additional_charges_total  month_to_end_contract  \\\n",
       "3995             0   33                      2.406023                   12.0   \n",
       "3996             1   29                     68.883764                    1.0   \n",
       "3997             0   28                     78.250542                   11.0   \n",
       "3998             0   32                     61.912657                    5.0   \n",
       "3999             1   30                    178.861814                   12.0   \n",
       "\n",
       "      lifetime  avg_class_frequency_total  avg_class_frequency_current_month  \\\n",
       "3995         8                   2.284497                           2.349070   \n",
       "3996         1                   1.277168                           0.292859   \n",
       "3997         2                   2.786146                           2.831439   \n",
       "3998         3                   1.630108                           1.596237   \n",
       "3999         1                   1.101832                           1.035270   \n",
       "\n",
       "      churn  \n",
       "3995      0  \n",
       "3996      1  \n",
       "3997      0  \n",
       "3998      0  \n",
       "3999      0  "
      ]
     },
     "execution_count": 8,
     "metadata": {},
     "output_type": "execute_result"
    }
   ],
   "source": [
    "data.tail(5)"
   ]
  },
  {
   "cell_type": "markdown",
   "metadata": {},
   "source": [
    " - All feature varibles have Numerical and Binary (0,1) values."
   ]
  },
  {
   "cell_type": "markdown",
   "metadata": {},
   "source": [
    "### Conclusion"
   ]
  },
  {
   "cell_type": "markdown",
   "metadata": {},
   "source": [
    "Data was downloaded and studied. The following outcomes can be drawn so far:\n",
    " - There are 4000 rows and 14 columns where `churn` is our **target variable** and remaining 13 columns are **feature variables**.\n",
    " - All column names were converted to lowercase letters for the sake of simplicity.\n",
    " - Some feature values (e.g. `gender`, `near_location`, `partner`, `promo_friends`, `group_visits`) have binary values, whereas (e.g. `age`, `avg_additional_charges_total`, `month_to_end_contract`, `lifetime`) are continious values.\n",
    " - All datatypes are numeric which is suitable for our further analysis"
   ]
  },
  {
   "cell_type": "markdown",
   "metadata": {},
   "source": [
    "<a id= '2'></a>"
   ]
  },
  {
   "cell_type": "markdown",
   "metadata": {},
   "source": [
    "## Step 2. Carry out exploratory data analysis (EDA)"
   ]
  },
  {
   "cell_type": "markdown",
   "metadata": {},
   "source": [
    "#### Look at the dataset: does it contain any missing features? Study the mean values and standard deviation (use the describe() method)."
   ]
  },
  {
   "cell_type": "code",
   "execution_count": 9,
   "metadata": {},
   "outputs": [
    {
     "data": {
      "text/html": [
       "<div>\n",
       "<style scoped>\n",
       "    .dataframe tbody tr th:only-of-type {\n",
       "        vertical-align: middle;\n",
       "    }\n",
       "\n",
       "    .dataframe tbody tr th {\n",
       "        vertical-align: top;\n",
       "    }\n",
       "\n",
       "    .dataframe thead th {\n",
       "        text-align: right;\n",
       "    }\n",
       "</style>\n",
       "<table border=\"1\" class=\"dataframe\">\n",
       "  <thead>\n",
       "    <tr style=\"text-align: right;\">\n",
       "      <th></th>\n",
       "      <th>gender</th>\n",
       "      <th>near_location</th>\n",
       "      <th>partner</th>\n",
       "      <th>promo_friends</th>\n",
       "      <th>phone</th>\n",
       "      <th>contract_period</th>\n",
       "      <th>group_visits</th>\n",
       "      <th>age</th>\n",
       "      <th>avg_additional_charges_total</th>\n",
       "      <th>month_to_end_contract</th>\n",
       "      <th>lifetime</th>\n",
       "      <th>avg_class_frequency_total</th>\n",
       "      <th>avg_class_frequency_current_month</th>\n",
       "      <th>churn</th>\n",
       "    </tr>\n",
       "  </thead>\n",
       "  <tbody>\n",
       "    <tr>\n",
       "      <td>count</td>\n",
       "      <td>4000.000000</td>\n",
       "      <td>4000.000000</td>\n",
       "      <td>4000.000000</td>\n",
       "      <td>4000.000000</td>\n",
       "      <td>4000.000000</td>\n",
       "      <td>4000.000000</td>\n",
       "      <td>4000.000000</td>\n",
       "      <td>4000.000000</td>\n",
       "      <td>4000.000000</td>\n",
       "      <td>4000.000000</td>\n",
       "      <td>4000.000000</td>\n",
       "      <td>4000.000000</td>\n",
       "      <td>4000.000000</td>\n",
       "      <td>4000.000000</td>\n",
       "    </tr>\n",
       "    <tr>\n",
       "      <td>mean</td>\n",
       "      <td>0.510250</td>\n",
       "      <td>0.845250</td>\n",
       "      <td>0.486750</td>\n",
       "      <td>0.308500</td>\n",
       "      <td>0.903500</td>\n",
       "      <td>4.681250</td>\n",
       "      <td>0.412250</td>\n",
       "      <td>29.184250</td>\n",
       "      <td>146.943728</td>\n",
       "      <td>4.322750</td>\n",
       "      <td>3.724750</td>\n",
       "      <td>1.879020</td>\n",
       "      <td>1.767052</td>\n",
       "      <td>0.265250</td>\n",
       "    </tr>\n",
       "    <tr>\n",
       "      <td>std</td>\n",
       "      <td>0.499957</td>\n",
       "      <td>0.361711</td>\n",
       "      <td>0.499887</td>\n",
       "      <td>0.461932</td>\n",
       "      <td>0.295313</td>\n",
       "      <td>4.549706</td>\n",
       "      <td>0.492301</td>\n",
       "      <td>3.258367</td>\n",
       "      <td>96.355602</td>\n",
       "      <td>4.191297</td>\n",
       "      <td>3.749267</td>\n",
       "      <td>0.972245</td>\n",
       "      <td>1.052906</td>\n",
       "      <td>0.441521</td>\n",
       "    </tr>\n",
       "    <tr>\n",
       "      <td>min</td>\n",
       "      <td>0.000000</td>\n",
       "      <td>0.000000</td>\n",
       "      <td>0.000000</td>\n",
       "      <td>0.000000</td>\n",
       "      <td>0.000000</td>\n",
       "      <td>1.000000</td>\n",
       "      <td>0.000000</td>\n",
       "      <td>18.000000</td>\n",
       "      <td>0.148205</td>\n",
       "      <td>1.000000</td>\n",
       "      <td>0.000000</td>\n",
       "      <td>0.000000</td>\n",
       "      <td>0.000000</td>\n",
       "      <td>0.000000</td>\n",
       "    </tr>\n",
       "    <tr>\n",
       "      <td>25%</td>\n",
       "      <td>0.000000</td>\n",
       "      <td>1.000000</td>\n",
       "      <td>0.000000</td>\n",
       "      <td>0.000000</td>\n",
       "      <td>1.000000</td>\n",
       "      <td>1.000000</td>\n",
       "      <td>0.000000</td>\n",
       "      <td>27.000000</td>\n",
       "      <td>68.868830</td>\n",
       "      <td>1.000000</td>\n",
       "      <td>1.000000</td>\n",
       "      <td>1.180875</td>\n",
       "      <td>0.963003</td>\n",
       "      <td>0.000000</td>\n",
       "    </tr>\n",
       "    <tr>\n",
       "      <td>50%</td>\n",
       "      <td>1.000000</td>\n",
       "      <td>1.000000</td>\n",
       "      <td>0.000000</td>\n",
       "      <td>0.000000</td>\n",
       "      <td>1.000000</td>\n",
       "      <td>1.000000</td>\n",
       "      <td>0.000000</td>\n",
       "      <td>29.000000</td>\n",
       "      <td>136.220159</td>\n",
       "      <td>1.000000</td>\n",
       "      <td>3.000000</td>\n",
       "      <td>1.832768</td>\n",
       "      <td>1.719574</td>\n",
       "      <td>0.000000</td>\n",
       "    </tr>\n",
       "    <tr>\n",
       "      <td>75%</td>\n",
       "      <td>1.000000</td>\n",
       "      <td>1.000000</td>\n",
       "      <td>1.000000</td>\n",
       "      <td>1.000000</td>\n",
       "      <td>1.000000</td>\n",
       "      <td>6.000000</td>\n",
       "      <td>1.000000</td>\n",
       "      <td>31.000000</td>\n",
       "      <td>210.949625</td>\n",
       "      <td>6.000000</td>\n",
       "      <td>5.000000</td>\n",
       "      <td>2.536078</td>\n",
       "      <td>2.510336</td>\n",
       "      <td>1.000000</td>\n",
       "    </tr>\n",
       "    <tr>\n",
       "      <td>max</td>\n",
       "      <td>1.000000</td>\n",
       "      <td>1.000000</td>\n",
       "      <td>1.000000</td>\n",
       "      <td>1.000000</td>\n",
       "      <td>1.000000</td>\n",
       "      <td>12.000000</td>\n",
       "      <td>1.000000</td>\n",
       "      <td>41.000000</td>\n",
       "      <td>552.590740</td>\n",
       "      <td>12.000000</td>\n",
       "      <td>31.000000</td>\n",
       "      <td>6.023668</td>\n",
       "      <td>6.146783</td>\n",
       "      <td>1.000000</td>\n",
       "    </tr>\n",
       "  </tbody>\n",
       "</table>\n",
       "</div>"
      ],
      "text/plain": [
       "            gender  near_location      partner  promo_friends        phone  \\\n",
       "count  4000.000000    4000.000000  4000.000000    4000.000000  4000.000000   \n",
       "mean      0.510250       0.845250     0.486750       0.308500     0.903500   \n",
       "std       0.499957       0.361711     0.499887       0.461932     0.295313   \n",
       "min       0.000000       0.000000     0.000000       0.000000     0.000000   \n",
       "25%       0.000000       1.000000     0.000000       0.000000     1.000000   \n",
       "50%       1.000000       1.000000     0.000000       0.000000     1.000000   \n",
       "75%       1.000000       1.000000     1.000000       1.000000     1.000000   \n",
       "max       1.000000       1.000000     1.000000       1.000000     1.000000   \n",
       "\n",
       "       contract_period  group_visits          age  \\\n",
       "count      4000.000000   4000.000000  4000.000000   \n",
       "mean          4.681250      0.412250    29.184250   \n",
       "std           4.549706      0.492301     3.258367   \n",
       "min           1.000000      0.000000    18.000000   \n",
       "25%           1.000000      0.000000    27.000000   \n",
       "50%           1.000000      0.000000    29.000000   \n",
       "75%           6.000000      1.000000    31.000000   \n",
       "max          12.000000      1.000000    41.000000   \n",
       "\n",
       "       avg_additional_charges_total  month_to_end_contract     lifetime  \\\n",
       "count                   4000.000000            4000.000000  4000.000000   \n",
       "mean                     146.943728               4.322750     3.724750   \n",
       "std                       96.355602               4.191297     3.749267   \n",
       "min                        0.148205               1.000000     0.000000   \n",
       "25%                       68.868830               1.000000     1.000000   \n",
       "50%                      136.220159               1.000000     3.000000   \n",
       "75%                      210.949625               6.000000     5.000000   \n",
       "max                      552.590740              12.000000    31.000000   \n",
       "\n",
       "       avg_class_frequency_total  avg_class_frequency_current_month  \\\n",
       "count                4000.000000                        4000.000000   \n",
       "mean                    1.879020                           1.767052   \n",
       "std                     0.972245                           1.052906   \n",
       "min                     0.000000                           0.000000   \n",
       "25%                     1.180875                           0.963003   \n",
       "50%                     1.832768                           1.719574   \n",
       "75%                     2.536078                           2.510336   \n",
       "max                     6.023668                           6.146783   \n",
       "\n",
       "             churn  \n",
       "count  4000.000000  \n",
       "mean      0.265250  \n",
       "std       0.441521  \n",
       "min       0.000000  \n",
       "25%       0.000000  \n",
       "50%       0.000000  \n",
       "75%       1.000000  \n",
       "max       1.000000  "
      ]
     },
     "execution_count": 9,
     "metadata": {},
     "output_type": "execute_result"
    }
   ],
   "source": [
    "# stats\n",
    "data.describe()"
   ]
  },
  {
   "cell_type": "code",
   "execution_count": 10,
   "metadata": {},
   "outputs": [
    {
     "data": {
      "text/plain": [
       "1    2041\n",
       "0    1959\n",
       "Name: gender, dtype: int64"
      ]
     },
     "execution_count": 10,
     "metadata": {},
     "output_type": "execute_result"
    }
   ],
   "source": [
    "data['gender'].value_counts()"
   ]
  },
  {
   "cell_type": "code",
   "execution_count": 11,
   "metadata": {},
   "outputs": [
    {
     "data": {
      "text/plain": [
       "1    3614\n",
       "0     386\n",
       "Name: phone, dtype: int64"
      ]
     },
     "execution_count": 11,
     "metadata": {},
     "output_type": "execute_result"
    }
   ],
   "source": [
    "data['phone'].value_counts()"
   ]
  },
  {
   "cell_type": "markdown",
   "metadata": {},
   "source": [
    "The data has been studied through `describe()` method. The following conclusions can be made:\n",
    " - The data has almost equal share of males and females, mean = 0.51\n",
    " - Majority of customers live near the gym, mean = 0.84\n",
    " - Less than 50% of customers are from partner companies, mean = 0.48\n",
    " - Majority of the customers have provided their phone numbers\n",
    " - 75 % of total customers have 6-month contract periods\n",
    " - 40 % of total customers visit group sessions\n",
    " - The average age of our customers is 29. Every second person who comes to the gym is 29 years old.\n",
    " - Every second client spends 136 USD per month on other gym sercvises(e.g. cafe, athletic goods, cosmetics, massages)\n",
    " - On average, our clients have 4 months left till the end of their contract\n",
    " - On average, customers visit gym 2 times per week over their lifetime"
   ]
  },
  {
   "cell_type": "code",
   "execution_count": 12,
   "metadata": {},
   "outputs": [
    {
     "data": {
      "text/plain": [
       "gender                               0\n",
       "near_location                        0\n",
       "partner                              0\n",
       "promo_friends                        0\n",
       "phone                                0\n",
       "contract_period                      0\n",
       "group_visits                         0\n",
       "age                                  0\n",
       "avg_additional_charges_total         0\n",
       "month_to_end_contract                0\n",
       "lifetime                             0\n",
       "avg_class_frequency_total            0\n",
       "avg_class_frequency_current_month    0\n",
       "churn                                0\n",
       "dtype: int64"
      ]
     },
     "execution_count": 12,
     "metadata": {},
     "output_type": "execute_result"
    }
   ],
   "source": [
    "# missing values\n",
    "data.isnull().sum()"
   ]
  },
  {
   "cell_type": "code",
   "execution_count": 13,
   "metadata": {},
   "outputs": [
    {
     "data": {
      "text/plain": [
       "0"
      ]
     },
     "execution_count": 13,
     "metadata": {},
     "output_type": "execute_result"
    }
   ],
   "source": [
    "data.duplicated().sum()"
   ]
  },
  {
   "cell_type": "markdown",
   "metadata": {},
   "source": [
    "#### Look at the mean feature values in two groups: for those who left (churn) and for those who stayed (use the groupby() method)."
   ]
  },
  {
   "cell_type": "code",
   "execution_count": 14,
   "metadata": {},
   "outputs": [
    {
     "data": {
      "text/html": [
       "<div>\n",
       "<style scoped>\n",
       "    .dataframe tbody tr th:only-of-type {\n",
       "        vertical-align: middle;\n",
       "    }\n",
       "\n",
       "    .dataframe tbody tr th {\n",
       "        vertical-align: top;\n",
       "    }\n",
       "\n",
       "    .dataframe thead th {\n",
       "        text-align: right;\n",
       "    }\n",
       "</style>\n",
       "<table border=\"1\" class=\"dataframe\">\n",
       "  <thead>\n",
       "    <tr style=\"text-align: right;\">\n",
       "      <th></th>\n",
       "      <th>gender</th>\n",
       "      <th>near_location</th>\n",
       "      <th>partner</th>\n",
       "      <th>promo_friends</th>\n",
       "      <th>phone</th>\n",
       "      <th>contract_period</th>\n",
       "      <th>group_visits</th>\n",
       "      <th>age</th>\n",
       "      <th>avg_additional_charges_total</th>\n",
       "      <th>month_to_end_contract</th>\n",
       "      <th>lifetime</th>\n",
       "      <th>avg_class_frequency_total</th>\n",
       "      <th>avg_class_frequency_current_month</th>\n",
       "    </tr>\n",
       "    <tr>\n",
       "      <th>churn</th>\n",
       "      <th></th>\n",
       "      <th></th>\n",
       "      <th></th>\n",
       "      <th></th>\n",
       "      <th></th>\n",
       "      <th></th>\n",
       "      <th></th>\n",
       "      <th></th>\n",
       "      <th></th>\n",
       "      <th></th>\n",
       "      <th></th>\n",
       "      <th></th>\n",
       "      <th></th>\n",
       "    </tr>\n",
       "  </thead>\n",
       "  <tbody>\n",
       "    <tr>\n",
       "      <td>0</td>\n",
       "      <td>0.510037</td>\n",
       "      <td>0.873086</td>\n",
       "      <td>0.534195</td>\n",
       "      <td>0.353522</td>\n",
       "      <td>0.903709</td>\n",
       "      <td>5.747193</td>\n",
       "      <td>0.464103</td>\n",
       "      <td>29.976523</td>\n",
       "      <td>158.445715</td>\n",
       "      <td>5.283089</td>\n",
       "      <td>4.711807</td>\n",
       "      <td>2.024876</td>\n",
       "      <td>2.027882</td>\n",
       "    </tr>\n",
       "    <tr>\n",
       "      <td>1</td>\n",
       "      <td>0.510839</td>\n",
       "      <td>0.768143</td>\n",
       "      <td>0.355325</td>\n",
       "      <td>0.183789</td>\n",
       "      <td>0.902922</td>\n",
       "      <td>1.728558</td>\n",
       "      <td>0.268615</td>\n",
       "      <td>26.989632</td>\n",
       "      <td>115.082899</td>\n",
       "      <td>1.662582</td>\n",
       "      <td>0.990575</td>\n",
       "      <td>1.474995</td>\n",
       "      <td>1.044546</td>\n",
       "    </tr>\n",
       "  </tbody>\n",
       "</table>\n",
       "</div>"
      ],
      "text/plain": [
       "         gender  near_location   partner  promo_friends     phone  \\\n",
       "churn                                                               \n",
       "0      0.510037       0.873086  0.534195       0.353522  0.903709   \n",
       "1      0.510839       0.768143  0.355325       0.183789  0.902922   \n",
       "\n",
       "       contract_period  group_visits        age  avg_additional_charges_total  \\\n",
       "churn                                                                           \n",
       "0             5.747193      0.464103  29.976523                    158.445715   \n",
       "1             1.728558      0.268615  26.989632                    115.082899   \n",
       "\n",
       "       month_to_end_contract  lifetime  avg_class_frequency_total  \\\n",
       "churn                                                               \n",
       "0                   5.283089  4.711807                   2.024876   \n",
       "1                   1.662582  0.990575                   1.474995   \n",
       "\n",
       "       avg_class_frequency_current_month  \n",
       "churn                                     \n",
       "0                               2.027882  \n",
       "1                               1.044546  "
      ]
     },
     "execution_count": 14,
     "metadata": {},
     "output_type": "execute_result"
    }
   ],
   "source": [
    "churn_stats = data.groupby(['churn']).mean()\n",
    "churn_stats"
   ]
  },
  {
   "cell_type": "markdown",
   "metadata": {},
   "source": [
    "The data was divided into two groups: `churn`= 0 are customers who are still with us, `churn` = 1 clients who left the gym. By looking at their features' mean values, followings can be stated:\n",
    " - Visitors who live near gym are less likely to leave in comparison with those who live far from the gym location.\n",
    " - Visitors who are employees of the partner company are more loyal than those who are not employees of a partner company.\n",
    " - Customers who visit the gym from their friends' referall also tend to be more loyal than those who found the gym by themselves.\n",
    " - Its also interesting to see that if the client visits group sessions they are more likely to stay.\n",
    " - The average age of clients who leave is 26, most probably students who came for trial.\n",
    " - It is also logical to see that customers whose contract is close to end, leave 1 month earlier.\n",
    " - Those who spend money on other activities also tend to stay in the gym and use its service for longer period.\n",
    " - Those who visit gym twice in a week tend to be more loyal than those who spend less time in the gym.\n"
   ]
  },
  {
   "cell_type": "code",
   "execution_count": 15,
   "metadata": {},
   "outputs": [],
   "source": [
    "# filtering data to customer churn; 1-left the company, 0-staying\n",
    "churned = data.query('churn == 1 ')\n",
    "not_churned = data.query('churn == 0 ')"
   ]
  },
  {
   "cell_type": "code",
   "execution_count": 16,
   "metadata": {},
   "outputs": [
    {
     "data": {
      "text/html": [
       "<div>\n",
       "<style scoped>\n",
       "    .dataframe tbody tr th:only-of-type {\n",
       "        vertical-align: middle;\n",
       "    }\n",
       "\n",
       "    .dataframe tbody tr th {\n",
       "        vertical-align: top;\n",
       "    }\n",
       "\n",
       "    .dataframe thead th {\n",
       "        text-align: right;\n",
       "    }\n",
       "</style>\n",
       "<table border=\"1\" class=\"dataframe\">\n",
       "  <thead>\n",
       "    <tr style=\"text-align: right;\">\n",
       "      <th></th>\n",
       "      <th>gender</th>\n",
       "      <th>near_location</th>\n",
       "      <th>partner</th>\n",
       "      <th>promo_friends</th>\n",
       "      <th>phone</th>\n",
       "      <th>contract_period</th>\n",
       "      <th>group_visits</th>\n",
       "      <th>age</th>\n",
       "      <th>avg_additional_charges_total</th>\n",
       "      <th>month_to_end_contract</th>\n",
       "      <th>lifetime</th>\n",
       "      <th>avg_class_frequency_total</th>\n",
       "      <th>avg_class_frequency_current_month</th>\n",
       "      <th>churn</th>\n",
       "    </tr>\n",
       "  </thead>\n",
       "  <tbody>\n",
       "    <tr>\n",
       "      <td>2118</td>\n",
       "      <td>1</td>\n",
       "      <td>1</td>\n",
       "      <td>0</td>\n",
       "      <td>0</td>\n",
       "      <td>1</td>\n",
       "      <td>1</td>\n",
       "      <td>0</td>\n",
       "      <td>32</td>\n",
       "      <td>55.951046</td>\n",
       "      <td>1.0</td>\n",
       "      <td>3</td>\n",
       "      <td>0.883247</td>\n",
       "      <td>0.215302</td>\n",
       "      <td>1</td>\n",
       "    </tr>\n",
       "  </tbody>\n",
       "</table>\n",
       "</div>"
      ],
      "text/plain": [
       "      gender  near_location  partner  promo_friends  phone  contract_period  \\\n",
       "2118       1              1        0              0      1                1   \n",
       "\n",
       "      group_visits  age  avg_additional_charges_total  month_to_end_contract  \\\n",
       "2118             0   32                     55.951046                    1.0   \n",
       "\n",
       "      lifetime  avg_class_frequency_total  avg_class_frequency_current_month  \\\n",
       "2118         3                   0.883247                           0.215302   \n",
       "\n",
       "      churn  \n",
       "2118      1  "
      ]
     },
     "execution_count": 16,
     "metadata": {},
     "output_type": "execute_result"
    }
   ],
   "source": [
    "churned.sample()"
   ]
  },
  {
   "cell_type": "code",
   "execution_count": 17,
   "metadata": {},
   "outputs": [
    {
     "data": {
      "text/html": [
       "<div>\n",
       "<style scoped>\n",
       "    .dataframe tbody tr th:only-of-type {\n",
       "        vertical-align: middle;\n",
       "    }\n",
       "\n",
       "    .dataframe tbody tr th {\n",
       "        vertical-align: top;\n",
       "    }\n",
       "\n",
       "    .dataframe thead th {\n",
       "        text-align: right;\n",
       "    }\n",
       "</style>\n",
       "<table border=\"1\" class=\"dataframe\">\n",
       "  <thead>\n",
       "    <tr style=\"text-align: right;\">\n",
       "      <th></th>\n",
       "      <th>gender</th>\n",
       "      <th>near_location</th>\n",
       "      <th>partner</th>\n",
       "      <th>promo_friends</th>\n",
       "      <th>phone</th>\n",
       "      <th>contract_period</th>\n",
       "      <th>group_visits</th>\n",
       "      <th>age</th>\n",
       "      <th>avg_additional_charges_total</th>\n",
       "      <th>month_to_end_contract</th>\n",
       "      <th>lifetime</th>\n",
       "      <th>avg_class_frequency_total</th>\n",
       "      <th>avg_class_frequency_current_month</th>\n",
       "      <th>churn</th>\n",
       "    </tr>\n",
       "  </thead>\n",
       "  <tbody>\n",
       "    <tr>\n",
       "      <td>3544</td>\n",
       "      <td>1</td>\n",
       "      <td>1</td>\n",
       "      <td>0</td>\n",
       "      <td>0</td>\n",
       "      <td>1</td>\n",
       "      <td>12</td>\n",
       "      <td>0</td>\n",
       "      <td>33</td>\n",
       "      <td>117.823717</td>\n",
       "      <td>12.0</td>\n",
       "      <td>7</td>\n",
       "      <td>2.470885</td>\n",
       "      <td>2.452513</td>\n",
       "      <td>0</td>\n",
       "    </tr>\n",
       "  </tbody>\n",
       "</table>\n",
       "</div>"
      ],
      "text/plain": [
       "      gender  near_location  partner  promo_friends  phone  contract_period  \\\n",
       "3544       1              1        0              0      1               12   \n",
       "\n",
       "      group_visits  age  avg_additional_charges_total  month_to_end_contract  \\\n",
       "3544             0   33                    117.823717                   12.0   \n",
       "\n",
       "      lifetime  avg_class_frequency_total  avg_class_frequency_current_month  \\\n",
       "3544         7                   2.470885                           2.452513   \n",
       "\n",
       "      churn  \n",
       "3544      0  "
      ]
     },
     "execution_count": 17,
     "metadata": {},
     "output_type": "execute_result"
    }
   ],
   "source": [
    "not_churned.sample()"
   ]
  },
  {
   "cell_type": "markdown",
   "metadata": {},
   "source": [
    "#### Plot bar histograms and feature distributions for those who left (churn) and those who stayed."
   ]
  },
  {
   "cell_type": "code",
   "execution_count": 18,
   "metadata": {
    "scrolled": true
   },
   "outputs": [
    {
     "data": {
      "image/png": "[encoded data removed]",
      "text/plain": [
       "<Figure size 720x432 with 1 Axes>"
      ]
     },
     "metadata": {
      "needs_background": "light"
     },
     "output_type": "display_data"
    },
    {
     "data": {
      "image/png": "[encoded data removed]",
      "text/plain": [
       "<Figure size 720x432 with 1 Axes>"
      ]
     },
     "metadata": {
      "needs_background": "light"
     },
     "output_type": "display_data"
    },
    {
     "data": {
      "image/png": "[encoded data removed]",
      "text/plain": [
       "<Figure size 720x432 with 1 Axes>"
      ]
     },
     "metadata": {
      "needs_background": "light"
     },
     "output_type": "display_data"
    },
    {
     "data": {
      "image/png": "[encoded data removed]",
      "text/plain": [
       "<Figure size 720x432 with 1 Axes>"
      ]
     },
     "metadata": {
      "needs_background": "light"
     },
     "output_type": "display_data"
    },
    {
     "data": {
      "image/png": "[encoded data removed]",
      "text/plain": [
       "<Figure size 720x432 with 1 Axes>"
      ]
     },
     "metadata": {
      "needs_background": "light"
     },
     "output_type": "display_data"
    },
    {
     "data": {
      "image/png": "[encoded data removed]",
      "text/plain": [
       "<Figure size 720x432 with 1 Axes>"
      ]
     },
     "metadata": {
      "needs_background": "light"
     },
     "output_type": "display_data"
    },
    {
     "data": {
      "image/png": "[encoded data removed]",
      "text/plain": [
       "<Figure size 720x432 with 1 Axes>"
      ]
     },
     "metadata": {
      "needs_background": "light"
     },
     "output_type": "display_data"
    },
    {
     "data": {
      "image/png": "[encoded data removed]",
      "text/plain": [
       "<Figure size 720x432 with 1 Axes>"
      ]
     },
     "metadata": {
      "needs_background": "light"
     },
     "output_type": "display_data"
    },
    {
     "data": {
      "image/png": "[encoded data removed]",
      "text/plain": [
       "<Figure size 720x432 with 1 Axes>"
      ]
     },
     "metadata": {
      "needs_background": "light"
     },
     "output_type": "display_data"
    },
    {
     "data": {
      "image/png": "[encoded data removed]",
      "text/plain": [
       "<Figure size 720x432 with 1 Axes>"
      ]
     },
     "metadata": {
      "needs_background": "light"
     },
     "output_type": "display_data"
    },
    {
     "data": {
      "image/png": "[encoded data removed]",
      "text/plain": [
       "<Figure size 720x432 with 1 Axes>"
      ]
     },
     "metadata": {
      "needs_background": "light"
     },
     "output_type": "display_data"
    },
    {
     "data": {
      "image/png": "[encoded data removed]",
      "text/plain": [
       "<Figure size 720x432 with 1 Axes>"
      ]
     },
     "metadata": {
      "needs_background": "light"
     },
     "output_type": "display_data"
    },
    {
     "data": {
      "image/png": "[encoded data removed]",
      "text/plain": [
       "<Figure size 720x432 with 1 Axes>"
      ]
     },
     "metadata": {
      "needs_background": "light"
     },
     "output_type": "display_data"
    },
    {
     "data": {
      "image/png": "[encoded data removed]",
      "text/plain": [
       "<Figure size 720x432 with 1 Axes>"
      ]
     },
     "metadata": {
      "needs_background": "light"
     },
     "output_type": "display_data"
    }
   ],
   "source": [
    "# plotting histogram for every feature \n",
    "for i in data.columns:\n",
    "    data.query('churn == 1')[i].hist(bins=10, alpha = 0.4, figsize=(10,6),label='churn = 1', color='red')\n",
    "    data.query('churn == 0')[i].hist(bins=10, alpha = 0.4, figsize=(10,6),label='churn = 0', color='blue')\n",
    "    plt.xlabel(i,fontsize=15)\n",
    "    plt.legend()\n",
    "    plt.show()"
   ]
  },
  {
   "cell_type": "markdown",
   "metadata": {},
   "source": [
    "After visualing the feature values and statistics, we have observed no outliers that could distort our further calculations and metrics."
   ]
  },
  {
   "cell_type": "markdown",
   "metadata": {},
   "source": [
    "#### Build a correlation matrix and display it."
   ]
  },
  {
   "cell_type": "code",
   "execution_count": 19,
   "metadata": {},
   "outputs": [
    {
     "data": {
      "image/png": "[encoded data removed]",
      "text/plain": [
       "<Figure size 1080x1080 with 2 Axes>"
      ]
     },
     "metadata": {
      "needs_background": "light"
     },
     "output_type": "display_data"
    }
   ],
   "source": [
    "cm = data.corr()\n",
    "plt.figure(figsize=(15, 15))\n",
    "sns.heatmap(cm, annot=True, square=True)\n",
    "plt.show()"
   ]
  },
  {
   "cell_type": "markdown",
   "metadata": {},
   "source": [
    "The correlation matrix tells us the following:\n",
    " - `contract_period` and `month_to_end_contract` have the strongest positive correlation among other features 0.97 which is quiet logical as they move in the same direction the longer the contract period the longer the month till the end of the contract.\n",
    " - `avg_class_frequency_total` and `avg_class_frequency_current_month` have also strong positive correlation = 0.95 which is again logical since total includes the current month, the higher they spend in current month, the higher it will be in total.\n",
    " - `lifetime` and `churn` have the strongest negative correlation = -0.44. The longer is customer's lifetime the less likely for them to churn."
   ]
  },
  {
   "cell_type": "markdown",
   "metadata": {},
   "source": [
    "#### Conclusion"
   ]
  },
  {
   "cell_type": "markdown",
   "metadata": {},
   "source": [
    "We have done the exploratory data analysis through:\n",
    " - We have looked at statistics with the help of describe() method;\n",
    " - We have plotted several histograms and bar-plots of feature variables\n",
    " - We have built correlation matrix to see the correlation between features "
   ]
  },
  {
   "cell_type": "markdown",
   "metadata": {},
   "source": [
    "<a id='3'></a>"
   ]
  },
  {
   "cell_type": "markdown",
   "metadata": {},
   "source": [
    "### Step 3. Build a model to predict user churn"
   ]
  },
  {
   "cell_type": "code",
   "execution_count": 20,
   "metadata": {},
   "outputs": [
    {
     "name": "stdout",
     "output_type": "stream",
     "text": [
      "Model:  LogisticRegression(C=1.0, class_weight=None, dual=False, fit_intercept=True,\n",
      "                   intercept_scaling=1, l1_ratio=None, max_iter=100,\n",
      "                   multi_class='warn', n_jobs=None, penalty='l2',\n",
      "                   random_state=0, solver='warn', tol=0.0001, verbose=0,\n",
      "                   warm_start=False)\n",
      "Accuracy: 0.93\n",
      "Precision: 0.89\n",
      "Recall: 0.84\n",
      "\n",
      "\n",
      "Model:  RandomForestClassifier(bootstrap=True, class_weight=None, criterion='gini',\n",
      "                       max_depth=None, max_features='auto', max_leaf_nodes=None,\n",
      "                       min_impurity_decrease=0.0, min_impurity_split=None,\n",
      "                       min_samples_leaf=1, min_samples_split=2,\n",
      "                       min_weight_fraction_leaf=0.0, n_estimators=10,\n",
      "                       n_jobs=None, oob_score=False, random_state=0, verbose=0,\n",
      "                       warm_start=False)\n",
      "Accuracy: 0.92\n",
      "Precision: 0.89\n",
      "Recall: 0.79\n",
      "\n",
      "\n"
     ]
    }
   ],
   "source": [
    "# features (X matrix)\n",
    "X = data.drop(['churn'], axis=1)\n",
    "\n",
    "# target variable (y)\n",
    "y = data['churn']\n",
    "\n",
    "# divide data into train and test sets\n",
    "X_train, X_test, y_train, y_test = train_test_split(X, y, test_size = 0.2, random_state = 0, stratify=y)\n",
    "\n",
    "# Create scaler object and apply it to train set\n",
    "scaler = StandardScaler()\n",
    "\n",
    "# Train scaler and transform the matric for train set\n",
    "X_train_st = scaler.fit_transform(X_train)\n",
    "\n",
    "# apply standardization of feature matric for test set\n",
    "X_test_st = scaler.transform(X_test)\n",
    "\n",
    "# define the models to compare\n",
    "models = [LogisticRegression(random_state=0), RandomForestClassifier(random_state=0)]\n",
    "\n",
    "# function that predicts model by taking data as input and outputting metrics\n",
    "def make_prediction(model, X_train, y_train, X_test, y_test):\n",
    "    model = model\n",
    "    model.fit(X_train, y_train)\n",
    "    y_pred = model.predict(X_test)\n",
    "    print('Model: ', model)\n",
    "    print('Accuracy: {:.2f}'.format(accuracy_score(y_test, y_pred)))\n",
    "    print('Precision: {:.2f}'.format(precision_score(y_test, y_pred)))\n",
    "    print('Recall: {:.2f}'.format(recall_score(y_test, y_pred)))\n",
    "    print('\\n')\n",
    "\n",
    "# output metric for both models\n",
    "for i in models:\n",
    "    make_prediction(i, X_train, y_train, X_test, y_test)"
   ]
  },
  {
   "cell_type": "markdown",
   "metadata": {},
   "source": [
    "#### Conclusion"
   ]
  },
  {
   "cell_type": "markdown",
   "metadata": {},
   "source": [
    "We ave set the X variable for features and y variable for target which is `churn` of our dataset. We have divided the dataset to 80/20 where 80% of our dataset will be train set and remaining 20% is a validation set where we will be comparing our predictions with the actual data.\n",
    "We have built binary classification models which is designed to predict the probability, in our case of churn (for the upcoming month) for each customer.\n",
    " - Accuracy is the share of accurate predictions among all predictions where closer to 1, the better. For this metric, Logistic Regression has a better score = 0.93\n",
    "\n",
    " - Precision tells us what share of predictions in class 1 are true by looking at the share of correct answers only in the target class, where closer to 1, the better. For this metric, Logistic Regression has a better score = 0.86\n",
    "\n",
    " - Recall aims at minimizing the opposite risks by demonstrating the number of real class 1 objects you were able to discover with your model where the closer to 1, the better. For this metric, Logistic Regression has a better score = 0.83\n",
    "\n",
    "To sum up,  the Logistic Regression model gave better results and we can implement it to forecast."
   ]
  },
  {
   "cell_type": "markdown",
   "metadata": {},
   "source": [
    "<a id='4'></a>"
   ]
  },
  {
   "cell_type": "markdown",
   "metadata": {},
   "source": [
    "## Step 4. Create user clusters"
   ]
  },
  {
   "cell_type": "code",
   "execution_count": 21,
   "metadata": {},
   "outputs": [
    {
     "data": {
      "image/png": "[encoded data removed]",
      "text/plain": [
       "<Figure size 1080x720 with 1 Axes>"
      ]
     },
     "metadata": {
      "needs_background": "light"
     },
     "output_type": "display_data"
    },
    {
     "name": "stdout",
     "output_type": "stream",
     "text": [
      "Silhouette score 0.14141242495809797\n"
     ]
    }
   ],
   "source": [
    "# Standardize the data\n",
    "sc = StandardScaler()\n",
    "x_sc = sc.fit_transform(X)\n",
    "\n",
    "# Build a matrix of distances based on the standardized feature matrix\n",
    "linked = linkage(x_sc, method='ward')\n",
    "\n",
    "# Plot a dendrogram\n",
    "plt.figure(figsize=(15,10))\n",
    "dendrogram(linked, orientation='top')\n",
    "plt.title('Hierarchical Clustering')\n",
    "plt.show()\n",
    "\n",
    "# Train the clustering model with the K-means algorithm and predict customer clusters. \n",
    "km = KMeans(n_clusters = 5, random_state=0)\n",
    "labels = km.fit_predict(x_sc)\n",
    "\n",
    "# calculate silhouette score\n",
    "sil_score = silhouette_score(x_sc, labels)\n",
    "print('Silhouette score', sil_score)"
   ]
  },
  {
   "cell_type": "markdown",
   "metadata": {},
   "source": [
    "In order to use K-Means clustering (which groups objects step by step under the assumption that the number of user clusters is already known), we must determine the number of user clusters that can be identified. The distance between the objects and the agglomerative hierarchical clustering itself can be visualized with special plots called dendrograms. We have set the n = 5, clusters. We have also calculated  the silhouette score which shows the extent to which an object from a cluster is similar to its cluster, rather than to another one. The closer to 1, the better the clustering.\n",
    "In our case the Silhouette score is 0.14 which is not high."
   ]
  },
  {
   "cell_type": "code",
   "execution_count": 22,
   "metadata": {},
   "outputs": [
    {
     "data": {
      "text/html": [
       "<div>\n",
       "<style scoped>\n",
       "    .dataframe tbody tr th:only-of-type {\n",
       "        vertical-align: middle;\n",
       "    }\n",
       "\n",
       "    .dataframe tbody tr th {\n",
       "        vertical-align: top;\n",
       "    }\n",
       "\n",
       "    .dataframe thead th {\n",
       "        text-align: right;\n",
       "    }\n",
       "</style>\n",
       "<table border=\"1\" class=\"dataframe\">\n",
       "  <thead>\n",
       "    <tr style=\"text-align: right;\">\n",
       "      <th></th>\n",
       "      <th>gender</th>\n",
       "      <th>near_location</th>\n",
       "      <th>partner</th>\n",
       "      <th>promo_friends</th>\n",
       "      <th>phone</th>\n",
       "      <th>contract_period</th>\n",
       "      <th>group_visits</th>\n",
       "      <th>age</th>\n",
       "      <th>avg_additional_charges_total</th>\n",
       "      <th>month_to_end_contract</th>\n",
       "      <th>lifetime</th>\n",
       "      <th>avg_class_frequency_total</th>\n",
       "      <th>avg_class_frequency_current_month</th>\n",
       "      <th>churn</th>\n",
       "    </tr>\n",
       "    <tr>\n",
       "      <th>cluster</th>\n",
       "      <th></th>\n",
       "      <th></th>\n",
       "      <th></th>\n",
       "      <th></th>\n",
       "      <th></th>\n",
       "      <th></th>\n",
       "      <th></th>\n",
       "      <th></th>\n",
       "      <th></th>\n",
       "      <th></th>\n",
       "      <th></th>\n",
       "      <th></th>\n",
       "      <th></th>\n",
       "      <th></th>\n",
       "    </tr>\n",
       "  </thead>\n",
       "  <tbody>\n",
       "    <tr>\n",
       "      <td>0</td>\n",
       "      <td>0.502473</td>\n",
       "      <td>0.959446</td>\n",
       "      <td>0.783383</td>\n",
       "      <td>0.574679</td>\n",
       "      <td>1.000000</td>\n",
       "      <td>10.884273</td>\n",
       "      <td>0.543027</td>\n",
       "      <td>29.980218</td>\n",
       "      <td>160.706969</td>\n",
       "      <td>9.950544</td>\n",
       "      <td>4.738872</td>\n",
       "      <td>1.983305</td>\n",
       "      <td>1.976225</td>\n",
       "      <td>0.027695</td>\n",
       "    </tr>\n",
       "    <tr>\n",
       "      <td>1</td>\n",
       "      <td>0.522078</td>\n",
       "      <td>0.862338</td>\n",
       "      <td>0.470130</td>\n",
       "      <td>0.306494</td>\n",
       "      <td>0.000000</td>\n",
       "      <td>4.787013</td>\n",
       "      <td>0.425974</td>\n",
       "      <td>29.301299</td>\n",
       "      <td>143.957664</td>\n",
       "      <td>4.475325</td>\n",
       "      <td>3.924675</td>\n",
       "      <td>1.847220</td>\n",
       "      <td>1.716369</td>\n",
       "      <td>0.267532</td>\n",
       "    </tr>\n",
       "    <tr>\n",
       "      <td>2</td>\n",
       "      <td>0.495050</td>\n",
       "      <td>0.000000</td>\n",
       "      <td>0.463366</td>\n",
       "      <td>0.079208</td>\n",
       "      <td>1.000000</td>\n",
       "      <td>2.352475</td>\n",
       "      <td>0.215842</td>\n",
       "      <td>28.477228</td>\n",
       "      <td>135.457501</td>\n",
       "      <td>2.198020</td>\n",
       "      <td>2.809901</td>\n",
       "      <td>1.660461</td>\n",
       "      <td>1.477324</td>\n",
       "      <td>0.443564</td>\n",
       "    </tr>\n",
       "    <tr>\n",
       "      <td>3</td>\n",
       "      <td>0.485737</td>\n",
       "      <td>1.000000</td>\n",
       "      <td>0.350238</td>\n",
       "      <td>0.240095</td>\n",
       "      <td>1.000000</td>\n",
       "      <td>1.948494</td>\n",
       "      <td>0.341521</td>\n",
       "      <td>28.167987</td>\n",
       "      <td>131.622204</td>\n",
       "      <td>1.856577</td>\n",
       "      <td>2.440571</td>\n",
       "      <td>1.247634</td>\n",
       "      <td>1.012983</td>\n",
       "      <td>0.514263</td>\n",
       "    </tr>\n",
       "    <tr>\n",
       "      <td>4</td>\n",
       "      <td>0.560335</td>\n",
       "      <td>0.976105</td>\n",
       "      <td>0.356033</td>\n",
       "      <td>0.229391</td>\n",
       "      <td>0.998805</td>\n",
       "      <td>2.665472</td>\n",
       "      <td>0.473118</td>\n",
       "      <td>30.127838</td>\n",
       "      <td>161.724258</td>\n",
       "      <td>2.455197</td>\n",
       "      <td>4.896057</td>\n",
       "      <td>2.851531</td>\n",
       "      <td>2.849473</td>\n",
       "      <td>0.068100</td>\n",
       "    </tr>\n",
       "  </tbody>\n",
       "</table>\n",
       "</div>"
      ],
      "text/plain": [
       "           gender  near_location   partner  promo_friends     phone  \\\n",
       "cluster                                                               \n",
       "0        0.502473       0.959446  0.783383       0.574679  1.000000   \n",
       "1        0.522078       0.862338  0.470130       0.306494  0.000000   \n",
       "2        0.495050       0.000000  0.463366       0.079208  1.000000   \n",
       "3        0.485737       1.000000  0.350238       0.240095  1.000000   \n",
       "4        0.560335       0.976105  0.356033       0.229391  0.998805   \n",
       "\n",
       "         contract_period  group_visits        age  \\\n",
       "cluster                                             \n",
       "0              10.884273      0.543027  29.980218   \n",
       "1               4.787013      0.425974  29.301299   \n",
       "2               2.352475      0.215842  28.477228   \n",
       "3               1.948494      0.341521  28.167987   \n",
       "4               2.665472      0.473118  30.127838   \n",
       "\n",
       "         avg_additional_charges_total  month_to_end_contract  lifetime  \\\n",
       "cluster                                                                  \n",
       "0                          160.706969               9.950544  4.738872   \n",
       "1                          143.957664               4.475325  3.924675   \n",
       "2                          135.457501               2.198020  2.809901   \n",
       "3                          131.622204               1.856577  2.440571   \n",
       "4                          161.724258               2.455197  4.896057   \n",
       "\n",
       "         avg_class_frequency_total  avg_class_frequency_current_month  \\\n",
       "cluster                                                                 \n",
       "0                         1.983305                           1.976225   \n",
       "1                         1.847220                           1.716369   \n",
       "2                         1.660461                           1.477324   \n",
       "3                         1.247634                           1.012983   \n",
       "4                         2.851531                           2.849473   \n",
       "\n",
       "            churn  \n",
       "cluster            \n",
       "0        0.027695  \n",
       "1        0.267532  \n",
       "2        0.443564  \n",
       "3        0.514263  \n",
       "4        0.068100  "
      ]
     },
     "metadata": {},
     "output_type": "display_data"
    }
   ],
   "source": [
    "# Look at the mean feature values for clusters\n",
    "data['cluster'] = labels\n",
    "\n",
    "cluster_data = data.groupby('cluster').mean()\n",
    "display(cluster_data)"
   ]
  },
  {
   "cell_type": "markdown",
   "metadata": {},
   "source": [
    "After dividing the dataset into clusters, let us look at their mean values and see where is the significant difference between clusters.\n",
    " - Clusters 2-3 have the highest churn which means entrants from these clusters leave most of the time comparing to other clusters.\n",
    " - Cluster 4 participants have the highest activity on a weekly basis. They visit gym almost 3 times in a week. This is the highest number among other clusters.\n",
    " - Customers from  Clusters 0 and 4 are the most loyal with the longest lifetime, and money spent on additional services of the gym. Looks like we have to pay more attention especially to these clusters and learn what features they posess to improve retention of customers from other clusters.\n",
    " - Clusters 0 and 4 participants also live near gym, they have longer contract period and actively visit group sessions of the gym.\n",
    " - Partner employees are coming mainly from cluster 0"
   ]
  },
  {
   "cell_type": "markdown",
   "metadata": {},
   "source": [
    "#### Plot distributions of features for the clusters. Do you notice anything?"
   ]
  },
  {
   "cell_type": "code",
   "execution_count": 23,
   "metadata": {
    "scrolled": true
   },
   "outputs": [
    {
     "data": {
      "image/png": "[encoded data removed]",
      "text/plain": [
       "<Figure size 864x360 with 1 Axes>"
      ]
     },
     "metadata": {
      "needs_background": "light"
     },
     "output_type": "display_data"
    },
    {
     "data": {
      "image/png": "[encoded data removed]",
      "text/plain": [
       "<Figure size 864x360 with 1 Axes>"
      ]
     },
     "metadata": {},
     "output_type": "display_data"
    },
    {
     "data": {
      "image/png": "[encoded data removed]",
      "text/plain": [
       "<Figure size 864x360 with 1 Axes>"
      ]
     },
     "metadata": {},
     "output_type": "display_data"
    },
    {
     "data": {
      "image/png": "[encoded data removed]",
      "text/plain": [
       "<Figure size 864x360 with 1 Axes>"
      ]
     },
     "metadata": {},
     "output_type": "display_data"
    },
    {
     "data": {
      "image/png": "[encoded data removed]",
      "text/plain": [
       "<Figure size 864x360 with 1 Axes>"
      ]
     },
     "metadata": {},
     "output_type": "display_data"
    },
    {
     "data": {
      "image/png": "[encoded data removed]",
      "text/plain": [
       "<Figure size 864x360 with 1 Axes>"
      ]
     },
     "metadata": {},
     "output_type": "display_data"
    }
   ],
   "source": [
    "# plotting scatter plot for numerical values\n",
    "for col in ['age','avg_additional_charges_total','month_to_end_contract','lifetime','avg_class_frequency_total','avg_class_frequency_current_month']:\n",
    "    plt.figure(figsize=(12, 5))\n",
    "    sns.set_style('whitegrid')\n",
    "    plt.title(col, fontsize=15)\n",
    "    sns.boxplot(x='cluster' , y=data[col], data=data)\n",
    "\n"
   ]
  },
  {
   "cell_type": "markdown",
   "metadata": {},
   "source": [
    "We have visualized the numerical variables of the dataset, the distrubtion of features of clusters through boxplots. Mainly clusters 0 and 4 share the same trends."
   ]
  },
  {
   "cell_type": "code",
   "execution_count": 25,
   "metadata": {
    "scrolled": true
   },
   "outputs": [
    {
     "data": {
      "image/png": "[encoded data removed]",
      "text/plain": [
       "<Figure size 864x360 with 1 Axes>"
      ]
     },
     "metadata": {},
     "output_type": "display_data"
    },
    {
     "data": {
      "image/png": "[encoded data removed]",
      "text/plain": [
       "<Figure size 864x360 with 1 Axes>"
      ]
     },
     "metadata": {},
     "output_type": "display_data"
    },
    {
     "data": {
      "image/png": "[encoded data removed]",
      "text/plain": [
       "<Figure size 864x360 with 1 Axes>"
      ]
     },
     "metadata": {},
     "output_type": "display_data"
    },
    {
     "data": {
      "image/png": "[encoded data removed]",
      "text/plain": [
       "<Figure size 864x360 with 1 Axes>"
      ]
     },
     "metadata": {},
     "output_type": "display_data"
    },
    {
     "data": {
      "image/png": "[encoded data removed]",
      "text/plain": [
       "<Figure size 864x360 with 1 Axes>"
      ]
     },
     "metadata": {},
     "output_type": "display_data"
    },
    {
     "data": {
      "image/png": "[encoded data removed]",
      "text/plain": [
       "<Figure size 864x360 with 1 Axes>"
      ]
     },
     "metadata": {},
     "output_type": "display_data"
    },
    {
     "data": {
      "image/png": "[encoded data removed]",
      "text/plain": [
       "<Figure size 864x360 with 1 Axes>"
      ]
     },
     "metadata": {},
     "output_type": "display_data"
    },
    {
     "data": {
      "image/png": "[encoded data removed]",
      "text/plain": [
       "<Figure size 864x360 with 1 Axes>"
      ]
     },
     "metadata": {},
     "output_type": "display_data"
    }
   ],
   "source": [
    "# plotting bar plot for binary valued columns\n",
    "for col in ['gender','near_location','partner','promo_friends','phone','contract_period','group_visits','churn']:\n",
    "    plt.figure(figsize=(12, 5))\n",
    "    sns.set_style('whitegrid')\n",
    "    plt.title('Distribution of Features for the clusters', fontsize=15)\n",
    "    sns.barplot(y=col, x='cluster', data=data)"
   ]
  },
  {
   "cell_type": "markdown",
   "metadata": {},
   "source": [
    "We have also visualized the binary variables' distribution through bar plots. Clusters 0 and 4 have the least churns. Cluster 2 and 3 have the least visits to group sessions. Cluster 0 customers have the longest contract period. Cluster 1 clients do not provide their phone numbers at all."
   ]
  },
  {
   "cell_type": "markdown",
   "metadata": {},
   "source": [
    "#### Calculate the churn rate for each cluster"
   ]
  },
  {
   "cell_type": "code",
   "execution_count": 26,
   "metadata": {},
   "outputs": [
    {
     "data": {
      "text/html": [
       "<div>\n",
       "<style scoped>\n",
       "    .dataframe tbody tr th:only-of-type {\n",
       "        vertical-align: middle;\n",
       "    }\n",
       "\n",
       "    .dataframe tbody tr th {\n",
       "        vertical-align: top;\n",
       "    }\n",
       "\n",
       "    .dataframe thead th {\n",
       "        text-align: right;\n",
       "    }\n",
       "</style>\n",
       "<table border=\"1\" class=\"dataframe\">\n",
       "  <thead>\n",
       "    <tr style=\"text-align: right;\">\n",
       "      <th></th>\n",
       "      <th>gender</th>\n",
       "      <th>near_location</th>\n",
       "      <th>partner</th>\n",
       "      <th>promo_friends</th>\n",
       "      <th>phone</th>\n",
       "      <th>contract_period</th>\n",
       "      <th>group_visits</th>\n",
       "      <th>age</th>\n",
       "      <th>avg_additional_charges_total</th>\n",
       "      <th>month_to_end_contract</th>\n",
       "      <th>lifetime</th>\n",
       "      <th>avg_class_frequency_total</th>\n",
       "      <th>avg_class_frequency_current_month</th>\n",
       "      <th>churn</th>\n",
       "      <th>cluster</th>\n",
       "    </tr>\n",
       "  </thead>\n",
       "  <tbody>\n",
       "    <tr>\n",
       "      <td>425</td>\n",
       "      <td>0</td>\n",
       "      <td>1</td>\n",
       "      <td>0</td>\n",
       "      <td>0</td>\n",
       "      <td>0</td>\n",
       "      <td>1</td>\n",
       "      <td>0</td>\n",
       "      <td>28</td>\n",
       "      <td>143.695888</td>\n",
       "      <td>1.0</td>\n",
       "      <td>15</td>\n",
       "      <td>3.405117</td>\n",
       "      <td>3.364224</td>\n",
       "      <td>0</td>\n",
       "      <td>1</td>\n",
       "    </tr>\n",
       "  </tbody>\n",
       "</table>\n",
       "</div>"
      ],
      "text/plain": [
       "     gender  near_location  partner  promo_friends  phone  contract_period  \\\n",
       "425       0              1        0              0      0                1   \n",
       "\n",
       "     group_visits  age  avg_additional_charges_total  month_to_end_contract  \\\n",
       "425             0   28                    143.695888                    1.0   \n",
       "\n",
       "     lifetime  avg_class_frequency_total  avg_class_frequency_current_month  \\\n",
       "425        15                   3.405117                           3.364224   \n",
       "\n",
       "     churn  cluster  \n",
       "425      0        1  "
      ]
     },
     "execution_count": 26,
     "metadata": {},
     "output_type": "execute_result"
    }
   ],
   "source": [
    "data.sample()"
   ]
  },
  {
   "cell_type": "code",
   "execution_count": 27,
   "metadata": {},
   "outputs": [
    {
     "data": {
      "text/html": [
       "<div>\n",
       "<style scoped>\n",
       "    .dataframe tbody tr th:only-of-type {\n",
       "        vertical-align: middle;\n",
       "    }\n",
       "\n",
       "    .dataframe tbody tr th {\n",
       "        vertical-align: top;\n",
       "    }\n",
       "\n",
       "    .dataframe thead th {\n",
       "        text-align: right;\n",
       "    }\n",
       "</style>\n",
       "<table border=\"1\" class=\"dataframe\">\n",
       "  <thead>\n",
       "    <tr style=\"text-align: right;\">\n",
       "      <th></th>\n",
       "      <th>cluster</th>\n",
       "      <th>total customers</th>\n",
       "      <th>churn sum</th>\n",
       "      <th>churn rate (%)</th>\n",
       "    </tr>\n",
       "  </thead>\n",
       "  <tbody>\n",
       "    <tr>\n",
       "      <td>0</td>\n",
       "      <td>0</td>\n",
       "      <td>1011</td>\n",
       "      <td>28</td>\n",
       "      <td>2.769535</td>\n",
       "    </tr>\n",
       "    <tr>\n",
       "      <td>1</td>\n",
       "      <td>1</td>\n",
       "      <td>385</td>\n",
       "      <td>103</td>\n",
       "      <td>26.753247</td>\n",
       "    </tr>\n",
       "    <tr>\n",
       "      <td>2</td>\n",
       "      <td>2</td>\n",
       "      <td>505</td>\n",
       "      <td>224</td>\n",
       "      <td>44.356436</td>\n",
       "    </tr>\n",
       "    <tr>\n",
       "      <td>3</td>\n",
       "      <td>3</td>\n",
       "      <td>1262</td>\n",
       "      <td>649</td>\n",
       "      <td>51.426307</td>\n",
       "    </tr>\n",
       "    <tr>\n",
       "      <td>4</td>\n",
       "      <td>4</td>\n",
       "      <td>837</td>\n",
       "      <td>57</td>\n",
       "      <td>6.810036</td>\n",
       "    </tr>\n",
       "  </tbody>\n",
       "</table>\n",
       "</div>"
      ],
      "text/plain": [
       "   cluster  total customers  churn sum  churn rate (%)\n",
       "0        0             1011         28        2.769535\n",
       "1        1              385        103       26.753247\n",
       "2        2              505        224       44.356436\n",
       "3        3             1262        649       51.426307\n",
       "4        4              837         57        6.810036"
      ]
     },
     "metadata": {},
     "output_type": "display_data"
    }
   ],
   "source": [
    "# create pivot table where it is separated by cluster and calculated based on churn\n",
    "churn_pivot = data.pivot_table(index='cluster', values='churn', \n",
    "                               aggfunc=['count', 'sum', lambda x: ((x.sum() / x.count())*100)]).reset_index()\n",
    "churn_pivot.columns = ['cluster', 'total customers', 'churn sum', 'churn rate (%)']\n",
    "display(churn_pivot)"
   ]
  },
  {
   "cell_type": "markdown",
   "metadata": {},
   "source": [
    "According to the table above, customers from clusters 3 and 2 are most likely to leave with churn rates of 51.4% and 44.3 % respectively."
   ]
  },
  {
   "cell_type": "markdown",
   "metadata": {},
   "source": [
    "#### Conclusion"
   ]
  },
  {
   "cell_type": "markdown",
   "metadata": {},
   "source": [
    "In this part our analysis, where we have created clusters, calculated their features' mean value, plotted graphs and found out the churn rates. We can sum up the most important feature that plays a role whether the customer will stay with the gym or most likely leave:\n",
    " 1. `near_location` feature plays vital role whether the customer stays or leaves, of course it is logical. If the gym is close to their home/office, customer most probably visits the gym.\n",
    " 2. `partner` feature is also one of the most important features to improve customer retention. Employees from a partner companies also tend to be more closer and loyal to the gym than third party visitors.\n",
    " 3. `promo_friends` feature also makes customer retention better. Clients come  and train together, even have the same schedule can also attract other customers by inviting their friends. Socializing is one of the key factors nowadays.\n",
    " 4. `group_visits` stats also showed that the higher the participation in group sessions the lower the churn rate. Our clients who take part in group sessions most probably are more effective and accurate towards their goals. \n",
    " 5. `age` is always one of the most important factors to find the suitable target group. The average range of clients who are loyal to the gym is 27-32"
   ]
  },
  {
   "cell_type": "markdown",
   "metadata": {},
   "source": [
    "<a id='5'></a>"
   ]
  },
  {
   "cell_type": "markdown",
   "metadata": {},
   "source": [
    "### Step 5. Come up with conclusions and basic recommendations on working with customers"
   ]
  },
  {
   "cell_type": "markdown",
   "metadata": {},
   "source": [
    "1. Data was imported and general information about the data was studied. There are 14 columns and 4000 rows in our dataset with the following description:\n",
    "\n",
    " - `gender` - client's gender \n",
    " - `near_location` - whether the user lives or works in the neighborhood where the gym is located\n",
    " - `partner` - whether the user is an employee of a partner company \n",
    " - `promo_friends` - whether the user originally signed up through a \"bring a friend\" offer\n",
    " - `phone` - whether the user provided their phone number\n",
    " - `contract_period`- 1 month, 3 months, 6 months, or 1 year\n",
    " - `group_visits` - whether the user takes part in group sessions\n",
    " - `age` - user's age \n",
    " - `avg_additional_charges_total` -  the total amount of money spent on other gym services: cafe, athletic goods, cosmetics\n",
    " - `month_to_end_contract` - the months remaining until the contract expires\n",
    " - `lifetime` - the time (in months) since the customer first came to the gym\n",
    " - `avg_class_frequency_total` - average frequency of visits per week over the customer's lifetime\n",
    " - `avg_class_frequency_current_month` - average frequency of visits per week over the preceding month\n",
    " - `churn`- the fact of churn for the month in question\n",
    " \n",
    "\n",
    "2. After conducting Exploratory data analysis, building two models for churn's prediction, creating clusters and visualizing them, we have identified the most important features that affect user's churn rate and came up with the following conclusions:\n",
    " - `near_location` feature plays vital role whether the customer stays or leaves, of course it is logical. If the gym is close to their home/office, customer most probably visits the gym.\n",
    " - `partner` feature is also one of the most important features to improve customer retention. Employees from a partner companies also tend to be more closer and loyal to the gym than third party visitors.\n",
    " - `promo_friends` feature also makes customer retention better. Clients come  and train together, even have the same schedule can also attract other customers by inviting their friends. Socializing is one of the key factors nowadays.\n",
    " - `group_visits` stats also showed that the higher the participation in group sessions the lower the churn rate. Our clients who take part in group sessions most probably are more effective and accurate towards their goals. \n",
    " - `age` is always one of the most important factors to find the suitable target group. The average range of clients who are loyal to the gym is 27-32.\n",
    " - `avg_class_frequency_total` clients with the average frequency of visits of 2 times per week show loyalty to gym. The more often user comes to the gym, the higher is their loyalty.\n",
    "\n",
    "3. Recommendations for betterment customer retention and lower churn rates are the following:\n",
    " - For acquiring new customers, we should focus on customers that live near to gym location, who are employees at a partner company and between the ages of 27 and 32 years. The data shows that customers who fall under one or (ideally) all of these categories are less likely to churn.\n",
    " - For already existing customers, encourage them to spend more money on other gym services  and services and increase their amount of weekly visits by providing discounts on products. These are all factors that make a customer less likely to churn.Example could be providing special training courses or showing live events in bars make visitors to stay longer or come more often. Additionally, we focus on customers who have 1-2 months before their current contract ends. This is when customers are more likely to decide whether to continue their subscription or not. \n",
    " - Not to forget about our main target. The most loyal customers are those who are between the ages of 27 and 34, who spend the most on other gym services, who live near the location, who are employees at partner companies, who spend money on additional gym services and who visit the gym about 2 times on a weekly basis. "
   ]
  },
  {
   "cell_type": "markdown",
   "metadata": {},
   "source": []
  }
 ],
 "metadata": {
  "ExecuteTimeLog": [
   {
    "duration": 545,
    "start_time": "2021-06-19T12:27:01.900Z"
   },
   {
    "duration": 24,
    "start_time": "2021-06-19T14:56:26.360Z"
   },
   {
    "duration": 233,
    "start_time": "2021-06-19T14:56:33.057Z"
   },
   {
    "duration": 8,
    "start_time": "2021-06-19T14:56:37.188Z"
   },
   {
    "duration": 9,
    "start_time": "2021-06-19T14:56:43.452Z"
   },
   {
    "duration": 53,
    "start_time": "2021-06-19T14:57:01.516Z"
   },
   {
    "duration": 508,
    "start_time": "2021-06-19T18:34:14.890Z"
   },
   {
    "duration": 7,
    "start_time": "2021-06-19T19:25:15.189Z"
   },
   {
    "duration": 45,
    "start_time": "2021-06-19T19:25:28.663Z"
   },
   {
    "duration": 15,
    "start_time": "2021-06-19T19:29:11.796Z"
   },
   {
    "duration": 6,
    "start_time": "2021-06-19T19:30:14.820Z"
   },
   {
    "duration": 15,
    "start_time": "2021-06-19T19:30:20.291Z"
   },
   {
    "duration": 199,
    "start_time": "2021-06-19T19:30:49.180Z"
   },
   {
    "duration": 4,
    "start_time": "2021-06-19T19:30:56.969Z"
   },
   {
    "duration": 19,
    "start_time": "2021-06-19T19:31:01.736Z"
   },
   {
    "duration": 6,
    "start_time": "2021-06-19T19:32:35.068Z"
   },
   {
    "duration": 7,
    "start_time": "2021-06-19T19:32:46.484Z"
   },
   {
    "duration": 16,
    "start_time": "2021-06-19T19:32:50.880Z"
   },
   {
    "duration": 12,
    "start_time": "2021-06-19T19:33:22.007Z"
   },
   {
    "duration": 12,
    "start_time": "2021-06-19T19:34:19.894Z"
   },
   {
    "duration": 10,
    "start_time": "2021-06-19T19:34:29.660Z"
   },
   {
    "duration": 10,
    "start_time": "2021-06-19T20:26:16.282Z"
   },
   {
    "duration": 18,
    "start_time": "2021-06-19T20:26:21.546Z"
   },
   {
    "duration": 11,
    "start_time": "2021-06-19T20:26:28.104Z"
   },
   {
    "duration": 9,
    "start_time": "2021-06-19T20:39:52.982Z"
   },
   {
    "duration": 11,
    "start_time": "2021-06-19T20:39:54.479Z"
   },
   {
    "duration": 10,
    "start_time": "2021-06-19T20:39:54.855Z"
   },
   {
    "duration": 181,
    "start_time": "2021-06-19T20:45:03.784Z"
   },
   {
    "duration": 31,
    "start_time": "2021-06-19T20:45:10.643Z"
   },
   {
    "duration": 188,
    "start_time": "2021-06-19T20:45:16.012Z"
   },
   {
    "duration": 60,
    "start_time": "2021-06-19T20:51:47.877Z"
   },
   {
    "duration": 183,
    "start_time": "2021-06-19T20:51:53.473Z"
   },
   {
    "duration": 152,
    "start_time": "2021-06-19T20:51:57.235Z"
   },
   {
    "duration": 196,
    "start_time": "2021-06-19T20:59:08.507Z"
   },
   {
    "duration": 171,
    "start_time": "2021-06-19T20:59:33.840Z"
   },
   {
    "duration": 169,
    "start_time": "2021-06-19T21:00:23.138Z"
   },
   {
    "duration": 42027,
    "start_time": "2021-06-19T21:02:01.186Z"
   },
   {
    "duration": 85,
    "start_time": "2021-06-19T21:03:25.483Z"
   },
   {
    "duration": 24,
    "start_time": "2021-06-19T21:03:29.970Z"
   },
   {
    "duration": 4,
    "start_time": "2021-06-19T21:03:30.256Z"
   },
   {
    "duration": 7,
    "start_time": "2021-06-19T21:03:30.722Z"
   },
   {
    "duration": 12,
    "start_time": "2021-06-19T21:03:31.777Z"
   },
   {
    "duration": 11,
    "start_time": "2021-06-19T21:03:33.163Z"
   },
   {
    "duration": 44,
    "start_time": "2021-06-19T21:03:33.621Z"
   },
   {
    "duration": 5,
    "start_time": "2021-06-19T21:03:34.166Z"
   },
   {
    "duration": 17,
    "start_time": "2021-06-19T21:03:34.985Z"
   },
   {
    "duration": 7,
    "start_time": "2021-06-19T21:03:35.257Z"
   },
   {
    "duration": 10,
    "start_time": "2021-06-19T21:03:35.471Z"
   },
   {
    "duration": 10,
    "start_time": "2021-06-19T21:03:35.727Z"
   },
   {
    "duration": 178,
    "start_time": "2021-06-19T21:03:36.529Z"
   },
   {
    "duration": 174,
    "start_time": "2021-06-19T21:04:09.002Z"
   },
   {
    "duration": 8,
    "start_time": "2021-06-19T21:04:19.415Z"
   },
   {
    "duration": 23,
    "start_time": "2021-06-19T21:04:33.984Z"
   },
   {
    "duration": 3,
    "start_time": "2021-06-19T21:04:34.900Z"
   },
   {
    "duration": 7,
    "start_time": "2021-06-19T21:04:36.821Z"
   },
   {
    "duration": 7,
    "start_time": "2021-06-19T21:04:41.433Z"
   },
   {
    "duration": 12,
    "start_time": "2021-06-19T21:04:45.455Z"
   },
   {
    "duration": 12,
    "start_time": "2021-06-19T21:04:49.886Z"
   },
   {
    "duration": 44,
    "start_time": "2021-06-19T21:05:04.010Z"
   },
   {
    "duration": 6,
    "start_time": "2021-06-19T21:05:09.776Z"
   },
   {
    "duration": 8,
    "start_time": "2021-06-19T21:05:14.088Z"
   },
   {
    "duration": 16,
    "start_time": "2021-06-19T21:05:18.239Z"
   },
   {
    "duration": 7,
    "start_time": "2021-06-19T21:05:25.768Z"
   },
   {
    "duration": 10,
    "start_time": "2021-06-19T21:05:27.492Z"
   },
   {
    "duration": 11,
    "start_time": "2021-06-19T21:05:27.783Z"
   },
   {
    "duration": 193,
    "start_time": "2021-06-19T21:07:03.023Z"
   },
   {
    "duration": 12,
    "start_time": "2021-06-19T21:09:22.298Z"
   },
   {
    "duration": 3,
    "start_time": "2021-06-19T23:49:40.667Z"
   },
   {
    "duration": 1370,
    "start_time": "2021-06-19T23:49:41.866Z"
   },
   {
    "duration": 24,
    "start_time": "2021-06-19T23:49:53.631Z"
   },
   {
    "duration": 5,
    "start_time": "2021-06-19T23:49:57.192Z"
   },
   {
    "duration": 12,
    "start_time": "2021-06-19T23:49:58.214Z"
   },
   {
    "duration": 10,
    "start_time": "2021-06-19T23:51:17.552Z"
   },
   {
    "duration": 4,
    "start_time": "2021-06-19T23:51:18.565Z"
   },
   {
    "duration": 14,
    "start_time": "2021-06-19T23:51:35.851Z"
   },
   {
    "duration": 12,
    "start_time": "2021-06-19T23:51:38.218Z"
   },
   {
    "duration": 2803,
    "start_time": "2021-06-20T19:55:50.345Z"
   },
   {
    "duration": 30,
    "start_time": "2021-06-20T19:55:54.226Z"
   },
   {
    "duration": 16,
    "start_time": "2021-06-20T19:55:58.001Z"
   },
   {
    "duration": 11,
    "start_time": "2021-06-20T19:55:58.827Z"
   },
   {
    "duration": 19,
    "start_time": "2021-06-20T19:56:00.733Z"
   },
   {
    "duration": 19,
    "start_time": "2021-06-20T19:56:01.026Z"
   },
   {
    "duration": 69,
    "start_time": "2021-06-20T19:56:06.451Z"
   },
   {
    "duration": 8,
    "start_time": "2021-06-20T19:56:06.732Z"
   },
   {
    "duration": 11,
    "start_time": "2021-06-20T19:56:07.376Z"
   },
   {
    "duration": 4,
    "start_time": "2021-06-20T19:57:33.731Z"
   },
   {
    "duration": 609,
    "start_time": "2021-06-20T19:57:41.871Z"
   },
   {
    "duration": 272,
    "start_time": "2021-06-20T19:57:49.344Z"
   },
   {
    "duration": 6,
    "start_time": "2021-06-20T19:57:55.691Z"
   },
   {
    "duration": 274,
    "start_time": "2021-06-20T19:58:15.860Z"
   },
   {
    "duration": 282,
    "start_time": "2021-06-20T19:58:21.989Z"
   },
   {
    "duration": 279,
    "start_time": "2021-06-20T19:58:35.464Z"
   },
   {
    "duration": 5,
    "start_time": "2021-06-20T23:57:41.811Z"
   },
   {
    "duration": 2644,
    "start_time": "2021-06-20T23:57:42.116Z"
   },
   {
    "duration": 30,
    "start_time": "2021-06-20T23:57:44.764Z"
   },
   {
    "duration": 15,
    "start_time": "2021-06-20T23:57:44.798Z"
   },
   {
    "duration": 11,
    "start_time": "2021-06-20T23:57:46.636Z"
   },
   {
    "duration": 29,
    "start_time": "2021-06-20T23:57:48.056Z"
   },
   {
    "duration": 25,
    "start_time": "2021-06-20T23:57:48.734Z"
   },
   {
    "duration": 104,
    "start_time": "2021-06-20T23:57:50.073Z"
   },
   {
    "duration": 10,
    "start_time": "2021-06-20T23:57:51.027Z"
   },
   {
    "duration": 16,
    "start_time": "2021-06-20T23:57:51.614Z"
   },
   {
    "duration": 24,
    "start_time": "2021-06-20T23:57:52.768Z"
   },
   {
    "duration": 14,
    "start_time": "2021-06-20T23:57:53.635Z"
   },
   {
    "duration": 17,
    "start_time": "2021-06-20T23:57:54.851Z"
   },
   {
    "duration": 16,
    "start_time": "2021-06-20T23:57:55.092Z"
   },
   {
    "duration": 116,
    "start_time": "2021-06-20T23:58:29.577Z"
   },
   {
    "duration": 7,
    "start_time": "2021-06-20T23:58:39.740Z"
   },
   {
    "duration": 5,
    "start_time": "2021-06-20T23:58:45.841Z"
   },
   {
    "duration": 18,
    "start_time": "2021-06-20T23:58:47.129Z"
   },
   {
    "duration": 511,
    "start_time": "2021-06-20T23:58:52.876Z"
   },
   {
    "duration": 4,
    "start_time": "2021-06-20T23:59:02.354Z"
   },
   {
    "duration": 300,
    "start_time": "2021-06-20T23:59:03.257Z"
   },
   {
    "duration": 315,
    "start_time": "2021-06-20T23:59:06.928Z"
   },
   {
    "duration": 2033,
    "start_time": "2021-06-20T23:59:29.653Z"
   },
   {
    "duration": 25,
    "start_time": "2021-06-20T23:59:31.689Z"
   },
   {
    "duration": 11,
    "start_time": "2021-06-20T23:59:31.717Z"
   },
   {
    "duration": 6,
    "start_time": "2021-06-20T23:59:31.730Z"
   },
   {
    "duration": 525,
    "start_time": "2021-06-20T23:59:37.173Z"
   },
   {
    "duration": 368,
    "start_time": "2021-06-20T23:59:37.920Z"
   },
   {
    "duration": 4,
    "start_time": "2021-06-20T23:59:44.579Z"
   },
   {
    "duration": 2094,
    "start_time": "2021-06-20T23:59:44.826Z"
   },
   {
    "duration": 24,
    "start_time": "2021-06-20T23:59:46.922Z"
   },
   {
    "duration": 10,
    "start_time": "2021-06-20T23:59:46.949Z"
   },
   {
    "duration": 1439,
    "start_time": "2021-06-20T23:59:46.962Z"
   },
   {
    "duration": 4,
    "start_time": "2021-06-21T00:00:41.704Z"
   },
   {
    "duration": 1987,
    "start_time": "2021-06-21T00:00:41.990Z"
   },
   {
    "duration": 27,
    "start_time": "2021-06-21T00:00:43.980Z"
   },
   {
    "duration": 13,
    "start_time": "2021-06-21T00:00:44.010Z"
   },
   {
    "duration": 1601,
    "start_time": "2021-06-21T00:00:47.579Z"
   },
   {
    "duration": 4,
    "start_time": "2021-06-21T00:01:08.573Z"
   },
   {
    "duration": 7,
    "start_time": "2021-06-21T00:01:10.617Z"
   },
   {
    "duration": 21,
    "start_time": "2021-06-21T00:01:11.908Z"
   },
   {
    "duration": 5,
    "start_time": "2021-06-21T00:01:30.849Z"
   },
   {
    "duration": 6,
    "start_time": "2021-06-21T00:01:31.906Z"
   },
   {
    "duration": 18,
    "start_time": "2021-06-21T00:01:32.686Z"
   },
   {
    "duration": 18,
    "start_time": "2021-06-21T00:01:33.043Z"
   },
   {
    "duration": 73,
    "start_time": "2021-06-21T00:01:33.935Z"
   },
   {
    "duration": 8,
    "start_time": "2021-06-21T00:01:34.165Z"
   },
   {
    "duration": 13,
    "start_time": "2021-06-21T00:01:34.345Z"
   },
   {
    "duration": 325,
    "start_time": "2021-06-21T00:01:34.529Z"
   },
   {
    "duration": 372,
    "start_time": "2021-06-21T00:01:34.880Z"
   },
   {
    "duration": 190,
    "start_time": "2021-06-21T00:01:35.065Z"
   },
   {
    "duration": 27,
    "start_time": "2021-06-21T00:01:45.945Z"
   },
   {
    "duration": 11,
    "start_time": "2021-06-21T00:01:50.677Z"
   },
   {
    "duration": 16,
    "start_time": "2021-06-21T00:01:51.917Z"
   },
   {
    "duration": 17,
    "start_time": "2021-06-21T00:01:52.176Z"
   },
   {
    "duration": 3,
    "start_time": "2021-06-21T00:03:50.409Z"
   },
   {
    "duration": 2232,
    "start_time": "2021-06-21T00:06:34.032Z"
   },
   {
    "duration": 10,
    "start_time": "2021-06-21T00:11:28.749Z"
   },
   {
    "duration": 16,
    "start_time": "2021-06-21T00:11:32.809Z"
   },
   {
    "duration": 344,
    "start_time": "2021-06-21T00:11:40.233Z"
   },
   {
    "duration": 11,
    "start_time": "2021-06-21T00:11:45.946Z"
   },
   {
    "duration": 17,
    "start_time": "2021-06-21T00:11:46.543Z"
   },
   {
    "duration": 24,
    "start_time": "2021-06-21T00:11:47.128Z"
   },
   {
    "duration": 7,
    "start_time": "2021-06-21T00:14:26.862Z"
   },
   {
    "duration": 329,
    "start_time": "2021-06-21T00:15:19.753Z"
   },
   {
    "duration": 4,
    "start_time": "2021-06-21T00:17:14.673Z"
   },
   {
    "duration": 5,
    "start_time": "2021-06-21T00:17:17.381Z"
   },
   {
    "duration": 130,
    "start_time": "2021-06-21T00:20:49.048Z"
   },
   {
    "duration": 333,
    "start_time": "2021-06-21T00:21:25.876Z"
   },
   {
    "duration": 411,
    "start_time": "2021-06-21T00:21:52.212Z"
   },
   {
    "duration": 355,
    "start_time": "2021-06-21T00:22:35.749Z"
   },
   {
    "duration": 389,
    "start_time": "2021-06-21T00:24:18.058Z"
   },
   {
    "duration": 355,
    "start_time": "2021-06-21T00:24:32.491Z"
   },
   {
    "duration": 4,
    "start_time": "2021-06-21T00:24:44.108Z"
   },
   {
    "duration": 2070,
    "start_time": "2021-06-21T00:24:44.324Z"
   },
   {
    "duration": 24,
    "start_time": "2021-06-21T00:24:46.397Z"
   },
   {
    "duration": 11,
    "start_time": "2021-06-21T00:24:46.424Z"
   },
   {
    "duration": 6,
    "start_time": "2021-06-21T00:24:46.438Z"
   },
   {
    "duration": 19,
    "start_time": "2021-06-21T00:24:46.446Z"
   },
   {
    "duration": 19,
    "start_time": "2021-06-21T00:24:50.318Z"
   },
   {
    "duration": 19,
    "start_time": "2021-06-21T00:24:51.549Z"
   },
   {
    "duration": 72,
    "start_time": "2021-06-21T00:24:52.550Z"
   },
   {
    "duration": 8,
    "start_time": "2021-06-21T00:24:52.767Z"
   },
   {
    "duration": 14,
    "start_time": "2021-06-21T00:24:52.956Z"
   },
   {
    "duration": 25,
    "start_time": "2021-06-21T00:24:53.120Z"
   },
   {
    "duration": 15,
    "start_time": "2021-06-21T00:24:53.475Z"
   },
   {
    "duration": 17,
    "start_time": "2021-06-21T00:24:53.907Z"
   },
   {
    "duration": 16,
    "start_time": "2021-06-21T00:24:56.601Z"
   },
   {
    "duration": 599,
    "start_time": "2021-06-21T00:25:02.117Z"
   },
   {
    "duration": 598,
    "start_time": "2021-06-21T00:25:48.505Z"
   },
   {
    "duration": 585,
    "start_time": "2021-06-21T00:25:54.580Z"
   },
   {
    "duration": 632,
    "start_time": "2021-06-21T00:26:18.977Z"
   },
   {
    "duration": 1831,
    "start_time": "2021-06-21T00:28:19.562Z"
   },
   {
    "duration": 167,
    "start_time": "2021-06-21T00:31:25.531Z"
   },
   {
    "duration": 297,
    "start_time": "2021-06-21T00:33:41.416Z"
   },
   {
    "duration": 140455,
    "start_time": "2021-06-21T00:36:41.356Z"
   },
   {
    "duration": 25,
    "start_time": "2021-06-21T00:46:37.550Z"
   },
   {
    "duration": 71,
    "start_time": "2021-06-21T00:47:57.006Z"
   },
   {
    "duration": 16680,
    "start_time": "2021-06-21T00:58:32.602Z"
   },
   {
    "duration": 2719,
    "start_time": "2021-06-21T00:58:53.836Z"
   },
   {
    "duration": 9798,
    "start_time": "2021-06-21T00:59:31.874Z"
   },
   {
    "duration": 2055,
    "start_time": "2021-06-21T01:05:47.907Z"
   },
   {
    "duration": 798,
    "start_time": "2021-06-21T01:11:44.847Z"
   },
   {
    "duration": 5419,
    "start_time": "2021-06-21T01:12:15.759Z"
   },
   {
    "duration": 8657,
    "start_time": "2021-06-21T01:12:31.399Z"
   },
   {
    "duration": 769,
    "start_time": "2021-06-21T01:13:03.013Z"
   },
   {
    "duration": 716,
    "start_time": "2021-06-21T01:13:15.354Z"
   },
   {
    "duration": 856,
    "start_time": "2021-06-21T01:13:40.664Z"
   },
   {
    "duration": 8754,
    "start_time": "2021-06-21T01:13:54.480Z"
   },
   {
    "duration": 9076,
    "start_time": "2021-06-21T01:14:26.350Z"
   },
   {
    "duration": 47,
    "start_time": "2021-06-21T01:17:30.471Z"
   },
   {
    "duration": 358,
    "start_time": "2021-06-21T01:17:36.135Z"
   },
   {
    "duration": 50,
    "start_time": "2021-06-21T01:17:45.445Z"
   },
   {
    "duration": 47,
    "start_time": "2021-06-21T01:17:50.545Z"
   },
   {
    "duration": 4,
    "start_time": "2021-06-21T01:29:55.590Z"
   },
   {
    "duration": 2198,
    "start_time": "2021-06-21T01:29:56.770Z"
   },
   {
    "duration": 7,
    "start_time": "2021-06-21T01:30:24.334Z"
   },
   {
    "duration": 27,
    "start_time": "2021-06-21T01:30:36.063Z"
   },
   {
    "duration": 12,
    "start_time": "2021-06-21T01:30:37.347Z"
   },
   {
    "duration": 4,
    "start_time": "2021-06-21T01:31:17.571Z"
   },
   {
    "duration": 8,
    "start_time": "2021-06-21T01:31:20.969Z"
   },
   {
    "duration": 21,
    "start_time": "2021-06-21T01:31:28.181Z"
   },
   {
    "duration": 18,
    "start_time": "2021-06-21T01:31:28.489Z"
   },
   {
    "duration": 70,
    "start_time": "2021-06-21T01:37:18.271Z"
   },
   {
    "duration": 8,
    "start_time": "2021-06-21T01:37:21.465Z"
   },
   {
    "duration": 14,
    "start_time": "2021-06-21T01:37:23.841Z"
   },
   {
    "duration": 24,
    "start_time": "2021-06-21T01:37:25.412Z"
   },
   {
    "duration": 25,
    "start_time": "2021-06-21T01:37:26.387Z"
   },
   {
    "duration": 17,
    "start_time": "2021-06-21T01:37:28.372Z"
   },
   {
    "duration": 9,
    "start_time": "2021-06-21T01:38:12.763Z"
   },
   {
    "duration": 9,
    "start_time": "2021-06-21T01:42:44.646Z"
   },
   {
    "duration": 8,
    "start_time": "2021-06-21T01:51:25.567Z"
   },
   {
    "duration": 12,
    "start_time": "2021-06-21T01:51:26.835Z"
   },
   {
    "duration": 11,
    "start_time": "2021-06-21T02:01:28.127Z"
   },
   {
    "duration": 17,
    "start_time": "2021-06-21T02:01:31.778Z"
   },
   {
    "duration": 16,
    "start_time": "2021-06-21T02:01:32.666Z"
   },
   {
    "duration": 5973,
    "start_time": "2021-06-21T02:02:01.771Z"
   },
   {
    "duration": 6118,
    "start_time": "2021-06-21T02:03:21.323Z"
   },
   {
    "duration": 1904,
    "start_time": "2021-06-21T02:05:49.494Z"
   },
   {
    "duration": 17,
    "start_time": "2021-06-21T02:08:38.143Z"
   },
   {
    "duration": 17,
    "start_time": "2021-06-21T02:18:46.234Z"
   },
   {
    "duration": 281,
    "start_time": "2021-06-21T02:22:11.034Z"
   },
   {
    "duration": 139725,
    "start_time": "2021-06-21T02:34:20.026Z"
   },
   {
    "duration": 139490,
    "start_time": "2021-06-21T02:45:03.895Z"
   },
   {
    "duration": 9077,
    "start_time": "2021-06-21T02:47:23.388Z"
   },
   {
    "duration": 28,
    "start_time": "2021-06-21T02:49:23.510Z"
   },
   {
    "duration": 144509,
    "start_time": "2021-06-21T02:49:30.027Z"
   },
   {
    "duration": 7,
    "start_time": "2021-06-21T02:56:00.129Z"
   },
   {
    "duration": 1504,
    "start_time": "2021-06-21T02:59:29.393Z"
   },
   {
    "duration": 1437,
    "start_time": "2021-06-21T03:00:13.147Z"
   },
   {
    "duration": 1450,
    "start_time": "2021-06-21T03:00:37.650Z"
   },
   {
    "duration": 15065,
    "start_time": "2021-06-21T03:05:19.359Z"
   },
   {
    "duration": 6,
    "start_time": "2021-06-21T03:06:01.860Z"
   },
   {
    "duration": 993,
    "start_time": "2021-06-21T03:06:02.758Z"
   },
   {
    "duration": 5,
    "start_time": "2021-06-21T03:06:23.510Z"
   },
   {
    "duration": 1007,
    "start_time": "2021-06-21T03:06:24.461Z"
   },
   {
    "duration": 975,
    "start_time": "2021-06-21T03:07:02.461Z"
   },
   {
    "duration": 5357,
    "start_time": "2021-06-21T03:07:28.850Z"
   },
   {
    "duration": 6340,
    "start_time": "2021-06-21T03:09:14.670Z"
   },
   {
    "duration": 49,
    "start_time": "2021-06-21T03:10:18.570Z"
   },
   {
    "duration": 353,
    "start_time": "2021-06-21T03:12:23.522Z"
   },
   {
    "duration": 346,
    "start_time": "2021-06-21T03:12:34.244Z"
   },
   {
    "duration": 303,
    "start_time": "2021-06-21T03:12:52.275Z"
   },
   {
    "duration": 5,
    "start_time": "2021-06-21T03:13:55.681Z"
   },
   {
    "duration": 1073,
    "start_time": "2021-06-21T03:13:57.135Z"
   },
   {
    "duration": 1403,
    "start_time": "2021-06-21T03:15:37.658Z"
   },
   {
    "duration": 4862,
    "start_time": "2021-06-21T03:17:06.102Z"
   },
   {
    "duration": 339,
    "start_time": "2021-06-21T03:18:57.147Z"
   },
   {
    "duration": 327,
    "start_time": "2021-06-21T03:19:03.661Z"
   },
   {
    "duration": 409,
    "start_time": "2021-06-21T03:23:57.598Z"
   },
   {
    "duration": 149704,
    "start_time": "2021-06-21T03:26:56.058Z"
   },
   {
    "duration": 1076,
    "start_time": "2021-06-21T03:43:53.837Z"
   },
   {
    "duration": 7194,
    "start_time": "2021-06-21T03:47:44.705Z"
   },
   {
    "duration": 6959,
    "start_time": "2021-06-21T03:48:23.658Z"
   },
   {
    "duration": 5223,
    "start_time": "2021-06-21T03:51:06.721Z"
   },
   {
    "duration": 19,
    "start_time": "2021-06-21T03:53:06.250Z"
   },
   {
    "duration": 47,
    "start_time": "2021-06-21T03:53:06.687Z"
   },
   {
    "duration": 17,
    "start_time": "2021-06-21T03:58:56.822Z"
   },
   {
    "duration": 48,
    "start_time": "2021-06-21T03:58:58.143Z"
   },
   {
    "duration": 18,
    "start_time": "2021-06-21T04:23:45.691Z"
   },
   {
    "duration": 5,
    "start_time": "2021-06-21T04:48:38.637Z"
   },
   {
    "duration": 2226,
    "start_time": "2021-06-21T04:48:39.764Z"
   },
   {
    "duration": 25,
    "start_time": "2021-06-21T04:48:50.225Z"
   },
   {
    "duration": 11,
    "start_time": "2021-06-21T04:48:50.682Z"
   },
   {
    "duration": 5,
    "start_time": "2021-06-21T04:48:51.991Z"
   },
   {
    "duration": 8,
    "start_time": "2021-06-21T04:48:52.294Z"
   },
   {
    "duration": 20,
    "start_time": "2021-06-21T04:48:53.507Z"
   },
   {
    "duration": 17,
    "start_time": "2021-06-21T04:48:53.735Z"
   },
   {
    "duration": 72,
    "start_time": "2021-06-21T04:48:56.962Z"
   },
   {
    "duration": 9,
    "start_time": "2021-06-21T04:48:57.944Z"
   },
   {
    "duration": 9,
    "start_time": "2021-06-21T04:48:58.368Z"
   },
   {
    "duration": 9,
    "start_time": "2021-06-21T04:48:59.703Z"
   },
   {
    "duration": 13,
    "start_time": "2021-06-21T04:49:01.012Z"
   },
   {
    "duration": 23,
    "start_time": "2021-06-21T04:49:01.696Z"
   },
   {
    "duration": 14,
    "start_time": "2021-06-21T04:49:03.059Z"
   },
   {
    "duration": 17,
    "start_time": "2021-06-21T04:49:03.377Z"
   },
   {
    "duration": 17,
    "start_time": "2021-06-21T04:49:03.615Z"
   },
   {
    "duration": 6509,
    "start_time": "2021-06-21T04:49:04.978Z"
   },
   {
    "duration": 2037,
    "start_time": "2021-06-21T04:49:11.490Z"
   },
   {
    "duration": 285,
    "start_time": "2021-06-21T04:49:13.531Z"
   },
   {
    "duration": 146867,
    "start_time": "2021-06-21T04:49:19.275Z"
   },
   {
    "duration": 27,
    "start_time": "2021-06-21T04:51:50.384Z"
   },
   {
    "duration": 5,
    "start_time": "2021-06-21T04:51:52.668Z"
   },
   {
    "duration": 898,
    "start_time": "2021-06-21T04:51:54.833Z"
   },
   {
    "duration": 4098,
    "start_time": "2021-06-21T04:51:56.666Z"
   },
   {
    "duration": 5073,
    "start_time": "2021-06-21T04:52:06.569Z"
   },
   {
    "duration": 31,
    "start_time": "2021-06-21T04:52:11.645Z"
   },
   {
    "duration": 47,
    "start_time": "2021-06-21T04:52:11.693Z"
   },
   {
    "duration": 4,
    "start_time": "2021-06-21T10:05:16.845Z"
   },
   {
    "duration": 2144,
    "start_time": "2021-06-21T10:05:16.854Z"
   },
   {
    "duration": 26,
    "start_time": "2021-06-21T10:05:19.001Z"
   },
   {
    "duration": 12,
    "start_time": "2021-06-21T10:05:19.030Z"
   },
   {
    "duration": 7,
    "start_time": "2021-06-21T10:05:19.053Z"
   },
   {
    "duration": 32,
    "start_time": "2021-06-21T10:05:19.062Z"
   },
   {
    "duration": 27,
    "start_time": "2021-06-21T10:05:19.096Z"
   },
   {
    "duration": 20,
    "start_time": "2021-06-21T10:05:19.125Z"
   },
   {
    "duration": 83,
    "start_time": "2021-06-21T10:05:19.148Z"
   },
   {
    "duration": 7,
    "start_time": "2021-06-21T10:05:19.236Z"
   },
   {
    "duration": 13,
    "start_time": "2021-06-21T10:05:19.246Z"
   },
   {
    "duration": 11,
    "start_time": "2021-06-21T10:05:19.262Z"
   },
   {
    "duration": 64,
    "start_time": "2021-06-21T10:05:19.275Z"
   },
   {
    "duration": 24,
    "start_time": "2021-06-21T10:05:19.342Z"
   },
   {
    "duration": 10,
    "start_time": "2021-06-21T10:05:19.369Z"
   },
   {
    "duration": 18,
    "start_time": "2021-06-21T10:05:19.381Z"
   },
   {
    "duration": 22,
    "start_time": "2021-06-21T10:05:19.402Z"
   },
   {
    "duration": 6157,
    "start_time": "2021-06-21T10:05:19.427Z"
   },
   {
    "duration": 2152,
    "start_time": "2021-06-21T10:05:25.586Z"
   },
   {
    "duration": 272,
    "start_time": "2021-06-21T10:05:27.741Z"
   },
   {
    "duration": 143439,
    "start_time": "2021-06-21T10:05:28.016Z"
   },
   {
    "duration": 27,
    "start_time": "2021-06-21T10:07:51.457Z"
   },
   {
    "duration": 5,
    "start_time": "2021-06-21T10:07:51.487Z"
   },
   {
    "duration": 995,
    "start_time": "2021-06-21T10:07:51.494Z"
   },
   {
    "duration": 4237,
    "start_time": "2021-06-21T10:07:52.491Z"
   },
   {
    "duration": 4955,
    "start_time": "2021-06-21T10:07:56.730Z"
   },
   {
    "duration": 17,
    "start_time": "2021-06-21T10:08:01.688Z"
   },
   {
    "duration": 64,
    "start_time": "2021-06-21T10:08:01.710Z"
   },
   {
    "duration": 387,
    "start_time": "2021-06-21T13:31:55.411Z"
   },
   {
    "duration": 4,
    "start_time": "2021-06-21T13:32:02.693Z"
   },
   {
    "duration": 2231,
    "start_time": "2021-06-21T13:32:02.995Z"
   },
   {
    "duration": 27,
    "start_time": "2021-06-21T13:32:05.942Z"
   },
   {
    "duration": 17,
    "start_time": "2021-06-21T13:32:06.297Z"
   },
   {
    "duration": 5,
    "start_time": "2021-06-21T13:32:06.834Z"
   },
   {
    "duration": 12,
    "start_time": "2021-06-21T13:32:07.084Z"
   },
   {
    "duration": 28,
    "start_time": "2021-06-21T13:32:07.516Z"
   },
   {
    "duration": 32,
    "start_time": "2021-06-21T13:32:07.681Z"
   },
   {
    "duration": 82,
    "start_time": "2021-06-21T13:32:09.174Z"
   },
   {
    "duration": 10,
    "start_time": "2021-06-21T13:32:09.361Z"
   },
   {
    "duration": 8,
    "start_time": "2021-06-21T13:32:09.529Z"
   },
   {
    "duration": 8,
    "start_time": "2021-06-21T13:32:10.048Z"
   },
   {
    "duration": 13,
    "start_time": "2021-06-21T13:32:10.229Z"
   },
   {
    "duration": 49,
    "start_time": "2021-06-21T13:32:10.768Z"
   },
   {
    "duration": 21,
    "start_time": "2021-06-21T13:32:11.125Z"
   },
   {
    "duration": 27,
    "start_time": "2021-06-21T13:32:11.324Z"
   },
   {
    "duration": 24,
    "start_time": "2021-06-21T13:32:11.504Z"
   },
   {
    "duration": 7455,
    "start_time": "2021-06-21T13:32:12.039Z"
   },
   {
    "duration": 2893,
    "start_time": "2021-06-21T13:32:19.501Z"
   },
   {
    "duration": 385,
    "start_time": "2021-06-21T13:32:22.398Z"
   },
   {
    "duration": 138099,
    "start_time": "2021-06-21T13:34:21.591Z"
   },
   {
    "duration": 27,
    "start_time": "2021-06-21T13:36:43.942Z"
   },
   {
    "duration": 5,
    "start_time": "2021-06-21T13:36:46.463Z"
   },
   {
    "duration": 837,
    "start_time": "2021-06-21T13:36:47.624Z"
   },
   {
    "duration": 2759,
    "start_time": "2021-06-21T13:37:07.853Z"
   },
   {
    "duration": 3659,
    "start_time": "2021-06-21T13:40:27.294Z"
   },
   {
    "duration": 5209,
    "start_time": "2021-06-21T13:40:41.211Z"
   },
   {
    "duration": 4,
    "start_time": "2021-06-21T13:54:50.105Z"
   },
   {
    "duration": 3155,
    "start_time": "2021-06-21T13:54:50.315Z"
   },
   {
    "duration": 27,
    "start_time": "2021-06-21T13:54:53.473Z"
   },
   {
    "duration": 13,
    "start_time": "2021-06-21T13:54:53.504Z"
   },
   {
    "duration": 14,
    "start_time": "2021-06-21T13:54:53.520Z"
   },
   {
    "duration": 10,
    "start_time": "2021-06-21T13:54:53.536Z"
   },
   {
    "duration": 20,
    "start_time": "2021-06-21T13:54:53.548Z"
   },
   {
    "duration": 44,
    "start_time": "2021-06-21T13:54:53.571Z"
   },
   {
    "duration": 95,
    "start_time": "2021-06-21T13:54:53.619Z"
   },
   {
    "duration": 9,
    "start_time": "2021-06-21T13:54:53.717Z"
   },
   {
    "duration": 8,
    "start_time": "2021-06-21T13:54:53.728Z"
   },
   {
    "duration": 8,
    "start_time": "2021-06-21T13:54:54.361Z"
   },
   {
    "duration": 13,
    "start_time": "2021-06-21T13:54:54.642Z"
   },
   {
    "duration": 31,
    "start_time": "2021-06-21T13:54:55.486Z"
   },
   {
    "duration": 20,
    "start_time": "2021-06-21T13:54:56.101Z"
   },
   {
    "duration": 16,
    "start_time": "2021-06-21T13:54:56.344Z"
   },
   {
    "duration": 16,
    "start_time": "2021-06-21T13:54:56.550Z"
   },
   {
    "duration": 6375,
    "start_time": "2021-06-21T13:54:57.044Z"
   },
   {
    "duration": 2124,
    "start_time": "2021-06-21T13:55:03.422Z"
   },
   {
    "duration": 307,
    "start_time": "2021-06-21T13:55:05.549Z"
   },
   {
    "duration": 145162,
    "start_time": "2021-06-21T13:55:26.053Z"
   },
   {
    "duration": 28,
    "start_time": "2021-06-21T13:58:22.725Z"
   },
   {
    "duration": 6,
    "start_time": "2021-06-21T13:58:24.808Z"
   },
   {
    "duration": 928,
    "start_time": "2021-06-21T13:58:25.330Z"
   },
   {
    "duration": 82,
    "start_time": "2021-06-21T13:58:31.606Z"
   },
   {
    "duration": 2644,
    "start_time": "2021-06-21T13:58:35.724Z"
   },
   {
    "duration": 2712,
    "start_time": "2021-06-21T13:58:56.816Z"
   },
   {
    "duration": 4,
    "start_time": "2021-06-21T14:02:46.898Z"
   },
   {
    "duration": 2000,
    "start_time": "2021-06-21T14:02:47.047Z"
   },
   {
    "duration": 27,
    "start_time": "2021-06-21T14:02:49.050Z"
   },
   {
    "duration": 19,
    "start_time": "2021-06-21T14:02:49.081Z"
   },
   {
    "duration": 5,
    "start_time": "2021-06-21T14:02:49.104Z"
   },
   {
    "duration": 20,
    "start_time": "2021-06-21T14:02:49.111Z"
   },
   {
    "duration": 31,
    "start_time": "2021-06-21T14:02:49.134Z"
   },
   {
    "duration": 43,
    "start_time": "2021-06-21T14:02:49.168Z"
   },
   {
    "duration": 76,
    "start_time": "2021-06-21T14:02:49.308Z"
   },
   {
    "duration": 8,
    "start_time": "2021-06-21T14:02:49.471Z"
   },
   {
    "duration": 8,
    "start_time": "2021-06-21T14:02:49.634Z"
   },
   {
    "duration": 8,
    "start_time": "2021-06-21T14:02:50.147Z"
   },
   {
    "duration": 15,
    "start_time": "2021-06-21T14:02:50.315Z"
   },
   {
    "duration": 27,
    "start_time": "2021-06-21T14:02:50.834Z"
   },
   {
    "duration": 15,
    "start_time": "2021-06-21T14:02:51.180Z"
   },
   {
    "duration": 23,
    "start_time": "2021-06-21T14:02:51.359Z"
   },
   {
    "duration": 20,
    "start_time": "2021-06-21T14:02:51.535Z"
   },
   {
    "duration": 6536,
    "start_time": "2021-06-21T14:02:51.888Z"
   },
   {
    "duration": 2148,
    "start_time": "2021-06-21T14:02:58.428Z"
   },
   {
    "duration": 376,
    "start_time": "2021-06-21T14:03:00.580Z"
   },
   {
    "duration": 147569,
    "start_time": "2021-06-21T14:03:01.325Z"
   },
   {
    "duration": 28,
    "start_time": "2021-06-21T14:05:28.901Z"
   },
   {
    "duration": 3975,
    "start_time": "2021-06-21T14:06:26.153Z"
   },
   {
    "duration": 887,
    "start_time": "2021-06-21T14:07:12.822Z"
   },
   {
    "duration": 703,
    "start_time": "2021-06-21T14:07:24.069Z"
   },
   {
    "duration": 5,
    "start_time": "2021-06-21T14:11:18.381Z"
   },
   {
    "duration": 1984,
    "start_time": "2021-06-21T14:11:18.574Z"
   },
   {
    "duration": 26,
    "start_time": "2021-06-21T14:11:20.561Z"
   },
   {
    "duration": 12,
    "start_time": "2021-06-21T14:11:20.590Z"
   },
   {
    "duration": 7,
    "start_time": "2021-06-21T14:11:20.605Z"
   },
   {
    "duration": 16,
    "start_time": "2021-06-21T14:11:20.614Z"
   },
   {
    "duration": 22,
    "start_time": "2021-06-21T14:11:20.632Z"
   },
   {
    "duration": 45,
    "start_time": "2021-06-21T14:11:20.657Z"
   },
   {
    "duration": 72,
    "start_time": "2021-06-21T14:11:21.029Z"
   },
   {
    "duration": 9,
    "start_time": "2021-06-21T14:11:21.128Z"
   },
   {
    "duration": 8,
    "start_time": "2021-06-21T14:11:21.326Z"
   },
   {
    "duration": 9,
    "start_time": "2021-06-21T14:11:21.880Z"
   },
   {
    "duration": 13,
    "start_time": "2021-06-21T14:11:22.096Z"
   },
   {
    "duration": 24,
    "start_time": "2021-06-21T14:11:22.722Z"
   },
   {
    "duration": 13,
    "start_time": "2021-06-21T14:11:23.377Z"
   },
   {
    "duration": 15,
    "start_time": "2021-06-21T14:11:23.603Z"
   },
   {
    "duration": 15,
    "start_time": "2021-06-21T14:11:23.830Z"
   },
   {
    "duration": 5758,
    "start_time": "2021-06-21T14:11:24.554Z"
   },
   {
    "duration": 2095,
    "start_time": "2021-06-21T14:11:30.314Z"
   },
   {
    "duration": 342,
    "start_time": "2021-06-21T14:11:32.413Z"
   },
   {
    "duration": 141126,
    "start_time": "2021-06-21T14:11:32.758Z"
   },
   {
    "duration": 34,
    "start_time": "2021-06-21T14:13:53.886Z"
   },
   {
    "duration": 879,
    "start_time": "2021-06-21T14:16:51.565Z"
   },
   {
    "duration": 720,
    "start_time": "2021-06-21T14:18:14.997Z"
   },
   {
    "duration": 353,
    "start_time": "2021-06-21T14:29:55.007Z"
   },
   {
    "duration": 297,
    "start_time": "2021-06-21T14:29:55.665Z"
   },
   {
    "duration": 361,
    "start_time": "2021-06-21T14:29:55.603Z"
   },
   {
    "duration": 3,
    "start_time": "2021-06-21T14:30:23.229Z"
   },
   {
    "duration": 3029,
    "start_time": "2021-06-21T14:30:23.771Z"
   },
   {
    "duration": 34,
    "start_time": "2021-06-21T14:30:27.972Z"
   },
   {
    "duration": 11,
    "start_time": "2021-06-21T14:30:30.483Z"
   },
   {
    "duration": 5,
    "start_time": "2021-06-21T14:30:31.140Z"
   },
   {
    "duration": 15,
    "start_time": "2021-06-21T14:30:31.397Z"
   },
   {
    "duration": 24,
    "start_time": "2021-06-21T14:30:31.894Z"
   },
   {
    "duration": 18,
    "start_time": "2021-06-21T14:30:32.079Z"
   },
   {
    "duration": 83,
    "start_time": "2021-06-21T14:30:33.169Z"
   },
   {
    "duration": 10,
    "start_time": "2021-06-21T14:30:35.270Z"
   },
   {
    "duration": 8,
    "start_time": "2021-06-21T14:30:35.682Z"
   },
   {
    "duration": 7,
    "start_time": "2021-06-21T14:30:36.279Z"
   },
   {
    "duration": 13,
    "start_time": "2021-06-21T14:30:36.460Z"
   },
   {
    "duration": 26,
    "start_time": "2021-06-21T14:30:37.038Z"
   },
   {
    "duration": 15,
    "start_time": "2021-06-21T14:30:37.673Z"
   },
   {
    "duration": 17,
    "start_time": "2021-06-21T14:30:37.893Z"
   },
   {
    "duration": 16,
    "start_time": "2021-06-21T14:30:38.087Z"
   },
   {
    "duration": 6407,
    "start_time": "2021-06-21T14:30:38.428Z"
   },
   {
    "duration": 2344,
    "start_time": "2021-06-21T14:30:44.837Z"
   },
   {
    "duration": 373,
    "start_time": "2021-06-21T14:30:47.183Z"
   },
   {
    "duration": 157388,
    "start_time": "2021-06-21T14:30:47.559Z"
   },
   {
    "duration": 28,
    "start_time": "2021-06-21T14:33:24.950Z"
   },
   {
    "duration": 139,
    "start_time": "2021-06-21T14:34:49.113Z"
   },
   {
    "duration": 3457,
    "start_time": "2021-06-21T14:35:01.656Z"
   },
   {
    "duration": 4,
    "start_time": "2021-06-21T14:42:32.851Z"
   },
   {
    "duration": 2119,
    "start_time": "2021-06-21T14:42:32.858Z"
   },
   {
    "duration": 30,
    "start_time": "2021-06-21T14:42:34.981Z"
   },
   {
    "duration": 15,
    "start_time": "2021-06-21T14:42:35.015Z"
   },
   {
    "duration": 4,
    "start_time": "2021-06-21T14:42:35.032Z"
   },
   {
    "duration": 11,
    "start_time": "2021-06-21T14:42:35.038Z"
   },
   {
    "duration": 57,
    "start_time": "2021-06-21T14:42:35.051Z"
   },
   {
    "duration": 21,
    "start_time": "2021-06-21T14:42:35.114Z"
   },
   {
    "duration": 89,
    "start_time": "2021-06-21T14:42:35.138Z"
   },
   {
    "duration": 9,
    "start_time": "2021-06-21T14:42:35.230Z"
   },
   {
    "duration": 19,
    "start_time": "2021-06-21T14:42:35.242Z"
   },
   {
    "duration": 12,
    "start_time": "2021-06-21T14:42:35.263Z"
   },
   {
    "duration": 37,
    "start_time": "2021-06-21T14:42:35.277Z"
   },
   {
    "duration": 26,
    "start_time": "2021-06-21T14:42:35.317Z"
   },
   {
    "duration": 11,
    "start_time": "2021-06-21T14:42:35.346Z"
   },
   {
    "duration": 34,
    "start_time": "2021-06-21T14:42:35.401Z"
   },
   {
    "duration": 20,
    "start_time": "2021-06-21T14:42:35.438Z"
   },
   {
    "duration": 7069,
    "start_time": "2021-06-21T14:42:35.460Z"
   },
   {
    "duration": 2231,
    "start_time": "2021-06-21T14:42:42.532Z"
   },
   {
    "duration": 299,
    "start_time": "2021-06-21T14:42:44.766Z"
   },
   {
    "duration": 5,
    "start_time": "2021-06-21T14:43:20.027Z"
   },
   {
    "duration": 2539,
    "start_time": "2021-06-21T14:43:20.036Z"
   },
   {
    "duration": 26,
    "start_time": "2021-06-21T14:43:22.581Z"
   },
   {
    "duration": 13,
    "start_time": "2021-06-21T14:43:24.558Z"
   },
   {
    "duration": 4,
    "start_time": "2021-06-21T14:43:25.102Z"
   },
   {
    "duration": 8,
    "start_time": "2021-06-21T14:43:25.367Z"
   },
   {
    "duration": 22,
    "start_time": "2021-06-21T14:43:25.739Z"
   },
   {
    "duration": 18,
    "start_time": "2021-06-21T14:43:25.915Z"
   },
   {
    "duration": 146,
    "start_time": "2021-06-21T14:43:27.337Z"
   },
   {
    "duration": 8,
    "start_time": "2021-06-21T14:43:27.528Z"
   },
   {
    "duration": 9,
    "start_time": "2021-06-21T14:43:27.750Z"
   },
   {
    "duration": 8,
    "start_time": "2021-06-21T14:43:28.611Z"
   },
   {
    "duration": 17,
    "start_time": "2021-06-21T14:43:28.791Z"
   },
   {
    "duration": 26,
    "start_time": "2021-06-21T14:43:29.517Z"
   },
   {
    "duration": 16,
    "start_time": "2021-06-21T14:43:29.969Z"
   },
   {
    "duration": 16,
    "start_time": "2021-06-21T14:43:30.230Z"
   },
   {
    "duration": 19,
    "start_time": "2021-06-21T14:43:30.410Z"
   },
   {
    "duration": 7407,
    "start_time": "2021-06-21T14:43:30.822Z"
   },
   {
    "duration": 2223,
    "start_time": "2021-06-21T14:43:38.232Z"
   },
   {
    "duration": 303,
    "start_time": "2021-06-21T14:43:40.459Z"
   },
   {
    "duration": 158837,
    "start_time": "2021-06-21T14:43:40.764Z"
   },
   {
    "duration": 27,
    "start_time": "2021-06-21T14:46:30.249Z"
   },
   {
    "duration": 2779,
    "start_time": "2021-06-21T14:46:40.415Z"
   },
   {
    "duration": 4979,
    "start_time": "2021-06-21T14:46:45.759Z"
   },
   {
    "duration": 5311,
    "start_time": "2021-06-21T14:47:02.084Z"
   },
   {
    "duration": 17,
    "start_time": "2021-06-21T14:47:55.451Z"
   },
   {
    "duration": 49,
    "start_time": "2021-06-21T14:47:55.965Z"
   }
  ],
  "kernelspec": {
   "display_name": "Python 3",
   "language": "python",
   "name": "python3"
  },
  "language_info": {
   "codemirror_mode": {
    "name": "ipython",
    "version": 3
   },
   "file_extension": ".py",
   "mimetype": "text/x-python",
   "name": "python",
   "nbconvert_exporter": "python",
   "pygments_lexer": "ipython3",
   "version": "3.8.5"
  },
  "toc": {
   "base_numbering": 1,
   "nav_menu": {},
   "number_sections": true,
   "sideBar": true,
   "skip_h1_title": true,
   "title_cell": "Table of Contents",
   "title_sidebar": "Contents",
   "toc_cell": false,
   "toc_position": {},
   "toc_section_display": true,
   "toc_window_display": false
  }
 },
 "nbformat": 4,
 "nbformat_minor": 2
}
